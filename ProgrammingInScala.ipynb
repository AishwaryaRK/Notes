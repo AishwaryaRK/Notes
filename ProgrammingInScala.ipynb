{
 "cells": [
  {
   "cell_type": "markdown",
   "metadata": {},
   "source": [
    "* If the function is recursive, explicitly specify the return type.\n",
    "* Avoid iterating through arrays with indexes\n",
    "* Imperative style - give one imperative cmd at a time, iterate with loops, often mutate state shared between functions.\n",
    "* Functional style - functions are first class constructs\n",
    "* function literal\n",
    "    (a: Int, b: Int) => a + b\n",
    "    \n",
    "* Methods should not have side effects. A method's only act should be to compute and  return a value.\n",
    "* Make objects immutable\n",
    "* Scala Array mutable, List immutable\n",
    "* auxillary functions - func def inside a func, not visible from outside\n",
    "* tail recursion - if the last action of the func is to call itself without having any other operation to do.\n",
    "* call-by-value param (a: Int)\n",
    "* call-by-name param (a: =>Int)\n",
    "* Polymorphism: subtypying, generics\n"
   ]
  },
  {
   "cell_type": "code",
   "execution_count": 2,
   "metadata": {},
   "outputs": [
    {
     "data": {
      "text/plain": [
       "\u001b[36mres1_0\u001b[39m: \u001b[32mInt\u001b[39m => \u001b[32mInt\u001b[39m = ammonite.$sess.cmd1$Helper$$Lambda$1837/1259057828@2becbb06\n",
       "defined \u001b[32mfunction\u001b[39m \u001b[36msum\u001b[39m\n",
       "\u001b[36mres1_2\u001b[39m: \u001b[32mInt\u001b[39m = \u001b[32m9\u001b[39m"
      ]
     },
     "execution_count": 2,
     "metadata": {},
     "output_type": "execute_result"
    }
   ],
   "source": [
    "// anonymous func - func without name \n",
    "(x: Int) => x*x\n",
    "\n",
    "def sum(f: Int => Int, a:Int, b:Int) = f(a+b)\n",
    "\n",
    "sum((x: Int) => x*x, 1, 2)"
   ]
  },
  {
   "cell_type": "code",
   "execution_count": 4,
   "metadata": {},
   "outputs": [
    {
     "data": {
      "text/plain": [
       "\u001b[36mf\u001b[39m: \u001b[32mInt\u001b[39m => \u001b[32mInt\u001b[39m = ammonite.$sess.cmd3$Helper$$Lambda$2157/718905716@a19fe95\n",
       "\u001b[36mres3_1\u001b[39m: \u001b[32mInt\u001b[39m = \u001b[32m49\u001b[39m"
      ]
     },
     "execution_count": 4,
     "metadata": {},
     "output_type": "execute_result"
    }
   ],
   "source": [
    "// Functions as objects\n",
    "\n",
    "val f = (x: Int) => x * x\n",
    "f(7)\n",
    "\n",
    "// would be\n",
    "// val f = new Function1[Int,Int]: \n",
    "//     def apply(x: Int) = x * x\n",
    "\n",
    "// f.apply(7)\n",
    "\n"
   ]
  },
  {
   "cell_type": "code",
   "execution_count": 3,
   "metadata": {},
   "outputs": [
    {
     "data": {
      "text/plain": [
       "defined \u001b[32mfunction\u001b[39m \u001b[36msqsum\u001b[39m\n",
       "\u001b[36mres2_1\u001b[39m: \u001b[32mInt\u001b[39m = \u001b[32m9\u001b[39m"
      ]
     },
     "execution_count": 3,
     "metadata": {},
     "output_type": "execute_result"
    }
   ],
   "source": [
    "// Currying - multiple parameters\n",
    "\n",
    "def sqsum(f: Int => Int)(a: Int, b: Int) = f(a+b)\n",
    "\n",
    "sqsum(x => x*x)(1,2)"
   ]
  },
  {
   "cell_type": "code",
   "execution_count": 1,
   "metadata": {},
   "outputs": [
    {
     "data": {
      "text/plain": [
       "\u001b[36mname\u001b[39m: \u001b[32mString\u001b[39m = \u001b[32m\"scaAla\"\u001b[39m\n",
       "\u001b[36mnameHasUpperCase\u001b[39m: \u001b[32mBoolean\u001b[39m = true"
      ]
     },
     "execution_count": 1,
     "metadata": {},
     "output_type": "execute_result"
    }
   ],
   "source": [
    "val name = \"scaAla\"\n",
    "val nameHasUpperCase = name.exists(_.isUpper)"
   ]
  },
  {
   "cell_type": "code",
   "execution_count": 17,
   "metadata": {},
   "outputs": [
    {
     "name": "stdout",
     "output_type": "stream",
     "text": [
      "1\n",
      "2\n",
      "3\n",
      "1\n",
      "2\n",
      "3\n",
      "1\n",
      "2\n",
      "3\n"
     ]
    },
    {
     "data": {
      "text/plain": [
       "\u001b[36ma\u001b[39m: \u001b[32mList\u001b[39m[\u001b[32mInt\u001b[39m] = \u001b[33mList\u001b[39m(\u001b[32m1\u001b[39m, \u001b[32m2\u001b[39m, \u001b[32m3\u001b[39m)\n",
       "\u001b[36mres16_3\u001b[39m: \u001b[32mList\u001b[39m[\u001b[32mInt\u001b[39m] = \u001b[33mList\u001b[39m(\u001b[32m3\u001b[39m, \u001b[32m6\u001b[39m, \u001b[32m9\u001b[39m)\n",
       "\u001b[36mres16_5\u001b[39m: \u001b[32mRange\u001b[39m.\u001b[32mInclusive\u001b[39m = \u001b[33mRange\u001b[39m(\u001b[32m4\u001b[39m, \u001b[32m5\u001b[39m, \u001b[32m6\u001b[39m)"
      ]
     },
     "execution_count": 17,
     "metadata": {},
     "output_type": "execute_result"
    }
   ],
   "source": [
    "val a = List(1,2,3)\n",
    "a.foreach( e => println(e))\n",
    "a.foreach(println)\n",
    "a.map(_ * 3)\n",
    "for (e <- a) println(e)\n",
    "\n",
    "4 to 6"
   ]
  },
  {
   "cell_type": "code",
   "execution_count": 10,
   "metadata": {},
   "outputs": [
    {
     "name": "stdout",
     "output_type": "stream",
     "text": [
      "null\n"
     ]
    },
    {
     "data": {
      "text/plain": [
       "\u001b[36ma\u001b[39m: \u001b[32mArray\u001b[39m[\u001b[32mString\u001b[39m] = \u001b[33mArray\u001b[39m(\u001b[32m\"ab\"\u001b[39m, \u001b[32mnull\u001b[39m, \u001b[32mnull\u001b[39m)\n",
       "\u001b[36mres9_3\u001b[39m: \u001b[32mInt\u001b[39m = \u001b[32m3\u001b[39m\n",
       "\u001b[36mb\u001b[39m: \u001b[32mArray\u001b[39m[\u001b[32mString\u001b[39m] = \u001b[33mArray\u001b[39m(\u001b[32m\"ab\"\u001b[39m, \u001b[32m\"bc\"\u001b[39m, \u001b[32m\"ca\"\u001b[39m)"
      ]
     },
     "execution_count": 10,
     "metadata": {},
     "output_type": "execute_result"
    }
   ],
   "source": [
    "val a = new Array[String](3)   // avoid such way of creating and initializing array\n",
    "a(0) = \"ab\"  // a.update(0, \"ab\")\n",
    "println(a(1)) // a.apply(1)\n",
    "1 + 2 // (1).+(2)\n",
    "\n",
    "val b = Array(\"ab\",\"bc\", \"ca\") // better way of creating and initializing array\n",
    "// Array.apply(\"ab\",\"bc\", \"ca\") , here apply method from companion object of class Array"
   ]
  },
  {
   "cell_type": "code",
   "execution_count": 16,
   "metadata": {},
   "outputs": [
    {
     "data": {
      "text/plain": [
       "\u001b[36ma\u001b[39m: \u001b[32mList\u001b[39m[\u001b[32mInt\u001b[39m] = \u001b[33mList\u001b[39m(\u001b[32m1\u001b[39m, \u001b[32m2\u001b[39m)\n",
       "\u001b[36mb\u001b[39m: \u001b[32mList\u001b[39m[\u001b[32mInt\u001b[39m] = \u001b[33mList\u001b[39m(\u001b[32m3\u001b[39m, \u001b[32m4\u001b[39m)\n",
       "\u001b[36mc\u001b[39m: \u001b[32mList\u001b[39m[\u001b[32mInt\u001b[39m] = \u001b[33mList\u001b[39m(\u001b[32m1\u001b[39m, \u001b[32m2\u001b[39m, \u001b[32m3\u001b[39m, \u001b[32m4\u001b[39m)\n",
       "\u001b[36md\u001b[39m: \u001b[32mList\u001b[39m[\u001b[32mAny\u001b[39m] = \u001b[33mList\u001b[39m(\u001b[33mList\u001b[39m(\u001b[32m1\u001b[39m, \u001b[32m2\u001b[39m), \u001b[32m3\u001b[39m, \u001b[32m4\u001b[39m)\n",
       "\u001b[36me\u001b[39m: \u001b[32mList\u001b[39m[\u001b[32mAny\u001b[39m] = \u001b[33mList\u001b[39m(\u001b[32m\"aa\"\u001b[39m, \u001b[32m1\u001b[39m, \u001b[32m2\u001b[39m)"
      ]
     },
     "execution_count": 16,
     "metadata": {},
     "output_type": "execute_result"
    }
   ],
   "source": [
    "// List concatenation\n",
    "\n",
    "val a = List(1,2)\n",
    "val b = List(3,4)\n",
    "val c = a ::: b\n",
    "\n",
    "// cons ::  prepends entire param to beginning of second param\n",
    "val d = a :: b\n",
    "val e = \"aa\" :: a\n",
    "\n",
    "// operator associativity\n",
    "// a * b  -  a.*(b)   method is invoked on the left operand unless the method name ends in a colon\n",
    "// \"aa\" :: a  -  a.::(\"aa\")"
   ]
  },
  {
   "cell_type": "markdown",
   "metadata": {},
   "source": [
    "* Do not append to List (costly operation), use prepend and when done reverse, or can use ListBuffer (mutable) and when done call toList"
   ]
  },
  {
   "cell_type": "code",
   "execution_count": 58,
   "metadata": {},
   "outputs": [
    {
     "name": "stdout",
     "output_type": "stream",
     "text": [
      "applemangoabcapplemangoabc"
     ]
    },
    {
     "data": {
      "text/plain": [
       "\u001b[36ma\u001b[39m: \u001b[32mList\u001b[39m[\u001b[32mString\u001b[39m] = \u001b[33mList\u001b[39m(\u001b[32m\"apple\"\u001b[39m, \u001b[32m\"mango\"\u001b[39m, \u001b[32m\"abc\"\u001b[39m)\n",
       "\u001b[36mres57_1\u001b[39m: \u001b[32mInt\u001b[39m = \u001b[32m2\u001b[39m\n",
       "\u001b[36mres57_2\u001b[39m: \u001b[32mList\u001b[39m[\u001b[32mString\u001b[39m] = \u001b[33mList\u001b[39m(\u001b[32m\"abc\"\u001b[39m)\n",
       "\u001b[36mres57_3\u001b[39m: \u001b[32mList\u001b[39m[\u001b[32mString\u001b[39m] = \u001b[33mList\u001b[39m(\u001b[32m\"apple\"\u001b[39m)\n",
       "\u001b[36mres57_4\u001b[39m: \u001b[32mBoolean\u001b[39m = true\n",
       "\u001b[36mres57_5\u001b[39m: \u001b[32mList\u001b[39m[\u001b[32mString\u001b[39m] = \u001b[33mList\u001b[39m(\u001b[32m\"apple\"\u001b[39m, \u001b[32m\"mango\"\u001b[39m)\n",
       "\u001b[36mres57_6\u001b[39m: \u001b[32mList\u001b[39m[\u001b[32mString\u001b[39m] = \u001b[33mList\u001b[39m(\u001b[32m\"abc\"\u001b[39m)\n",
       "\u001b[36mres57_7\u001b[39m: \u001b[32mBoolean\u001b[39m = false\n",
       "\u001b[36mres57_8\u001b[39m: \u001b[32mString\u001b[39m = \u001b[32m\"apple\"\u001b[39m\n",
       "\u001b[36mres57_9\u001b[39m: \u001b[32mString\u001b[39m = \u001b[32m\"abc\"\u001b[39m\n",
       "\u001b[36mres57_10\u001b[39m: \u001b[32mList\u001b[39m[\u001b[32mString\u001b[39m] = \u001b[33mList\u001b[39m(\u001b[32m\"apple\"\u001b[39m, \u001b[32m\"mango\"\u001b[39m)\n",
       "\u001b[36mres57_11\u001b[39m: \u001b[32mList\u001b[39m[\u001b[32mString\u001b[39m] = \u001b[33mList\u001b[39m(\u001b[32m\"mango\"\u001b[39m, \u001b[32m\"abc\"\u001b[39m)\n",
       "\u001b[36mres57_12\u001b[39m: \u001b[32mBoolean\u001b[39m = false\n",
       "\u001b[36mres57_13\u001b[39m: \u001b[32mInt\u001b[39m = \u001b[32m3\u001b[39m\n",
       "\u001b[36mres57_14\u001b[39m: \u001b[32mList\u001b[39m[\u001b[32mString\u001b[39m] = \u001b[33mList\u001b[39m(\u001b[32m\"apple1\"\u001b[39m, \u001b[32m\"mango1\"\u001b[39m, \u001b[32m\"abc1\"\u001b[39m)\n",
       "\u001b[36mres57_15\u001b[39m: \u001b[32mString\u001b[39m = \u001b[32m\"apple*mango*abc\"\u001b[39m\n",
       "\u001b[36mres57_16\u001b[39m: \u001b[32mList\u001b[39m[\u001b[32mString\u001b[39m] = \u001b[33mList\u001b[39m(\u001b[32m\"abc\"\u001b[39m, \u001b[32m\"mango\"\u001b[39m, \u001b[32m\"apple\"\u001b[39m)\n",
       "\u001b[36mres57_17\u001b[39m: \u001b[32mList\u001b[39m[\u001b[32mString\u001b[39m] = \u001b[33mList\u001b[39m(\u001b[32m\"apple\"\u001b[39m, \u001b[32m\"abc\"\u001b[39m, \u001b[32m\"mango\"\u001b[39m)\n",
       "\u001b[36mres57_18\u001b[39m: \u001b[32mList\u001b[39m[\u001b[32mString\u001b[39m] = \u001b[33mList\u001b[39m(\u001b[32m\"apple\"\u001b[39m, \u001b[32m\"abc\"\u001b[39m, \u001b[32m\"mango\"\u001b[39m)\n",
       "\u001b[36mres57_19\u001b[39m: \u001b[32mList\u001b[39m[\u001b[32mString\u001b[39m] = \u001b[33mList\u001b[39m(\u001b[32m\"abc\"\u001b[39m, \u001b[32m\"apple\"\u001b[39m, \u001b[32m\"mango\"\u001b[39m)"
      ]
     },
     "execution_count": 58,
     "metadata": {},
     "output_type": "execute_result"
    }
   ],
   "source": [
    "// List methods\n",
    "\n",
    "val a = List(\"apple\", \"mango\", \"abc\")\n",
    "a.count(s => s.length == 5)\n",
    "a.drop(2)\n",
    "a.dropRight(2)\n",
    "a.exists(s => s == \"mango\")\n",
    "a.filter(s => s.length == 5)\n",
    "a.filterNot(s => s.length == 5)\n",
    "a.forall(s => s.endsWith(\"a\"))  // checks the condition for all elements of list\n",
    "a.head\n",
    "a.last\n",
    "a.init  // returns list of all elements except last element\n",
    "a.tail  // returns list of all elements except first element\n",
    "a.isEmpty\n",
    "a.length\n",
    "a.map(_ + \"1\") // a.map(s => s + \"1\")\n",
    "a.mkString(\"*\")\n",
    "a.reverse \n",
    "a.sortWith((s,t) => s.charAt(0).toLower < t.charAt(0).toLower)\n",
    "a.sortWith(_.charAt(0).toLower < _.charAt(0).toLower)\n",
    "a.sorted\n",
    "\n",
    "a.foreach(s => print(s))\n",
    "a.foreach(print)"
   ]
  },
  {
   "cell_type": "markdown",
   "metadata": {},
   "source": [
    "#### List Patterns\n",
    "\n",
    "- Nil\n",
    "- p :: ps        &nbsp;&nbsp;&nbsp;&nbsp;&nbsp;&nbsp;&nbsp;  &nbsp;&nbsp;&nbsp;&nbsp;   &nbsp;&nbsp;&nbsp;&nbsp;      A pattern that matches a list with a head matching p and a tail matching ps.\n",
    "- List(p1, ..., pn)  &nbsp;&nbsp;&nbsp;&nbsp;   same as p1 :: ... :: pn :: Nil\n",
    "\n",
    "Example\n",
    "- 1 :: 2 :: xs    &nbsp;&nbsp;&nbsp;&nbsp;        Lists of that start with 1 and then 2\n",
    "- x :: Nil       &nbsp;&nbsp;&nbsp;&nbsp;&nbsp;&nbsp;&nbsp;&nbsp;&nbsp;    Lists of length 1\n",
    "- List(x)     &nbsp;&nbsp;&nbsp;&nbsp;&nbsp;&nbsp;&nbsp;&nbsp;&nbsp;&nbsp;        Same as x :: Nil\n",
    "- List()     &nbsp;&nbsp;&nbsp;&nbsp; &nbsp;&nbsp;&nbsp;&nbsp;&nbsp; &nbsp;     The empty list, same as Nil\n",
    "- List(2 :: xs)  &nbsp;&nbsp;&nbsp;   A list that contains as only element another list that starts with 2."
   ]
  },
  {
   "cell_type": "code",
   "execution_count": 3,
   "metadata": {},
   "outputs": [
    {
     "data": {
      "text/plain": [
       "\u001b[36mnums1\u001b[39m: \u001b[32mList\u001b[39m[\u001b[32mInt\u001b[39m] = \u001b[33mList\u001b[39m(\u001b[32m1\u001b[39m, \u001b[32m2\u001b[39m, \u001b[32m3\u001b[39m, \u001b[32m4\u001b[39m)\n",
       "\u001b[36mnums2\u001b[39m: \u001b[32mList\u001b[39m[\u001b[32mInt\u001b[39m] = \u001b[33mList\u001b[39m(\u001b[32m1\u001b[39m, \u001b[32m2\u001b[39m, \u001b[32m3\u001b[39m, \u001b[32m4\u001b[39m)"
      ]
     },
     "execution_count": 3,
     "metadata": {},
     "output_type": "execute_result"
    }
   ],
   "source": [
    "// :: operator is Right associative\n",
    "val nums1 =1::(2::(3::(4::Nil)))\n",
    "val nums2 = 1 :: 2 :: 3 :: 4 :: Nil"
   ]
  },
  {
   "cell_type": "markdown",
   "metadata": {},
   "source": [
    "* Tuples, Lists - immutable\n",
    "* unlike Lists, tuples can contain different types of elements\n",
    "* Tuples are useful when you want to return multiple objects from a method.\n",
    "* Tuple - One-based index\n",
    "* Maps, Sets - immutable and mutable"
   ]
  },
  {
   "cell_type": "code",
   "execution_count": 2,
   "metadata": {},
   "outputs": [
    {
     "data": {
      "text/plain": [
       "\u001b[36ma\u001b[39m: (\u001b[32mInt\u001b[39m, \u001b[32mString\u001b[39m, \u001b[32mChar\u001b[39m) = (\u001b[32m2\u001b[39m, \u001b[32m\"ab\"\u001b[39m, \u001b[32m'c'\u001b[39m)\n",
       "\u001b[36mres1_1\u001b[39m: \u001b[32mInt\u001b[39m = \u001b[32m2\u001b[39m"
      ]
     },
     "execution_count": 2,
     "metadata": {},
     "output_type": "execute_result"
    }
   ],
   "source": [
    "val a = (2,\"ab\",'c')\n",
    "a._1"
   ]
  },
  {
   "cell_type": "code",
   "execution_count": 5,
   "metadata": {},
   "outputs": [
    {
     "data": {
      "text/html": [
       "<div class=\"jp-RenderedText\">\n",
       "<pre><code><span style=\"color: rgb(0, 187, 187)\"><span class=\"ansi-cyan-fg\">a</span></span>: <span style=\"color: rgb(0, 187, 0)\"><span class=\"ansi-green-fg\">Set</span></span>[<span style=\"color: rgb(0, 187, 0)\"><span class=\"ansi-green-fg\">Int</span></span>] = <span style=\"color: yellow\"><span class=\"ansi-yellow-fg\">Set</span></span>(<span style=\"color: rgb(0, 187, 0)\"><span class=\"ansi-green-fg\">1</span></span>, <span style=\"color: rgb(0, 187, 0)\"><span class=\"ansi-green-fg\">2</span></span>, <span style=\"color: rgb(0, 187, 0)\"><span class=\"ansi-green-fg\">3</span></span>)\n",
       "<span style=\"color: rgb(0, 187, 187)\"><span class=\"ansi-cyan-fg\">res4_2</span></span>: <span style=\"color: rgb(0, 187, 0)\"><span class=\"ansi-green-fg\">Boolean</span></span> = true</code></pre>\n",
       "</div>"
      ],
      "text/plain": [
       "\u001b[36ma\u001b[39m: \u001b[32mSet\u001b[39m[\u001b[32mInt\u001b[39m] = \u001b[33mSet\u001b[39m(\u001b[32m1\u001b[39m, \u001b[32m2\u001b[39m, \u001b[32m3\u001b[39m)\n",
       "\u001b[36mres4_2\u001b[39m: \u001b[32mBoolean\u001b[39m = true"
      ]
     },
     "metadata": {},
     "output_type": "display_data"
    }
   ],
   "source": [
    "var a = Set(1,2)  // with val you can use mutable set\n",
    "a += 3\n",
    "a.contains(3)"
   ]
  },
  {
   "cell_type": "code",
   "execution_count": 7,
   "metadata": {},
   "outputs": [
    {
     "data": {
      "text/plain": [
       "\u001b[36ma\u001b[39m: \u001b[32mMap\u001b[39m[\u001b[32mInt\u001b[39m, \u001b[32mString\u001b[39m] = \u001b[33mMap\u001b[39m(\u001b[32m1\u001b[39m -> \u001b[32m\"ab\"\u001b[39m, \u001b[32m2\u001b[39m -> \u001b[32m\"bc\"\u001b[39m)\n",
       "\u001b[36mres6_1\u001b[39m: \u001b[32mString\u001b[39m = \u001b[32m\"bc\"\u001b[39m"
      ]
     },
     "execution_count": 7,
     "metadata": {},
     "output_type": "execute_result"
    }
   ],
   "source": [
    "val a = Map(1->\"ab\",2->\"bc\") // Map[Int,String](1->\"ab\",2->\"bc\")\n",
    "a(2)"
   ]
  },
  {
   "cell_type": "markdown",
   "metadata": {},
   "source": [
    "* Recognizing functional style\n",
    "    * only vals, no vars (immutable objects)\n",
    "    * one sign of function with side effects is that it's result/return type is Unit, if the function isn't returning any interesting value.\n",
    "* The recommended style for methods is to avoid having explicit, and especially, multiple return statements.\n",
    "* It is better to explicitly provide the result types of public methods declared in the class for readers of the code.\n"
   ]
  },
  {
   "cell_type": "code",
   "execution_count": 8,
   "metadata": {},
   "outputs": [
    {
     "data": {
      "text/plain": [
       "\u001b[36mres7\u001b[39m: \u001b[32mInt\u001b[39m = \u001b[32m55\u001b[39m"
      ]
     },
     "execution_count": 8,
     "metadata": {},
     "output_type": "execute_result"
    }
   ],
   "source": [
    "23.max(55)"
   ]
  },
  {
   "cell_type": "markdown",
   "metadata": {},
   "source": [
    "* reduceLeft method applies the passed func to the first two elements of the list then applies the func to the result of the first application and next element in list and so on."
   ]
  },
  {
   "cell_type": "code",
   "execution_count": 9,
   "metadata": {},
   "outputs": [
    {
     "data": {
      "text/plain": [
       "\u001b[36mlines\u001b[39m: \u001b[32mList\u001b[39m[\u001b[32mString\u001b[39m] = \u001b[33mList\u001b[39m(\u001b[32m\"asdf\"\u001b[39m, \u001b[32m\"qwerty\"\u001b[39m, \u001b[32m\"zxcvbnm\"\u001b[39m)\n",
       "\u001b[36mlongestLine\u001b[39m: \u001b[32mString\u001b[39m = \u001b[32m\"zxcvbnm\"\u001b[39m"
      ]
     },
     "execution_count": 9,
     "metadata": {},
     "output_type": "execute_result"
    }
   ],
   "source": [
    "val lines = List(\"asdf\",\"qwerty\",\"zxcvbnm\")\n",
    "val longestLine = lines.reduceLeft{(a,b) => if (a.length > b.length) a else b}"
   ]
  },
  {
   "cell_type": "markdown",
   "metadata": {},
   "source": [
    "* Classes in scala cannot have static members(fields/methods)\n",
    "* Singleton object in scala - object A {}\n",
    "* When a singleton object shares same name with a class its called the companion object of the class and the class is called companion class of the singleton object.\n",
    "* A class and its companion object can share each other's private members.\n",
    "* companion object can contain static methods of the class.\n",
    "* singleton objects cannot take parameters because you can't instantiate a singleton object with new keyword, whereas class can take parameters.\n",
    "* A singleton object that doesn't share the same name with a companion class is called a standalon object, which can be used for collecting related utility methods or defining an entry point to a scala app."
   ]
  },
  {
   "cell_type": "markdown",
   "metadata": {},
   "source": [
    "* fsc fast scala compiler daemon - ```fsc scala_file1.scala scala_file2.scala ```"
   ]
  },
  {
   "cell_type": "markdown",
   "metadata": {},
   "source": [
    "###### Futures - you can specify transformations on a Scala Future whether it has completed or not. Each transformation results in a new Future representing the async result of the original Future transformed by the function."
   ]
  },
  {
   "cell_type": "code",
   "execution_count": 4,
   "metadata": {},
   "outputs": [
    {
     "data": {
      "text/html": [
       "<div class=\"jp-RenderedText\">\n",
       "<pre><code><span style=\"color: rgb(0, 187, 0)\"><span class=\"ansi-green-fg\">import </span></span><span style=\"color: rgb(0, 187, 187)\"><span class=\"ansi-cyan-fg\">scala.concurrent.Future\n",
       "</span></span>\n",
       "<span style=\"color: rgb(0, 187, 0)\"><span class=\"ansi-green-fg\">import </span></span><span style=\"color: rgb(0, 187, 187)\"><span class=\"ansi-cyan-fg\">scala.concurrent.ExecutionContext.Implicits.global\n",
       "\n",
       "</span></span>\n",
       "<span style=\"color: rgb(0, 187, 187)\"><span class=\"ansi-cyan-fg\">f</span></span>: <span style=\"color: rgb(0, 187, 0)\"><span class=\"ansi-green-fg\">Future</span></span>[<span style=\"color: rgb(0, 187, 0)\"><span class=\"ansi-green-fg\">Int</span></span>] = <span style=\"color: rgb(0, 187, 0)\"><span class=\"ansi-green-fg\"><style>@keyframes fadein { from { opacity: 0; } to { opacity: 1; } }</style><span style=\"animation: fadein 2s;\"><span style=\"color: yellow\"><span class=\"ansi-yellow-fg\">Success</span></span>(<span style=\"color: rgb(0, 187, 0)\"><span class=\"ansi-green-fg\">4</span></span>)</span></span></span>\n",
       "<span style=\"color: rgb(0, 187, 187)\"><span class=\"ansi-cyan-fg\">res3_3</span></span>: <span style=\"color: rgb(0, 187, 0)\"><span class=\"ansi-green-fg\">Boolean</span></span> = false\n",
       "<span style=\"color: rgb(0, 187, 187)\"><span class=\"ansi-cyan-fg\">res3_4</span></span>: <span style=\"color: rgb(0, 187, 0)\"><span class=\"ansi-green-fg\">Option</span></span>[<span style=\"color: rgb(0, 187, 0)\"><span class=\"ansi-green-fg\">scala</span></span>.<span style=\"color: rgb(0, 187, 0)\"><span class=\"ansi-green-fg\">util</span></span>.<span style=\"color: rgb(0, 187, 0)\"><span class=\"ansi-green-fg\">Try</span></span>[<span style=\"color: rgb(0, 187, 0)\"><span class=\"ansi-green-fg\">Int</span></span>]] = <span style=\"color: rgb(0, 187, 0)\"><span class=\"ansi-green-fg\">None</span></span></code></pre>\n",
       "</div>"
      ],
      "text/plain": [
       "\u001b[32mimport \u001b[39m\u001b[36mscala.concurrent.Future\n",
       "\u001b[39m\n",
       "\u001b[32mimport \u001b[39m\u001b[36mscala.concurrent.ExecutionContext.Implicits.global\n",
       "\n",
       "\u001b[39m\n",
       "\u001b[36mf\u001b[39m: \u001b[32mFuture\u001b[39m[\u001b[32mInt\u001b[39m] = \u001b[32m\u001b[33mSuccess\u001b[39m(\u001b[32m4\u001b[39m)\u001b[39m\n",
       "\u001b[36mres3_3\u001b[39m: \u001b[32mBoolean\u001b[39m = false\n",
       "\u001b[36mres3_4\u001b[39m: \u001b[32mOption\u001b[39m[\u001b[32mscala\u001b[39m.\u001b[32mutil\u001b[39m.\u001b[32mTry\u001b[39m[\u001b[32mInt\u001b[39m]] = \u001b[32mNone\u001b[39m"
      ]
     },
     "metadata": {},
     "output_type": "display_data"
    }
   ],
   "source": [
    "import scala.concurrent.Future\n",
    "import scala.concurrent.ExecutionContext.Implicits.global\n",
    "\n",
    "val f = Future {Thread.sleep(5000); 2+2}\n",
    "f.isCompleted\n",
    "f.value"
   ]
  },
  {
   "cell_type": "code",
   "execution_count": 5,
   "metadata": {},
   "outputs": [
    {
     "data": {
      "text/plain": [
       "\u001b[36mres4_0\u001b[39m: \u001b[32mBoolean\u001b[39m = true\n",
       "\u001b[36mres4_1\u001b[39m: \u001b[32mOption\u001b[39m[\u001b[32mscala\u001b[39m.\u001b[32mutil\u001b[39m.\u001b[32mTry\u001b[39m[\u001b[32mInt\u001b[39m]] = \u001b[33mSome\u001b[39m(\u001b[33mSuccess\u001b[39m(\u001b[32m4\u001b[39m))"
      ]
     },
     "execution_count": 5,
     "metadata": {},
     "output_type": "execute_result"
    }
   ],
   "source": [
    "f.isCompleted\n",
    "f.value"
   ]
  },
  {
   "cell_type": "markdown",
   "metadata": {},
   "source": [
    "* future.value returns Try\n",
    "* Try can either be Success with result or Failure with exception\n",
    "* Try for future in async computations serves similar purpose as try/catch for sync computations."
   ]
  },
  {
   "cell_type": "code",
   "execution_count": 7,
   "metadata": {},
   "outputs": [
    {
     "data": {
      "text/html": [
       "<div class=\"jp-RenderedText\">\n",
       "<pre><code><span style=\"color: rgb(0, 187, 187)\"><span class=\"ansi-cyan-fg\">f</span></span>: <span style=\"color: rgb(0, 187, 0)\"><span class=\"ansi-green-fg\">Future</span></span>[<span style=\"color: rgb(0, 187, 0)\"><span class=\"ansi-green-fg\">Int</span></span>] = <span style=\"color: rgb(0, 187, 0)\"><span class=\"ansi-green-fg\"><style>@keyframes fadein { from { opacity: 0; } to { opacity: 1; } }</style><span style=\"animation: fadein 2s;\"><span style=\"color: yellow\"><span class=\"ansi-yellow-fg\">Failure</span></span>(java.lang.ArithmeticException: / by zero)</span></span></span>\n",
       "<span style=\"color: rgb(0, 187, 187)\"><span class=\"ansi-cyan-fg\">res6_1</span></span>: <span style=\"color: rgb(0, 187, 0)\"><span class=\"ansi-green-fg\">Boolean</span></span> = false\n",
       "<span style=\"color: rgb(0, 187, 187)\"><span class=\"ansi-cyan-fg\">res6_2</span></span>: <span style=\"color: rgb(0, 187, 0)\"><span class=\"ansi-green-fg\">Option</span></span>[<span style=\"color: rgb(0, 187, 0)\"><span class=\"ansi-green-fg\">scala</span></span>.<span style=\"color: rgb(0, 187, 0)\"><span class=\"ansi-green-fg\">util</span></span>.<span style=\"color: rgb(0, 187, 0)\"><span class=\"ansi-green-fg\">Try</span></span>[<span style=\"color: rgb(0, 187, 0)\"><span class=\"ansi-green-fg\">Int</span></span>]] = <span style=\"color: rgb(0, 187, 0)\"><span class=\"ansi-green-fg\">None</span></span></code></pre>\n",
       "</div>"
      ],
      "text/plain": [
       "\u001b[36mf\u001b[39m: \u001b[32mFuture\u001b[39m[\u001b[32mInt\u001b[39m] = \u001b[32m\u001b[33mFailure\u001b[39m(java.lang.ArithmeticException: / by zero)\u001b[39m\n",
       "\u001b[36mres6_1\u001b[39m: \u001b[32mBoolean\u001b[39m = false\n",
       "\u001b[36mres6_2\u001b[39m: \u001b[32mOption\u001b[39m[\u001b[32mscala\u001b[39m.\u001b[32mutil\u001b[39m.\u001b[32mTry\u001b[39m[\u001b[32mInt\u001b[39m]] = \u001b[32mNone\u001b[39m"
      ]
     },
     "metadata": {},
     "output_type": "display_data"
    }
   ],
   "source": [
    "val f = Future {Thread.sleep(2000); 2/0}\n",
    "f.isCompleted\n",
    "f.value"
   ]
  },
  {
   "cell_type": "markdown",
   "metadata": {},
   "source": [
    "###### Transformations on Futures\n",
    "    * map\n",
    "    * for (internally uses Future.flatmap) - serialises the transformations of the futures inside it.\n",
    "    * flatten"
   ]
  },
  {
   "cell_type": "code",
   "execution_count": 1,
   "metadata": {},
   "outputs": [
    {
     "data": {
      "text/html": [
       "<div class=\"jp-RenderedText\">\n",
       "<pre><code><span style=\"color: rgb(0, 187, 0)\"><span class=\"ansi-green-fg\">import </span></span><span style=\"color: rgb(0, 187, 187)\"><span class=\"ansi-cyan-fg\">scala.concurrent.Future\n",
       "</span></span>\n",
       "<span style=\"color: rgb(0, 187, 0)\"><span class=\"ansi-green-fg\">import </span></span><span style=\"color: rgb(0, 187, 187)\"><span class=\"ansi-cyan-fg\">scala.concurrent.ExecutionContext.Implicits.global\n",
       "\n",
       "</span></span>\n",
       "<span style=\"color: rgb(0, 187, 187)\"><span class=\"ansi-cyan-fg\">f1</span></span>: <span style=\"color: rgb(0, 187, 0)\"><span class=\"ansi-green-fg\">Future</span></span>[<span style=\"color: rgb(0, 187, 0)\"><span class=\"ansi-green-fg\">Int</span></span>] = <span style=\"color: rgb(0, 187, 0)\"><span class=\"ansi-green-fg\"><span style=\"color: yellow\"><span class=\"ansi-yellow-fg\">Success</span></span>(<span style=\"color: rgb(0, 187, 0)\"><span class=\"ansi-green-fg\">4</span></span>)</span></span>\n",
       "<span style=\"color: rgb(0, 187, 187)\"><span class=\"ansi-cyan-fg\">f2</span></span>: <span style=\"color: rgb(0, 187, 0)\"><span class=\"ansi-green-fg\">Future</span></span>[<span style=\"color: rgb(0, 187, 0)\"><span class=\"ansi-green-fg\">Int</span></span>] = <span style=\"color: rgb(0, 187, 0)\"><span class=\"ansi-green-fg\"><style>@keyframes fadein { from { opacity: 0; } to { opacity: 1; } }</style><span style=\"animation: fadein 2s;\"><span style=\"color: yellow\"><span class=\"ansi-yellow-fg\">Success</span></span>(<span style=\"color: rgb(0, 187, 0)\"><span class=\"ansi-green-fg\">6</span></span>)</span></span></span>\n",
       "<span style=\"color: rgb(0, 187, 187)\"><span class=\"ansi-cyan-fg\">res0_4</span></span>: <span style=\"color: rgb(0, 187, 0)\"><span class=\"ansi-green-fg\">Boolean</span></span> = false\n",
       "<span style=\"color: rgb(0, 187, 187)\"><span class=\"ansi-cyan-fg\">res0_5</span></span>: <span style=\"color: rgb(0, 187, 0)\"><span class=\"ansi-green-fg\">Option</span></span>[<span style=\"color: rgb(0, 187, 0)\"><span class=\"ansi-green-fg\">scala</span></span>.<span style=\"color: rgb(0, 187, 0)\"><span class=\"ansi-green-fg\">util</span></span>.<span style=\"color: rgb(0, 187, 0)\"><span class=\"ansi-green-fg\">Try</span></span>[<span style=\"color: rgb(0, 187, 0)\"><span class=\"ansi-green-fg\">Int</span></span>]] = <span style=\"color: rgb(0, 187, 0)\"><span class=\"ansi-green-fg\">None</span></span></code></pre>\n",
       "</div>"
      ],
      "text/plain": [
       "\u001b[32mimport \u001b[39m\u001b[36mscala.concurrent.Future\n",
       "\u001b[39m\n",
       "\u001b[32mimport \u001b[39m\u001b[36mscala.concurrent.ExecutionContext.Implicits.global\n",
       "\n",
       "\u001b[39m\n",
       "\u001b[36mf1\u001b[39m: \u001b[32mFuture\u001b[39m[\u001b[32mInt\u001b[39m] = \u001b[32m\u001b[33mSuccess\u001b[39m(\u001b[32m4\u001b[39m)\u001b[39m\n",
       "\u001b[36mf2\u001b[39m: \u001b[32mFuture\u001b[39m[\u001b[32mInt\u001b[39m] = \u001b[32m\u001b[33mSuccess\u001b[39m(\u001b[32m6\u001b[39m)\u001b[39m\n",
       "\u001b[36mres0_4\u001b[39m: \u001b[32mBoolean\u001b[39m = false\n",
       "\u001b[36mres0_5\u001b[39m: \u001b[32mOption\u001b[39m[\u001b[32mscala\u001b[39m.\u001b[32mutil\u001b[39m.\u001b[32mTry\u001b[39m[\u001b[32mInt\u001b[39m]] = \u001b[32mNone\u001b[39m"
      ]
     },
     "metadata": {},
     "output_type": "display_data"
    }
   ],
   "source": [
    "import scala.concurrent.Future\n",
    "import scala.concurrent.ExecutionContext.Implicits.global\n",
    "\n",
    "val f1 = Future {Thread.sleep(5000); 2+2}\n",
    "val f2 = f1.map(_+2)\n",
    "f2.isCompleted\n",
    "f2.value"
   ]
  },
  {
   "cell_type": "code",
   "execution_count": 2,
   "metadata": {},
   "outputs": [
    {
     "data": {
      "text/plain": [
       "\u001b[36mres1_0\u001b[39m: \u001b[32mBoolean\u001b[39m = true\n",
       "\u001b[36mres1_1\u001b[39m: \u001b[32mOption\u001b[39m[\u001b[32mscala\u001b[39m.\u001b[32mutil\u001b[39m.\u001b[32mTry\u001b[39m[\u001b[32mInt\u001b[39m]] = \u001b[33mSome\u001b[39m(\u001b[33mSuccess\u001b[39m(\u001b[32m6\u001b[39m))"
      ]
     },
     "execution_count": 2,
     "metadata": {},
     "output_type": "execute_result"
    }
   ],
   "source": [
    "f2.isCompleted\n",
    "f2.value"
   ]
  },
  {
   "cell_type": "code",
   "execution_count": 11,
   "metadata": {},
   "outputs": [
    {
     "data": {
      "text/html": [
       "<div class=\"jp-RenderedText\">\n",
       "<pre><code><span style=\"color: rgb(0, 187, 0)\"><span class=\"ansi-green-fg\">import </span></span><span style=\"color: rgb(0, 187, 187)\"><span class=\"ansi-cyan-fg\">scala.concurrent.Future\n",
       "</span></span>\n",
       "<span style=\"color: rgb(0, 187, 0)\"><span class=\"ansi-green-fg\">import </span></span><span style=\"color: rgb(0, 187, 187)\"><span class=\"ansi-cyan-fg\">scala.concurrent.ExecutionContext.Implicits.global\n",
       "\n",
       "</span></span>\n",
       "<span style=\"color: rgb(0, 187, 187)\"><span class=\"ansi-cyan-fg\">res10_2</span></span>: <span style=\"color: rgb(0, 187, 0)\"><span class=\"ansi-green-fg\">Future</span></span>[<span style=\"color: rgb(0, 187, 0)\"><span class=\"ansi-green-fg\">Int</span></span>] = <span style=\"color: rgb(0, 187, 0)\"><span class=\"ansi-green-fg\"><style>@keyframes fadein { from { opacity: 0; } to { opacity: 1; } }</style><span style=\"animation: fadein 2s;\"><span style=\"color: yellow\"><span class=\"ansi-yellow-fg\">Success</span></span>(<span style=\"color: rgb(0, 187, 0)\"><span class=\"ansi-green-fg\">10</span></span>)</span></span></span></code></pre>\n",
       "</div>"
      ],
      "text/plain": [
       "\u001b[32mimport \u001b[39m\u001b[36mscala.concurrent.Future\n",
       "\u001b[39m\n",
       "\u001b[32mimport \u001b[39m\u001b[36mscala.concurrent.ExecutionContext.Implicits.global\n",
       "\n",
       "\u001b[39m\n",
       "\u001b[36mres10_2\u001b[39m: \u001b[32mFuture\u001b[39m[\u001b[32mInt\u001b[39m] = \u001b[32m\u001b[33mSuccess\u001b[39m(\u001b[32m10\u001b[39m)\u001b[39m"
      ]
     },
     "metadata": {},
     "output_type": "display_data"
    }
   ],
   "source": [
    "import scala.concurrent.Future\n",
    "import scala.concurrent.ExecutionContext.Implicits.global\n",
    "\n",
    "for {\n",
    "    x <- Future {Thread.sleep(2000); 2+2}\n",
    "    y <- Future {Thread.sleep(2000); 3+3}\n",
    "} yield x+y  \n",
    "\n",
    "// for serialises the transformations of the futures inside it. \n",
    "// so the total time taken will be not 2 but 4 seconds as each future will run in serial order \n",
    "// instead of running parallely, so create the futures before for exp\n"
   ]
  },
  {
   "cell_type": "code",
   "execution_count": 13,
   "metadata": {},
   "outputs": [
    {
     "data": {
      "text/html": [
       "<div class=\"jp-RenderedText\">\n",
       "<pre><code><span style=\"color: rgb(0, 187, 187)\"><span class=\"ansi-cyan-fg\">nestedFuture</span></span>: <span style=\"color: rgb(0, 187, 0)\"><span class=\"ansi-green-fg\">Future</span></span>[<span style=\"color: rgb(0, 187, 0)\"><span class=\"ansi-green-fg\">Future</span></span>[<span style=\"color: rgb(0, 187, 0)\"><span class=\"ansi-green-fg\">Int</span></span>]] = <span style=\"color: rgb(0, 187, 0)\"><span class=\"ansi-green-fg\"><span style=\"color: yellow\"><span class=\"ansi-yellow-fg\">Success</span></span>(<span style=\"color: rgb(0, 187, 0)\"><span class=\"ansi-green-fg\"><span style=\"color: yellow\"><span class=\"ansi-yellow-fg\">Success</span></span>(<span style=\"color: rgb(0, 187, 0)\"><span class=\"ansi-green-fg\">2</span></span>)</span></span>)</span></span>\n",
       "<span style=\"color: rgb(0, 187, 187)\"><span class=\"ansi-cyan-fg\">f</span></span>: <span style=\"color: rgb(0, 187, 0)\"><span class=\"ansi-green-fg\">Future</span></span>[<span style=\"color: rgb(0, 187, 0)\"><span class=\"ansi-green-fg\">Int</span></span>] = <span style=\"color: rgb(0, 187, 0)\"><span class=\"ansi-green-fg\"><span style=\"color: yellow\"><span class=\"ansi-yellow-fg\">Success</span></span>(<span style=\"color: rgb(0, 187, 0)\"><span class=\"ansi-green-fg\">2</span></span>)</span></span></code></pre>\n",
       "</div>"
      ],
      "text/plain": [
       "\u001b[36mnestedFuture\u001b[39m: \u001b[32mFuture\u001b[39m[\u001b[32mFuture\u001b[39m[\u001b[32mInt\u001b[39m]] = \u001b[32m\u001b[33mSuccess\u001b[39m(\u001b[32m\u001b[33mSuccess\u001b[39m(\u001b[32m2\u001b[39m)\u001b[39m)\u001b[39m\n",
       "\u001b[36mf\u001b[39m: \u001b[32mFuture\u001b[39m[\u001b[32mInt\u001b[39m] = \u001b[32m\u001b[33mSuccess\u001b[39m(\u001b[32m2\u001b[39m)\u001b[39m"
      ]
     },
     "metadata": {},
     "output_type": "display_data"
    }
   ],
   "source": [
    "val nestedFuture = Future { Future {2} }\n",
    "val f = nestedFuture.flatten"
   ]
  },
  {
   "cell_type": "markdown",
   "metadata": {},
   "source": [
    "### Creating Future\n",
    "* Can create an already completed Future from the Future companion object methods:\n",
    "    * successful\n",
    "    * failed\n",
    "    * fromTry\n",
    "* The most general way to create Future is to use a Promise.\n",
    "    Given a promise you can obtain a future that is controlled by the promise. \n",
    "    The future will complete when you complete the promise"
   ]
  },
  {
   "cell_type": "code",
   "execution_count": 6,
   "metadata": {},
   "outputs": [
    {
     "data": {
      "text/html": [
       "<div class=\"jp-RenderedText\">\n",
       "<pre><code><span style=\"color: rgb(0, 187, 0)\"><span class=\"ansi-green-fg\">import </span></span><span style=\"color: rgb(0, 187, 187)\"><span class=\"ansi-cyan-fg\">scala.concurrent.Future\n",
       "\n",
       "</span></span>\n",
       "<span style=\"color: rgb(0, 187, 187)\"><span class=\"ansi-cyan-fg\">res5_1</span></span>: <span style=\"color: rgb(0, 187, 0)\"><span class=\"ansi-green-fg\">Future</span></span>[<span style=\"color: rgb(0, 187, 0)\"><span class=\"ansi-green-fg\">Int</span></span>] = <span style=\"color: rgb(0, 187, 0)\"><span class=\"ansi-green-fg\"><span style=\"color: yellow\"><span class=\"ansi-yellow-fg\">Success</span></span>(<span style=\"color: rgb(0, 187, 0)\"><span class=\"ansi-green-fg\">4</span></span>)</span></span>\n",
       "<span style=\"color: rgb(0, 187, 187)\"><span class=\"ansi-cyan-fg\">res5_2</span></span>: <span style=\"color: rgb(0, 187, 0)\"><span class=\"ansi-green-fg\">Future</span></span>[<span style=\"color: rgb(0, 187, 0)\"><span class=\"ansi-green-fg\">Nothing</span></span>] = <span style=\"color: rgb(0, 187, 0)\"><span class=\"ansi-green-fg\"><span style=\"color: yellow\"><span class=\"ansi-yellow-fg\">Failure</span></span>(java.lang.Exception: e1)</span></span>\n",
       "<span style=\"color: rgb(0, 187, 0)\"><span class=\"ansi-green-fg\">import </span></span><span style=\"color: rgb(0, 187, 187)\"><span class=\"ansi-cyan-fg\">scala.util.{Success, Failure}\n",
       "\n",
       "</span></span>\n",
       "<span style=\"color: rgb(0, 187, 187)\"><span class=\"ansi-cyan-fg\">res5_4</span></span>: <span style=\"color: rgb(0, 187, 0)\"><span class=\"ansi-green-fg\">Future</span></span>[<span style=\"color: rgb(0, 187, 0)\"><span class=\"ansi-green-fg\">Int</span></span>] = <span style=\"color: rgb(0, 187, 0)\"><span class=\"ansi-green-fg\"><span style=\"color: yellow\"><span class=\"ansi-yellow-fg\">Success</span></span>(<span style=\"color: rgb(0, 187, 0)\"><span class=\"ansi-green-fg\">4</span></span>)</span></span>\n",
       "<span style=\"color: rgb(0, 187, 187)\"><span class=\"ansi-cyan-fg\">res5_5</span></span>: <span style=\"color: rgb(0, 187, 0)\"><span class=\"ansi-green-fg\">Future</span></span>[<span style=\"color: rgb(0, 187, 0)\"><span class=\"ansi-green-fg\">Nothing</span></span>] = <span style=\"color: rgb(0, 187, 0)\"><span class=\"ansi-green-fg\"><span style=\"color: yellow\"><span class=\"ansi-yellow-fg\">Failure</span></span>(java.lang.Exception: e1)</span></span></code></pre>\n",
       "</div>"
      ],
      "text/plain": [
       "\u001b[32mimport \u001b[39m\u001b[36mscala.concurrent.Future\n",
       "\n",
       "\u001b[39m\n",
       "\u001b[36mres5_1\u001b[39m: \u001b[32mFuture\u001b[39m[\u001b[32mInt\u001b[39m] = \u001b[32m\u001b[33mSuccess\u001b[39m(\u001b[32m4\u001b[39m)\u001b[39m\n",
       "\u001b[36mres5_2\u001b[39m: \u001b[32mFuture\u001b[39m[\u001b[32mNothing\u001b[39m] = \u001b[32m\u001b[33mFailure\u001b[39m(java.lang.Exception: e1)\u001b[39m\n",
       "\u001b[32mimport \u001b[39m\u001b[36mscala.util.{Success, Failure}\n",
       "\n",
       "\u001b[39m\n",
       "\u001b[36mres5_4\u001b[39m: \u001b[32mFuture\u001b[39m[\u001b[32mInt\u001b[39m] = \u001b[32m\u001b[33mSuccess\u001b[39m(\u001b[32m4\u001b[39m)\u001b[39m\n",
       "\u001b[36mres5_5\u001b[39m: \u001b[32mFuture\u001b[39m[\u001b[32mNothing\u001b[39m] = \u001b[32m\u001b[33mFailure\u001b[39m(java.lang.Exception: e1)\u001b[39m"
      ]
     },
     "metadata": {},
     "output_type": "display_data"
    }
   ],
   "source": [
    "import scala.concurrent.Future\n",
    "import scala.concurrent.ExecutionContext.Implicits.global\n",
    "\n",
    "Future.successful {2+2}\n",
    "Future.failed(new Exception(\"e1\"))\n",
    "\n",
    "import scala.util.{Success, Failure}\n",
    "\n",
    "Future.fromTry(Success {2+2})\n",
    "Future.fromTry(Failure(new Exception(\"e1\")))\n"
   ]
  },
  {
   "cell_type": "code",
   "execution_count": 9,
   "metadata": {},
   "outputs": [
    {
     "data": {
      "text/html": [
       "<div class=\"jp-RenderedText\">\n",
       "<pre><code><span style=\"color: rgb(0, 187, 0)\"><span class=\"ansi-green-fg\">import </span></span><span style=\"color: rgb(0, 187, 187)\"><span class=\"ansi-cyan-fg\">scala.concurrent.Promise\n",
       "\n",
       "</span></span>\n",
       "<span style=\"color: rgb(0, 187, 187)\"><span class=\"ansi-cyan-fg\">p</span></span>: <span style=\"color: rgb(0, 187, 0)\"><span class=\"ansi-green-fg\">Promise</span></span>[<span style=\"color: rgb(0, 187, 0)\"><span class=\"ansi-green-fg\">Int</span></span>] = <span style=\"color: rgb(0, 187, 0)\"><span class=\"ansi-green-fg\"><style>@keyframes fadein { from { opacity: 0; } to { opacity: 1; } }</style><span style=\"animation: fadein 2s;\"><span style=\"color: yellow\"><span class=\"ansi-yellow-fg\">Success</span></span>(<span style=\"color: rgb(0, 187, 0)\"><span class=\"ansi-green-fg\">4</span></span>)</span></span></span>\n",
       "<span style=\"color: rgb(0, 187, 187)\"><span class=\"ansi-cyan-fg\">f</span></span>: <span style=\"color: rgb(0, 187, 0)\"><span class=\"ansi-green-fg\">Future</span></span>[<span style=\"color: rgb(0, 187, 0)\"><span class=\"ansi-green-fg\">Int</span></span>] = <span style=\"color: rgb(0, 187, 0)\"><span class=\"ansi-green-fg\"><span style=\"color: yellow\"><span class=\"ansi-yellow-fg\">Success</span></span>(<span style=\"color: rgb(0, 187, 0)\"><span class=\"ansi-green-fg\">4</span></span>)</span></span>\n",
       "<span style=\"color: rgb(0, 187, 187)\"><span class=\"ansi-cyan-fg\">res8_3</span></span>: <span style=\"color: rgb(0, 187, 0)\"><span class=\"ansi-green-fg\">Option</span></span>[<span style=\"color: rgb(0, 187, 0)\"><span class=\"ansi-green-fg\">scala</span></span>.<span style=\"color: rgb(0, 187, 0)\"><span class=\"ansi-green-fg\">util</span></span>.<span style=\"color: rgb(0, 187, 0)\"><span class=\"ansi-green-fg\">Try</span></span>[<span style=\"color: rgb(0, 187, 0)\"><span class=\"ansi-green-fg\">Int</span></span>]] = <span style=\"color: rgb(0, 187, 0)\"><span class=\"ansi-green-fg\">None</span></span></code></pre>\n",
       "</div>"
      ],
      "text/plain": [
       "\u001b[32mimport \u001b[39m\u001b[36mscala.concurrent.Promise\n",
       "\n",
       "\u001b[39m\n",
       "\u001b[36mp\u001b[39m: \u001b[32mPromise\u001b[39m[\u001b[32mInt\u001b[39m] = \u001b[32m\u001b[33mSuccess\u001b[39m(\u001b[32m4\u001b[39m)\u001b[39m\n",
       "\u001b[36mf\u001b[39m: \u001b[32mFuture\u001b[39m[\u001b[32mInt\u001b[39m] = \u001b[32m\u001b[33mSuccess\u001b[39m(\u001b[32m4\u001b[39m)\u001b[39m\n",
       "\u001b[36mres8_3\u001b[39m: \u001b[32mOption\u001b[39m[\u001b[32mscala\u001b[39m.\u001b[32mutil\u001b[39m.\u001b[32mTry\u001b[39m[\u001b[32mInt\u001b[39m]] = \u001b[32mNone\u001b[39m"
      ]
     },
     "metadata": {},
     "output_type": "display_data"
    }
   ],
   "source": [
    "import scala.concurrent.Promise\n",
    "\n",
    "val p = Promise[Int]\n",
    "val f = p.future\n",
    "f.value"
   ]
  },
  {
   "cell_type": "code",
   "execution_count": 12,
   "metadata": {},
   "outputs": [
    {
     "data": {
      "text/html": [
       "<div class=\"jp-RenderedText\">\n",
       "<pre><code><span style=\"color: rgb(0, 187, 187)\"><span class=\"ansi-cyan-fg\">p</span></span>: <span style=\"color: rgb(0, 187, 0)\"><span class=\"ansi-green-fg\">Promise</span></span>[<span style=\"color: rgb(0, 187, 0)\"><span class=\"ansi-green-fg\">Int</span></span>] = <span style=\"color: rgb(0, 187, 0)\"><span class=\"ansi-green-fg\"><span style=\"color: yellow\"><span class=\"ansi-yellow-fg\">Success</span></span>(<span style=\"color: rgb(0, 187, 0)\"><span class=\"ansi-green-fg\">4</span></span>)</span></span>\n",
       "<span style=\"color: rgb(0, 187, 187)\"><span class=\"ansi-cyan-fg\">f</span></span>: <span style=\"color: rgb(0, 187, 0)\"><span class=\"ansi-green-fg\">Future</span></span>[<span style=\"color: rgb(0, 187, 0)\"><span class=\"ansi-green-fg\">Int</span></span>] = <span style=\"color: rgb(0, 187, 0)\"><span class=\"ansi-green-fg\"><span style=\"color: yellow\"><span class=\"ansi-yellow-fg\">Success</span></span>(<span style=\"color: rgb(0, 187, 0)\"><span class=\"ansi-green-fg\">4</span></span>)</span></span>\n",
       "<span style=\"color: rgb(0, 187, 187)\"><span class=\"ansi-cyan-fg\">res11_2</span></span>: <span style=\"color: rgb(0, 187, 0)\"><span class=\"ansi-green-fg\">Option</span></span>[<span style=\"color: rgb(0, 187, 0)\"><span class=\"ansi-green-fg\">scala</span></span>.<span style=\"color: rgb(0, 187, 0)\"><span class=\"ansi-green-fg\">util</span></span>.<span style=\"color: rgb(0, 187, 0)\"><span class=\"ansi-green-fg\">Try</span></span>[<span style=\"color: rgb(0, 187, 0)\"><span class=\"ansi-green-fg\">Int</span></span>]] = <span style=\"color: rgb(0, 187, 0)\"><span class=\"ansi-green-fg\">None</span></span>\n",
       "<span style=\"color: rgb(0, 187, 187)\"><span class=\"ansi-cyan-fg\">res11_3</span></span>: <span style=\"color: rgb(0, 187, 0)\"><span class=\"ansi-green-fg\">Promise</span></span>[<span style=\"color: rgb(0, 187, 0)\"><span class=\"ansi-green-fg\">Int</span></span>] = <span style=\"color: rgb(0, 187, 0)\"><span class=\"ansi-green-fg\"><span style=\"color: yellow\"><span class=\"ansi-yellow-fg\">Success</span></span>(<span style=\"color: rgb(0, 187, 0)\"><span class=\"ansi-green-fg\">4</span></span>)</span></span>\n",
       "<span style=\"color: rgb(0, 187, 187)\"><span class=\"ansi-cyan-fg\">res11_4</span></span>: <span style=\"color: rgb(0, 187, 0)\"><span class=\"ansi-green-fg\">Option</span></span>[<span style=\"color: rgb(0, 187, 0)\"><span class=\"ansi-green-fg\">scala</span></span>.<span style=\"color: rgb(0, 187, 0)\"><span class=\"ansi-green-fg\">util</span></span>.<span style=\"color: rgb(0, 187, 0)\"><span class=\"ansi-green-fg\">Try</span></span>[<span style=\"color: rgb(0, 187, 0)\"><span class=\"ansi-green-fg\">Int</span></span>]] = <span style=\"color: yellow\"><span class=\"ansi-yellow-fg\">Some</span></span>(<span style=\"color: yellow\"><span class=\"ansi-yellow-fg\">Success</span></span>(<span style=\"color: rgb(0, 187, 0)\"><span class=\"ansi-green-fg\">4</span></span>))</code></pre>\n",
       "</div>"
      ],
      "text/plain": [
       "\u001b[36mp\u001b[39m: \u001b[32mPromise\u001b[39m[\u001b[32mInt\u001b[39m] = \u001b[32m\u001b[33mSuccess\u001b[39m(\u001b[32m4\u001b[39m)\u001b[39m\n",
       "\u001b[36mf\u001b[39m: \u001b[32mFuture\u001b[39m[\u001b[32mInt\u001b[39m] = \u001b[32m\u001b[33mSuccess\u001b[39m(\u001b[32m4\u001b[39m)\u001b[39m\n",
       "\u001b[36mres11_2\u001b[39m: \u001b[32mOption\u001b[39m[\u001b[32mscala\u001b[39m.\u001b[32mutil\u001b[39m.\u001b[32mTry\u001b[39m[\u001b[32mInt\u001b[39m]] = \u001b[32mNone\u001b[39m\n",
       "\u001b[36mres11_3\u001b[39m: \u001b[32mPromise\u001b[39m[\u001b[32mInt\u001b[39m] = \u001b[32m\u001b[33mSuccess\u001b[39m(\u001b[32m4\u001b[39m)\u001b[39m\n",
       "\u001b[36mres11_4\u001b[39m: \u001b[32mOption\u001b[39m[\u001b[32mscala\u001b[39m.\u001b[32mutil\u001b[39m.\u001b[32mTry\u001b[39m[\u001b[32mInt\u001b[39m]] = \u001b[33mSome\u001b[39m(\u001b[33mSuccess\u001b[39m(\u001b[32m4\u001b[39m))"
      ]
     },
     "metadata": {},
     "output_type": "display_data"
    }
   ],
   "source": [
    "val p = Promise[Int]\n",
    "val f = p.future\n",
    "f.value\n",
    "p.success(4)\n",
    "f.value"
   ]
  },
  {
   "cell_type": "code",
   "execution_count": 13,
   "metadata": {},
   "outputs": [
    {
     "data": {
      "text/html": [
       "<div class=\"jp-RenderedText\">\n",
       "<pre><code><span style=\"color: rgb(0, 187, 187)\"><span class=\"ansi-cyan-fg\">p</span></span>: <span style=\"color: rgb(0, 187, 0)\"><span class=\"ansi-green-fg\">Promise</span></span>[<span style=\"color: rgb(0, 187, 0)\"><span class=\"ansi-green-fg\">Int</span></span>] = <span style=\"color: rgb(0, 187, 0)\"><span class=\"ansi-green-fg\"><span style=\"color: yellow\"><span class=\"ansi-yellow-fg\">Failure</span></span>(java.lang.Exception: e1)</span></span>\n",
       "<span style=\"color: rgb(0, 187, 187)\"><span class=\"ansi-cyan-fg\">f</span></span>: <span style=\"color: rgb(0, 187, 0)\"><span class=\"ansi-green-fg\">Future</span></span>[<span style=\"color: rgb(0, 187, 0)\"><span class=\"ansi-green-fg\">Int</span></span>] = <span style=\"color: rgb(0, 187, 0)\"><span class=\"ansi-green-fg\"><span style=\"color: yellow\"><span class=\"ansi-yellow-fg\">Failure</span></span>(java.lang.Exception: e1)</span></span>\n",
       "<span style=\"color: rgb(0, 187, 187)\"><span class=\"ansi-cyan-fg\">res12_2</span></span>: <span style=\"color: rgb(0, 187, 0)\"><span class=\"ansi-green-fg\">Option</span></span>[<span style=\"color: rgb(0, 187, 0)\"><span class=\"ansi-green-fg\">scala</span></span>.<span style=\"color: rgb(0, 187, 0)\"><span class=\"ansi-green-fg\">util</span></span>.<span style=\"color: rgb(0, 187, 0)\"><span class=\"ansi-green-fg\">Try</span></span>[<span style=\"color: rgb(0, 187, 0)\"><span class=\"ansi-green-fg\">Int</span></span>]] = <span style=\"color: rgb(0, 187, 0)\"><span class=\"ansi-green-fg\">None</span></span>\n",
       "<span style=\"color: rgb(0, 187, 187)\"><span class=\"ansi-cyan-fg\">res12_3</span></span>: <span style=\"color: rgb(0, 187, 0)\"><span class=\"ansi-green-fg\">Promise</span></span>[<span style=\"color: rgb(0, 187, 0)\"><span class=\"ansi-green-fg\">Int</span></span>] = <span style=\"color: rgb(0, 187, 0)\"><span class=\"ansi-green-fg\"><span style=\"color: yellow\"><span class=\"ansi-yellow-fg\">Failure</span></span>(java.lang.Exception: e1)</span></span>\n",
       "<span style=\"color: rgb(0, 187, 187)\"><span class=\"ansi-cyan-fg\">res12_4</span></span>: <span style=\"color: rgb(0, 187, 0)\"><span class=\"ansi-green-fg\">Option</span></span>[<span style=\"color: rgb(0, 187, 0)\"><span class=\"ansi-green-fg\">scala</span></span>.<span style=\"color: rgb(0, 187, 0)\"><span class=\"ansi-green-fg\">util</span></span>.<span style=\"color: rgb(0, 187, 0)\"><span class=\"ansi-green-fg\">Try</span></span>[<span style=\"color: rgb(0, 187, 0)\"><span class=\"ansi-green-fg\">Int</span></span>]] = <span style=\"color: yellow\"><span class=\"ansi-yellow-fg\">Some</span></span>(<span style=\"color: yellow\"><span class=\"ansi-yellow-fg\">Failure</span></span>(java.lang.Exception: e1))</code></pre>\n",
       "</div>"
      ],
      "text/plain": [
       "\u001b[36mp\u001b[39m: \u001b[32mPromise\u001b[39m[\u001b[32mInt\u001b[39m] = \u001b[32m\u001b[33mFailure\u001b[39m(java.lang.Exception: e1)\u001b[39m\n",
       "\u001b[36mf\u001b[39m: \u001b[32mFuture\u001b[39m[\u001b[32mInt\u001b[39m] = \u001b[32m\u001b[33mFailure\u001b[39m(java.lang.Exception: e1)\u001b[39m\n",
       "\u001b[36mres12_2\u001b[39m: \u001b[32mOption\u001b[39m[\u001b[32mscala\u001b[39m.\u001b[32mutil\u001b[39m.\u001b[32mTry\u001b[39m[\u001b[32mInt\u001b[39m]] = \u001b[32mNone\u001b[39m\n",
       "\u001b[36mres12_3\u001b[39m: \u001b[32mPromise\u001b[39m[\u001b[32mInt\u001b[39m] = \u001b[32m\u001b[33mFailure\u001b[39m(java.lang.Exception: e1)\u001b[39m\n",
       "\u001b[36mres12_4\u001b[39m: \u001b[32mOption\u001b[39m[\u001b[32mscala\u001b[39m.\u001b[32mutil\u001b[39m.\u001b[32mTry\u001b[39m[\u001b[32mInt\u001b[39m]] = \u001b[33mSome\u001b[39m(\u001b[33mFailure\u001b[39m(java.lang.Exception: e1))"
      ]
     },
     "metadata": {},
     "output_type": "display_data"
    }
   ],
   "source": [
    "val p = Promise[Int]\n",
    "val f = p.future\n",
    "f.value\n",
    "p.failure(new Exception(\"e1\"))\n",
    "f.value"
   ]
  },
  {
   "cell_type": "code",
   "execution_count": 15,
   "metadata": {},
   "outputs": [
    {
     "data": {
      "text/html": [
       "<div class=\"jp-RenderedText\">\n",
       "<pre><code><span style=\"color: rgb(0, 187, 0)\"><span class=\"ansi-green-fg\">import </span></span><span style=\"color: rgb(0, 187, 187)\"><span class=\"ansi-cyan-fg\">scala.util.{Success, Failure, Try}\n",
       "\n",
       "</span></span>\n",
       "<span style=\"color: rgb(0, 187, 187)\"><span class=\"ansi-cyan-fg\">p</span></span>: <span style=\"color: rgb(0, 187, 0)\"><span class=\"ansi-green-fg\">Promise</span></span>[<span style=\"color: rgb(0, 187, 0)\"><span class=\"ansi-green-fg\">Int</span></span>] = <span style=\"color: rgb(0, 187, 0)\"><span class=\"ansi-green-fg\"><span style=\"color: yellow\"><span class=\"ansi-yellow-fg\">Success</span></span>(<span style=\"color: rgb(0, 187, 0)\"><span class=\"ansi-green-fg\">4</span></span>)</span></span>\n",
       "<span style=\"color: rgb(0, 187, 187)\"><span class=\"ansi-cyan-fg\">f</span></span>: <span style=\"color: rgb(0, 187, 0)\"><span class=\"ansi-green-fg\">Future</span></span>[<span style=\"color: rgb(0, 187, 0)\"><span class=\"ansi-green-fg\">Int</span></span>] = <span style=\"color: rgb(0, 187, 0)\"><span class=\"ansi-green-fg\"><span style=\"color: yellow\"><span class=\"ansi-yellow-fg\">Success</span></span>(<span style=\"color: rgb(0, 187, 0)\"><span class=\"ansi-green-fg\">4</span></span>)</span></span>\n",
       "<span style=\"color: rgb(0, 187, 187)\"><span class=\"ansi-cyan-fg\">res14_3</span></span>: <span style=\"color: rgb(0, 187, 0)\"><span class=\"ansi-green-fg\">Option</span></span>[<span style=\"color: rgb(0, 187, 0)\"><span class=\"ansi-green-fg\">Try</span></span>[<span style=\"color: rgb(0, 187, 0)\"><span class=\"ansi-green-fg\">Int</span></span>]] = <span style=\"color: rgb(0, 187, 0)\"><span class=\"ansi-green-fg\">None</span></span>\n",
       "<span style=\"color: rgb(0, 187, 187)\"><span class=\"ansi-cyan-fg\">res14_4</span></span>: <span style=\"color: rgb(0, 187, 0)\"><span class=\"ansi-green-fg\">Promise</span></span>[<span style=\"color: rgb(0, 187, 0)\"><span class=\"ansi-green-fg\">Int</span></span>] = <span style=\"color: rgb(0, 187, 0)\"><span class=\"ansi-green-fg\"><span style=\"color: yellow\"><span class=\"ansi-yellow-fg\">Success</span></span>(<span style=\"color: rgb(0, 187, 0)\"><span class=\"ansi-green-fg\">4</span></span>)</span></span>\n",
       "<span style=\"color: rgb(0, 187, 187)\"><span class=\"ansi-cyan-fg\">res14_5</span></span>: <span style=\"color: rgb(0, 187, 0)\"><span class=\"ansi-green-fg\">Option</span></span>[<span style=\"color: rgb(0, 187, 0)\"><span class=\"ansi-green-fg\">Try</span></span>[<span style=\"color: rgb(0, 187, 0)\"><span class=\"ansi-green-fg\">Int</span></span>]] = <span style=\"color: yellow\"><span class=\"ansi-yellow-fg\">Some</span></span>(<span style=\"color: yellow\"><span class=\"ansi-yellow-fg\">Success</span></span>(<span style=\"color: rgb(0, 187, 0)\"><span class=\"ansi-green-fg\">4</span></span>))</code></pre>\n",
       "</div>"
      ],
      "text/plain": [
       "\u001b[32mimport \u001b[39m\u001b[36mscala.util.{Success, Failure, Try}\n",
       "\n",
       "\u001b[39m\n",
       "\u001b[36mp\u001b[39m: \u001b[32mPromise\u001b[39m[\u001b[32mInt\u001b[39m] = \u001b[32m\u001b[33mSuccess\u001b[39m(\u001b[32m4\u001b[39m)\u001b[39m\n",
       "\u001b[36mf\u001b[39m: \u001b[32mFuture\u001b[39m[\u001b[32mInt\u001b[39m] = \u001b[32m\u001b[33mSuccess\u001b[39m(\u001b[32m4\u001b[39m)\u001b[39m\n",
       "\u001b[36mres14_3\u001b[39m: \u001b[32mOption\u001b[39m[\u001b[32mTry\u001b[39m[\u001b[32mInt\u001b[39m]] = \u001b[32mNone\u001b[39m\n",
       "\u001b[36mres14_4\u001b[39m: \u001b[32mPromise\u001b[39m[\u001b[32mInt\u001b[39m] = \u001b[32m\u001b[33mSuccess\u001b[39m(\u001b[32m4\u001b[39m)\u001b[39m\n",
       "\u001b[36mres14_5\u001b[39m: \u001b[32mOption\u001b[39m[\u001b[32mTry\u001b[39m[\u001b[32mInt\u001b[39m]] = \u001b[33mSome\u001b[39m(\u001b[33mSuccess\u001b[39m(\u001b[32m4\u001b[39m))"
      ]
     },
     "metadata": {},
     "output_type": "display_data"
    }
   ],
   "source": [
    "import scala.util.{Success, Failure, Try}\n",
    "\n",
    "val p = Promise[Int]\n",
    "val f = p.future\n",
    "f.value\n",
    "p.complete(Try(4))\n",
    "f.value"
   ]
  },
  {
   "cell_type": "markdown",
   "metadata": {},
   "source": [
    "### Future - Filter and Collect\n",
    "* Filter - validates future result\n",
    "* Collect - validates and transforms future result\n",
    "* Both Filter and collect return a future or exception"
   ]
  },
  {
   "cell_type": "code",
   "execution_count": 7,
   "metadata": {},
   "outputs": [
    {
     "data": {
      "text/html": [
       "<div class=\"jp-RenderedText\">\n",
       "<pre><code><span style=\"color: rgb(0, 187, 0)\"><span class=\"ansi-green-fg\">import </span></span><span style=\"color: rgb(0, 187, 187)\"><span class=\"ansi-cyan-fg\">scala.concurrent.Future\n",
       "</span></span>\n",
       "<span style=\"color: rgb(0, 187, 0)\"><span class=\"ansi-green-fg\">import </span></span><span style=\"color: rgb(0, 187, 187)\"><span class=\"ansi-cyan-fg\">scala.concurrent.ExecutionContext.Implicits.global\n",
       "\n",
       "</span></span>\n",
       "<span style=\"color: rgb(0, 187, 187)\"><span class=\"ansi-cyan-fg\">f</span></span>: <span style=\"color: rgb(0, 187, 0)\"><span class=\"ansi-green-fg\">Future</span></span>[<span style=\"color: rgb(0, 187, 0)\"><span class=\"ansi-green-fg\">Int</span></span>] = <span style=\"color: rgb(0, 187, 0)\"><span class=\"ansi-green-fg\"><span style=\"color: yellow\"><span class=\"ansi-yellow-fg\">Success</span></span>(<span style=\"color: rgb(0, 187, 0)\"><span class=\"ansi-green-fg\">2</span></span>)</span></span>\n",
       "<span style=\"color: rgb(0, 187, 187)\"><span class=\"ansi-cyan-fg\">valid</span></span>: <span style=\"color: rgb(0, 187, 0)\"><span class=\"ansi-green-fg\">Future</span></span>[<span style=\"color: rgb(0, 187, 0)\"><span class=\"ansi-green-fg\">Int</span></span>] = <span style=\"color: rgb(0, 187, 0)\"><span class=\"ansi-green-fg\"><span style=\"color: yellow\"><span class=\"ansi-yellow-fg\">Success</span></span>(<span style=\"color: rgb(0, 187, 0)\"><span class=\"ansi-green-fg\">2</span></span>)</span></span>\n",
       "<span style=\"color: rgb(0, 187, 187)\"><span class=\"ansi-cyan-fg\">res6_4</span></span>: <span style=\"color: rgb(0, 187, 0)\"><span class=\"ansi-green-fg\">Option</span></span>[<span style=\"color: rgb(0, 187, 0)\"><span class=\"ansi-green-fg\">scala</span></span>.<span style=\"color: rgb(0, 187, 0)\"><span class=\"ansi-green-fg\">util</span></span>.<span style=\"color: rgb(0, 187, 0)\"><span class=\"ansi-green-fg\">Try</span></span>[<span style=\"color: rgb(0, 187, 0)\"><span class=\"ansi-green-fg\">Int</span></span>]] = <span style=\"color: rgb(0, 187, 0)\"><span class=\"ansi-green-fg\">None</span></span>\n",
       "<span style=\"color: rgb(0, 187, 187)\"><span class=\"ansi-cyan-fg\">invalid</span></span>: <span style=\"color: rgb(0, 187, 0)\"><span class=\"ansi-green-fg\">Future</span></span>[<span style=\"color: rgb(0, 187, 0)\"><span class=\"ansi-green-fg\">Int</span></span>] = <span style=\"color: rgb(0, 187, 0)\"><span class=\"ansi-green-fg\"><span style=\"color: yellow\"><span class=\"ansi-yellow-fg\">Failure</span></span>(\n",
       "  scala.concurrent.Future$$anon$2: Future.filter predicate is not satisfied\n",
       ")</span></span>\n",
       "<span style=\"color: rgb(0, 187, 187)\"><span class=\"ansi-cyan-fg\">res6_6</span></span>: <span style=\"color: rgb(0, 187, 0)\"><span class=\"ansi-green-fg\">Option</span></span>[<span style=\"color: rgb(0, 187, 0)\"><span class=\"ansi-green-fg\">scala</span></span>.<span style=\"color: rgb(0, 187, 0)\"><span class=\"ansi-green-fg\">util</span></span>.<span style=\"color: rgb(0, 187, 0)\"><span class=\"ansi-green-fg\">Try</span></span>[<span style=\"color: rgb(0, 187, 0)\"><span class=\"ansi-green-fg\">Int</span></span>]] = <span style=\"color: rgb(0, 187, 0)\"><span class=\"ansi-green-fg\">None</span></span>\n",
       "<span style=\"color: rgb(0, 187, 187)\"><span class=\"ansi-cyan-fg\">f1</span></span>: <span style=\"color: rgb(0, 187, 0)\"><span class=\"ansi-green-fg\">Future</span></span>[<span style=\"color: rgb(0, 187, 0)\"><span class=\"ansi-green-fg\">Int</span></span>] = <span style=\"color: rgb(0, 187, 0)\"><span class=\"ansi-green-fg\"><span style=\"color: yellow\"><span class=\"ansi-yellow-fg\">Success</span></span>(<span style=\"color: rgb(0, 187, 0)\"><span class=\"ansi-green-fg\">2</span></span>)</span></span>\n",
       "<span style=\"color: rgb(0, 187, 187)\"><span class=\"ansi-cyan-fg\">valid1</span></span>: <span style=\"color: rgb(0, 187, 0)\"><span class=\"ansi-green-fg\">Future</span></span>[<span style=\"color: rgb(0, 187, 0)\"><span class=\"ansi-green-fg\">Int</span></span>] = <span style=\"color: rgb(0, 187, 0)\"><span class=\"ansi-green-fg\"><span style=\"color: yellow\"><span class=\"ansi-yellow-fg\">Success</span></span>(<span style=\"color: rgb(0, 187, 0)\"><span class=\"ansi-green-fg\">2</span></span>)</span></span>\n",
       "<span style=\"color: rgb(0, 187, 187)\"><span class=\"ansi-cyan-fg\">res6_9</span></span>: <span style=\"color: rgb(0, 187, 0)\"><span class=\"ansi-green-fg\">Option</span></span>[<span style=\"color: rgb(0, 187, 0)\"><span class=\"ansi-green-fg\">scala</span></span>.<span style=\"color: rgb(0, 187, 0)\"><span class=\"ansi-green-fg\">util</span></span>.<span style=\"color: rgb(0, 187, 0)\"><span class=\"ansi-green-fg\">Try</span></span>[<span style=\"color: rgb(0, 187, 0)\"><span class=\"ansi-green-fg\">Int</span></span>]] = <span style=\"color: rgb(0, 187, 0)\"><span class=\"ansi-green-fg\">None</span></span>\n",
       "<span style=\"color: rgb(0, 187, 187)\"><span class=\"ansi-cyan-fg\">invalid1</span></span>: <span style=\"color: rgb(0, 187, 0)\"><span class=\"ansi-green-fg\">Future</span></span>[<span style=\"color: rgb(0, 187, 0)\"><span class=\"ansi-green-fg\">Int</span></span>] = <span style=\"color: rgb(0, 187, 0)\"><span class=\"ansi-green-fg\"><span style=\"color: yellow\"><span class=\"ansi-yellow-fg\">Failure</span></span>(\n",
       "  scala.concurrent.Future$$anon$2: Future.filter predicate is not satisfied\n",
       ")</span></span>\n",
       "<span style=\"color: rgb(0, 187, 187)\"><span class=\"ansi-cyan-fg\">res6_11</span></span>: <span style=\"color: rgb(0, 187, 0)\"><span class=\"ansi-green-fg\">Option</span></span>[<span style=\"color: rgb(0, 187, 0)\"><span class=\"ansi-green-fg\">scala</span></span>.<span style=\"color: rgb(0, 187, 0)\"><span class=\"ansi-green-fg\">util</span></span>.<span style=\"color: rgb(0, 187, 0)\"><span class=\"ansi-green-fg\">Try</span></span>[<span style=\"color: rgb(0, 187, 0)\"><span class=\"ansi-green-fg\">Int</span></span>]] = <span style=\"color: yellow\"><span class=\"ansi-yellow-fg\">Some</span></span>(\n",
       "  <span style=\"color: yellow\"><span class=\"ansi-yellow-fg\">Failure</span></span>(\n",
       "    scala.concurrent.Future$$anon$2: Future.filter predicate is not satisfied\n",
       "  )\n",
       ")</code></pre>\n",
       "</div>"
      ],
      "text/plain": [
       "\u001b[32mimport \u001b[39m\u001b[36mscala.concurrent.Future\n",
       "\u001b[39m\n",
       "\u001b[32mimport \u001b[39m\u001b[36mscala.concurrent.ExecutionContext.Implicits.global\n",
       "\n",
       "\u001b[39m\n",
       "\u001b[36mf\u001b[39m: \u001b[32mFuture\u001b[39m[\u001b[32mInt\u001b[39m] = \u001b[32m\u001b[33mSuccess\u001b[39m(\u001b[32m2\u001b[39m)\u001b[39m\n",
       "\u001b[36mvalid\u001b[39m: \u001b[32mFuture\u001b[39m[\u001b[32mInt\u001b[39m] = \u001b[32m\u001b[33mSuccess\u001b[39m(\u001b[32m2\u001b[39m)\u001b[39m\n",
       "\u001b[36mres6_4\u001b[39m: \u001b[32mOption\u001b[39m[\u001b[32mscala\u001b[39m.\u001b[32mutil\u001b[39m.\u001b[32mTry\u001b[39m[\u001b[32mInt\u001b[39m]] = \u001b[32mNone\u001b[39m\n",
       "\u001b[36minvalid\u001b[39m: \u001b[32mFuture\u001b[39m[\u001b[32mInt\u001b[39m] = \u001b[32m\u001b[33mFailure\u001b[39m(\n",
       "  scala.concurrent.Future$$anon$2: Future.filter predicate is not satisfied\n",
       ")\u001b[39m\n",
       "\u001b[36mres6_6\u001b[39m: \u001b[32mOption\u001b[39m[\u001b[32mscala\u001b[39m.\u001b[32mutil\u001b[39m.\u001b[32mTry\u001b[39m[\u001b[32mInt\u001b[39m]] = \u001b[32mNone\u001b[39m\n",
       "\u001b[36mf1\u001b[39m: \u001b[32mFuture\u001b[39m[\u001b[32mInt\u001b[39m] = \u001b[32m\u001b[33mSuccess\u001b[39m(\u001b[32m2\u001b[39m)\u001b[39m\n",
       "\u001b[36mvalid1\u001b[39m: \u001b[32mFuture\u001b[39m[\u001b[32mInt\u001b[39m] = \u001b[32m\u001b[33mSuccess\u001b[39m(\u001b[32m2\u001b[39m)\u001b[39m\n",
       "\u001b[36mres6_9\u001b[39m: \u001b[32mOption\u001b[39m[\u001b[32mscala\u001b[39m.\u001b[32mutil\u001b[39m.\u001b[32mTry\u001b[39m[\u001b[32mInt\u001b[39m]] = \u001b[32mNone\u001b[39m\n",
       "\u001b[36minvalid1\u001b[39m: \u001b[32mFuture\u001b[39m[\u001b[32mInt\u001b[39m] = \u001b[32m\u001b[33mFailure\u001b[39m(\n",
       "  scala.concurrent.Future$$anon$2: Future.filter predicate is not satisfied\n",
       ")\u001b[39m\n",
       "\u001b[36mres6_11\u001b[39m: \u001b[32mOption\u001b[39m[\u001b[32mscala\u001b[39m.\u001b[32mutil\u001b[39m.\u001b[32mTry\u001b[39m[\u001b[32mInt\u001b[39m]] = \u001b[33mSome\u001b[39m(\n",
       "  \u001b[33mFailure\u001b[39m(\n",
       "    scala.concurrent.Future$$anon$2: Future.filter predicate is not satisfied\n",
       "  )\n",
       ")"
      ]
     },
     "metadata": {},
     "output_type": "display_data"
    }
   ],
   "source": [
    "import scala.concurrent.Future\n",
    "import scala.concurrent.ExecutionContext.Implicits.global\n",
    "\n",
    "val f = Future {2}\n",
    "val valid = f.filter(res => res > 0)\n",
    "valid.value\n",
    "\n",
    "val invalid = f.filter(res => res < 0)\n",
    "invalid.value\n",
    "\n",
    "val f1 = Future {2}\n",
    "val valid1 = for(res <- f1 if res > 0) yield res\n",
    "valid1.value\n",
    "\n",
    "val invalid1 = for(res <- f1 if res < 0) yield res\n",
    "invalid1.value"
   ]
  },
  {
   "cell_type": "markdown",
   "metadata": {},
   "source": [
    "### Future Failure - failed, fallbackTo, recover, recoverWith\n",
    "* failed - converts a failed future to successful Future[Throwable]\n",
    "* fallbackTo - can pass another future, if another future fails then original future exception takes precedence\n",
    "* recover - transform a failedFuture to successful by passing value, if original future is successful then it takes precedence\n",
    "* recoverWith - transform a failedFuture to successful Future, if original future is successful then it takes precedence, if passed future fails then passed future exception takes precedence"
   ]
  },
  {
   "cell_type": "code",
   "execution_count": 3,
   "metadata": {},
   "outputs": [
    {
     "data": {
      "text/html": [
       "<div class=\"jp-RenderedText\">\n",
       "<pre><code><span style=\"color: rgb(0, 187, 0)\"><span class=\"ansi-green-fg\">import </span></span><span style=\"color: rgb(0, 187, 187)\"><span class=\"ansi-cyan-fg\">scala.concurrent.Future\n",
       "</span></span>\n",
       "<span style=\"color: rgb(0, 187, 0)\"><span class=\"ansi-green-fg\">import </span></span><span style=\"color: rgb(0, 187, 187)\"><span class=\"ansi-cyan-fg\">scala.concurrent.ExecutionContext.Implicits.global\n",
       "\n",
       "</span></span>\n",
       "<span style=\"color: rgb(0, 187, 187)\"><span class=\"ansi-cyan-fg\">failingFuture</span></span>: <span style=\"color: rgb(0, 187, 0)\"><span class=\"ansi-green-fg\">Future</span></span>[<span style=\"color: rgb(0, 187, 0)\"><span class=\"ansi-green-fg\">Int</span></span>] = <span style=\"color: rgb(0, 187, 0)\"><span class=\"ansi-green-fg\"><span style=\"color: yellow\"><span class=\"ansi-yellow-fg\">Failure</span></span>(java.lang.ArithmeticException: / by zero)</span></span>\n",
       "<span style=\"color: rgb(0, 187, 187)\"><span class=\"ansi-cyan-fg\">res2_3</span></span>: <span style=\"color: rgb(0, 187, 0)\"><span class=\"ansi-green-fg\">Option</span></span>[<span style=\"color: rgb(0, 187, 0)\"><span class=\"ansi-green-fg\">scala</span></span>.<span style=\"color: rgb(0, 187, 0)\"><span class=\"ansi-green-fg\">util</span></span>.<span style=\"color: rgb(0, 187, 0)\"><span class=\"ansi-green-fg\">Try</span></span>[<span style=\"color: rgb(0, 187, 0)\"><span class=\"ansi-green-fg\">Int</span></span>]] = <span style=\"color: rgb(0, 187, 0)\"><span class=\"ansi-green-fg\">None</span></span>\n",
       "<span style=\"color: rgb(0, 187, 187)\"><span class=\"ansi-cyan-fg\">expectedFailure</span></span>: <span style=\"color: rgb(0, 187, 0)\"><span class=\"ansi-green-fg\">Future</span></span>[<span style=\"color: rgb(0, 187, 0)\"><span class=\"ansi-green-fg\">Throwable</span></span>] = <span style=\"color: rgb(0, 187, 0)\"><span class=\"ansi-green-fg\"><span style=\"color: yellow\"><span class=\"ansi-yellow-fg\">Success</span></span>(java.lang.ArithmeticException: / by zero)</span></span>\n",
       "<span style=\"color: rgb(0, 187, 187)\"><span class=\"ansi-cyan-fg\">res2_5</span></span>: <span style=\"color: rgb(0, 187, 0)\"><span class=\"ansi-green-fg\">Option</span></span>[<span style=\"color: rgb(0, 187, 0)\"><span class=\"ansi-green-fg\">scala</span></span>.<span style=\"color: rgb(0, 187, 0)\"><span class=\"ansi-green-fg\">util</span></span>.<span style=\"color: rgb(0, 187, 0)\"><span class=\"ansi-green-fg\">Try</span></span>[<span style=\"color: rgb(0, 187, 0)\"><span class=\"ansi-green-fg\">Throwable</span></span>]] = <span style=\"color: rgb(0, 187, 0)\"><span class=\"ansi-green-fg\">None</span></span>\n",
       "<span style=\"color: rgb(0, 187, 187)\"><span class=\"ansi-cyan-fg\">successFuture</span></span>: <span style=\"color: rgb(0, 187, 0)\"><span class=\"ansi-green-fg\">Future</span></span>[<span style=\"color: rgb(0, 187, 0)\"><span class=\"ansi-green-fg\">Int</span></span>] = <span style=\"color: rgb(0, 187, 0)\"><span class=\"ansi-green-fg\"><span style=\"color: yellow\"><span class=\"ansi-yellow-fg\">Success</span></span>(<span style=\"color: rgb(0, 187, 0)\"><span class=\"ansi-green-fg\">2</span></span>)</span></span>\n",
       "<span style=\"color: rgb(0, 187, 187)\"><span class=\"ansi-cyan-fg\">res2_7</span></span>: <span style=\"color: rgb(0, 187, 0)\"><span class=\"ansi-green-fg\">Option</span></span>[<span style=\"color: rgb(0, 187, 0)\"><span class=\"ansi-green-fg\">scala</span></span>.<span style=\"color: rgb(0, 187, 0)\"><span class=\"ansi-green-fg\">util</span></span>.<span style=\"color: rgb(0, 187, 0)\"><span class=\"ansi-green-fg\">Try</span></span>[<span style=\"color: rgb(0, 187, 0)\"><span class=\"ansi-green-fg\">Int</span></span>]] = <span style=\"color: rgb(0, 187, 0)\"><span class=\"ansi-green-fg\">None</span></span>\n",
       "<span style=\"color: rgb(0, 187, 187)\"><span class=\"ansi-cyan-fg\">expected</span></span>: <span style=\"color: rgb(0, 187, 0)\"><span class=\"ansi-green-fg\">Future</span></span>[<span style=\"color: rgb(0, 187, 0)\"><span class=\"ansi-green-fg\">Throwable</span></span>] = <span style=\"color: rgb(0, 187, 0)\"><span class=\"ansi-green-fg\"><span style=\"color: yellow\"><span class=\"ansi-yellow-fg\">Failure</span></span>(\n",
       "  scala.concurrent.Future$$anon$3: Future.failed not completed with a throwable.\n",
       ")</span></span>\n",
       "<span style=\"color: rgb(0, 187, 187)\"><span class=\"ansi-cyan-fg\">res2_9</span></span>: <span style=\"color: rgb(0, 187, 0)\"><span class=\"ansi-green-fg\">Option</span></span>[<span style=\"color: rgb(0, 187, 0)\"><span class=\"ansi-green-fg\">scala</span></span>.<span style=\"color: rgb(0, 187, 0)\"><span class=\"ansi-green-fg\">util</span></span>.<span style=\"color: rgb(0, 187, 0)\"><span class=\"ansi-green-fg\">Try</span></span>[<span style=\"color: rgb(0, 187, 0)\"><span class=\"ansi-green-fg\">Throwable</span></span>]] = <span style=\"color: rgb(0, 187, 0)\"><span class=\"ansi-green-fg\">None</span></span></code></pre>\n",
       "</div>"
      ],
      "text/plain": [
       "\u001b[32mimport \u001b[39m\u001b[36mscala.concurrent.Future\n",
       "\u001b[39m\n",
       "\u001b[32mimport \u001b[39m\u001b[36mscala.concurrent.ExecutionContext.Implicits.global\n",
       "\n",
       "\u001b[39m\n",
       "\u001b[36mfailingFuture\u001b[39m: \u001b[32mFuture\u001b[39m[\u001b[32mInt\u001b[39m] = \u001b[32m\u001b[33mFailure\u001b[39m(java.lang.ArithmeticException: / by zero)\u001b[39m\n",
       "\u001b[36mres2_3\u001b[39m: \u001b[32mOption\u001b[39m[\u001b[32mscala\u001b[39m.\u001b[32mutil\u001b[39m.\u001b[32mTry\u001b[39m[\u001b[32mInt\u001b[39m]] = \u001b[32mNone\u001b[39m\n",
       "\u001b[36mexpectedFailure\u001b[39m: \u001b[32mFuture\u001b[39m[\u001b[32mThrowable\u001b[39m] = \u001b[32m\u001b[33mSuccess\u001b[39m(java.lang.ArithmeticException: / by zero)\u001b[39m\n",
       "\u001b[36mres2_5\u001b[39m: \u001b[32mOption\u001b[39m[\u001b[32mscala\u001b[39m.\u001b[32mutil\u001b[39m.\u001b[32mTry\u001b[39m[\u001b[32mThrowable\u001b[39m]] = \u001b[32mNone\u001b[39m\n",
       "\u001b[36msuccessFuture\u001b[39m: \u001b[32mFuture\u001b[39m[\u001b[32mInt\u001b[39m] = \u001b[32m\u001b[33mSuccess\u001b[39m(\u001b[32m2\u001b[39m)\u001b[39m\n",
       "\u001b[36mres2_7\u001b[39m: \u001b[32mOption\u001b[39m[\u001b[32mscala\u001b[39m.\u001b[32mutil\u001b[39m.\u001b[32mTry\u001b[39m[\u001b[32mInt\u001b[39m]] = \u001b[32mNone\u001b[39m\n",
       "\u001b[36mexpected\u001b[39m: \u001b[32mFuture\u001b[39m[\u001b[32mThrowable\u001b[39m] = \u001b[32m\u001b[33mFailure\u001b[39m(\n",
       "  scala.concurrent.Future$$anon$3: Future.failed not completed with a throwable.\n",
       ")\u001b[39m\n",
       "\u001b[36mres2_9\u001b[39m: \u001b[32mOption\u001b[39m[\u001b[32mscala\u001b[39m.\u001b[32mutil\u001b[39m.\u001b[32mTry\u001b[39m[\u001b[32mThrowable\u001b[39m]] = \u001b[32mNone\u001b[39m"
      ]
     },
     "metadata": {},
     "output_type": "display_data"
    }
   ],
   "source": [
    "import scala.concurrent.Future\n",
    "import scala.concurrent.ExecutionContext.Implicits.global\n",
    "\n",
    "val failingFuture = Future {2/0}\n",
    "failingFuture.value\n",
    "val expectedFailure = failingFuture.failed\n",
    "expectedFailure.value\n",
    "\n",
    "val successFuture = Future {2}\n",
    "successFuture.value\n",
    "val expected = successFuture.failed  // NoSuchElement exception\n",
    "expected.value"
   ]
  },
  {
   "cell_type": "code",
   "execution_count": 4,
   "metadata": {},
   "outputs": [
    {
     "data": {
      "text/html": [
       "<div class=\"jp-RenderedText\">\n",
       "<pre><code><span style=\"color: rgb(0, 187, 187)\"><span class=\"ansi-cyan-fg\">fallback</span></span>: <span style=\"color: rgb(0, 187, 0)\"><span class=\"ansi-green-fg\">Future</span></span>[<span style=\"color: rgb(0, 187, 0)\"><span class=\"ansi-green-fg\">Int</span></span>] = <span style=\"color: rgb(0, 187, 0)\"><span class=\"ansi-green-fg\"><span style=\"color: yellow\"><span class=\"ansi-yellow-fg\">Success</span></span>(<span style=\"color: rgb(0, 187, 0)\"><span class=\"ansi-green-fg\">2</span></span>)</span></span>\n",
       "<span style=\"color: rgb(0, 187, 187)\"><span class=\"ansi-cyan-fg\">res3_1</span></span>: <span style=\"color: rgb(0, 187, 0)\"><span class=\"ansi-green-fg\">Option</span></span>[<span style=\"color: rgb(0, 187, 0)\"><span class=\"ansi-green-fg\">scala</span></span>.<span style=\"color: rgb(0, 187, 0)\"><span class=\"ansi-green-fg\">util</span></span>.<span style=\"color: rgb(0, 187, 0)\"><span class=\"ansi-green-fg\">Try</span></span>[<span style=\"color: rgb(0, 187, 0)\"><span class=\"ansi-green-fg\">Int</span></span>]] = <span style=\"color: yellow\"><span class=\"ansi-yellow-fg\">Some</span></span>(<span style=\"color: yellow\"><span class=\"ansi-yellow-fg\">Success</span></span>(<span style=\"color: rgb(0, 187, 0)\"><span class=\"ansi-green-fg\">2</span></span>))</code></pre>\n",
       "</div>"
      ],
      "text/plain": [
       "\u001b[36mfallback\u001b[39m: \u001b[32mFuture\u001b[39m[\u001b[32mInt\u001b[39m] = \u001b[32m\u001b[33mSuccess\u001b[39m(\u001b[32m2\u001b[39m)\u001b[39m\n",
       "\u001b[36mres3_1\u001b[39m: \u001b[32mOption\u001b[39m[\u001b[32mscala\u001b[39m.\u001b[32mutil\u001b[39m.\u001b[32mTry\u001b[39m[\u001b[32mInt\u001b[39m]] = \u001b[33mSome\u001b[39m(\u001b[33mSuccess\u001b[39m(\u001b[32m2\u001b[39m))"
      ]
     },
     "metadata": {},
     "output_type": "display_data"
    }
   ],
   "source": [
    "val fallback = failingFuture.fallbackTo(successFuture)\n",
    "fallback.value"
   ]
  },
  {
   "cell_type": "code",
   "execution_count": 5,
   "metadata": {},
   "outputs": [
    {
     "data": {
      "text/html": [
       "<div class=\"jp-RenderedText\">\n",
       "<pre><code><span style=\"color: rgb(0, 187, 187)\"><span class=\"ansi-cyan-fg\">failedFallback</span></span>: <span style=\"color: rgb(0, 187, 0)\"><span class=\"ansi-green-fg\">Future</span></span>[<span style=\"color: rgb(0, 187, 0)\"><span class=\"ansi-green-fg\">Int</span></span>] = <span style=\"color: rgb(0, 187, 0)\"><span class=\"ansi-green-fg\"><span style=\"color: yellow\"><span class=\"ansi-yellow-fg\">Failure</span></span>(java.lang.ArithmeticException: / by zero)</span></span>\n",
       "<span style=\"color: rgb(0, 187, 187)\"><span class=\"ansi-cyan-fg\">res4_1</span></span>: <span style=\"color: rgb(0, 187, 0)\"><span class=\"ansi-green-fg\">Option</span></span>[<span style=\"color: rgb(0, 187, 0)\"><span class=\"ansi-green-fg\">scala</span></span>.<span style=\"color: rgb(0, 187, 0)\"><span class=\"ansi-green-fg\">util</span></span>.<span style=\"color: rgb(0, 187, 0)\"><span class=\"ansi-green-fg\">Try</span></span>[<span style=\"color: rgb(0, 187, 0)\"><span class=\"ansi-green-fg\">Int</span></span>]] = <span style=\"color: rgb(0, 187, 0)\"><span class=\"ansi-green-fg\">None</span></span></code></pre>\n",
       "</div>"
      ],
      "text/plain": [
       "\u001b[36mfailedFallback\u001b[39m: \u001b[32mFuture\u001b[39m[\u001b[32mInt\u001b[39m] = \u001b[32m\u001b[33mFailure\u001b[39m(java.lang.ArithmeticException: / by zero)\u001b[39m\n",
       "\u001b[36mres4_1\u001b[39m: \u001b[32mOption\u001b[39m[\u001b[32mscala\u001b[39m.\u001b[32mutil\u001b[39m.\u001b[32mTry\u001b[39m[\u001b[32mInt\u001b[39m]] = \u001b[32mNone\u001b[39m"
      ]
     },
     "metadata": {},
     "output_type": "display_data"
    }
   ],
   "source": [
    "val failedFallback = failingFuture.fallbackTo(      \n",
    "    Future{val res = 2; require(res<0); res}       // original future exception takes precedence\n",
    ")\n",
    "failedFallback.value"
   ]
  },
  {
   "cell_type": "code",
   "execution_count": 10,
   "metadata": {},
   "outputs": [
    {
     "data": {
      "text/html": [
       "<div class=\"jp-RenderedText\">\n",
       "<pre><code><span style=\"color: rgb(0, 187, 187)\"><span class=\"ansi-cyan-fg\">recovered</span></span>: <span style=\"color: rgb(0, 187, 0)\"><span class=\"ansi-green-fg\">Future</span></span>[<span style=\"color: rgb(0, 187, 0)\"><span class=\"ansi-green-fg\">Int</span></span>] = <span style=\"color: rgb(0, 187, 0)\"><span class=\"ansi-green-fg\"><span style=\"color: yellow\"><span class=\"ansi-yellow-fg\">Success</span></span>(<span style=\"color: rgb(0, 187, 0)\"><span class=\"ansi-green-fg\">-1</span></span>)</span></span>\n",
       "<span style=\"color: rgb(0, 187, 187)\"><span class=\"ansi-cyan-fg\">res9_1</span></span>: <span style=\"color: rgb(0, 187, 0)\"><span class=\"ansi-green-fg\">Option</span></span>[<span style=\"color: rgb(0, 187, 0)\"><span class=\"ansi-green-fg\">scala</span></span>.<span style=\"color: rgb(0, 187, 0)\"><span class=\"ansi-green-fg\">util</span></span>.<span style=\"color: rgb(0, 187, 0)\"><span class=\"ansi-green-fg\">Try</span></span>[<span style=\"color: rgb(0, 187, 0)\"><span class=\"ansi-green-fg\">Int</span></span>]] = <span style=\"color: rgb(0, 187, 0)\"><span class=\"ansi-green-fg\">None</span></span></code></pre>\n",
       "</div>"
      ],
      "text/plain": [
       "\u001b[36mrecovered\u001b[39m: \u001b[32mFuture\u001b[39m[\u001b[32mInt\u001b[39m] = \u001b[32m\u001b[33mSuccess\u001b[39m(\u001b[32m-1\u001b[39m)\u001b[39m\n",
       "\u001b[36mres9_1\u001b[39m: \u001b[32mOption\u001b[39m[\u001b[32mscala\u001b[39m.\u001b[32mutil\u001b[39m.\u001b[32mTry\u001b[39m[\u001b[32mInt\u001b[39m]] = \u001b[32mNone\u001b[39m"
      ]
     },
     "metadata": {},
     "output_type": "display_data"
    }
   ],
   "source": [
    "val recovered = failingFuture.recover {\n",
    "    case ex: ArithmeticException => -1\n",
    "}\n",
    "recovered.value"
   ]
  },
  {
   "cell_type": "code",
   "execution_count": 12,
   "metadata": {},
   "outputs": [
    {
     "data": {
      "text/html": [
       "<div class=\"jp-RenderedText\">\n",
       "<pre><code><span style=\"color: rgb(0, 187, 187)\"><span class=\"ansi-cyan-fg\">res11_0</span></span>: <span style=\"color: rgb(0, 187, 0)\"><span class=\"ansi-green-fg\">Option</span></span>[<span style=\"color: rgb(0, 187, 0)\"><span class=\"ansi-green-fg\">scala</span></span>.<span style=\"color: rgb(0, 187, 0)\"><span class=\"ansi-green-fg\">util</span></span>.<span style=\"color: rgb(0, 187, 0)\"><span class=\"ansi-green-fg\">Try</span></span>[<span style=\"color: rgb(0, 187, 0)\"><span class=\"ansi-green-fg\">Int</span></span>]] = <span style=\"color: yellow\"><span class=\"ansi-yellow-fg\">Some</span></span>(<span style=\"color: yellow\"><span class=\"ansi-yellow-fg\">Success</span></span>(<span style=\"color: rgb(0, 187, 0)\"><span class=\"ansi-green-fg\">-1</span></span>))\n",
       "<span style=\"color: rgb(0, 187, 187)\"><span class=\"ansi-cyan-fg\">unrecovered</span></span>: <span style=\"color: rgb(0, 187, 0)\"><span class=\"ansi-green-fg\">Future</span></span>[<span style=\"color: rgb(0, 187, 0)\"><span class=\"ansi-green-fg\">Int</span></span>] = <span style=\"color: rgb(0, 187, 0)\"><span class=\"ansi-green-fg\"><span style=\"color: yellow\"><span class=\"ansi-yellow-fg\">Success</span></span>(<span style=\"color: rgb(0, 187, 0)\"><span class=\"ansi-green-fg\">2</span></span>)</span></span>\n",
       "<span style=\"color: rgb(0, 187, 187)\"><span class=\"ansi-cyan-fg\">res11_2</span></span>: <span style=\"color: rgb(0, 187, 0)\"><span class=\"ansi-green-fg\">Option</span></span>[<span style=\"color: rgb(0, 187, 0)\"><span class=\"ansi-green-fg\">scala</span></span>.<span style=\"color: rgb(0, 187, 0)\"><span class=\"ansi-green-fg\">util</span></span>.<span style=\"color: rgb(0, 187, 0)\"><span class=\"ansi-green-fg\">Try</span></span>[<span style=\"color: rgb(0, 187, 0)\"><span class=\"ansi-green-fg\">Int</span></span>]] = <span style=\"color: yellow\"><span class=\"ansi-yellow-fg\">Some</span></span>(<span style=\"color: yellow\"><span class=\"ansi-yellow-fg\">Success</span></span>(<span style=\"color: rgb(0, 187, 0)\"><span class=\"ansi-green-fg\">2</span></span>))</code></pre>\n",
       "</div>"
      ],
      "text/plain": [
       "\u001b[36mres11_0\u001b[39m: \u001b[32mOption\u001b[39m[\u001b[32mscala\u001b[39m.\u001b[32mutil\u001b[39m.\u001b[32mTry\u001b[39m[\u001b[32mInt\u001b[39m]] = \u001b[33mSome\u001b[39m(\u001b[33mSuccess\u001b[39m(\u001b[32m-1\u001b[39m))\n",
       "\u001b[36munrecovered\u001b[39m: \u001b[32mFuture\u001b[39m[\u001b[32mInt\u001b[39m] = \u001b[32m\u001b[33mSuccess\u001b[39m(\u001b[32m2\u001b[39m)\u001b[39m\n",
       "\u001b[36mres11_2\u001b[39m: \u001b[32mOption\u001b[39m[\u001b[32mscala\u001b[39m.\u001b[32mutil\u001b[39m.\u001b[32mTry\u001b[39m[\u001b[32mInt\u001b[39m]] = \u001b[33mSome\u001b[39m(\u001b[33mSuccess\u001b[39m(\u001b[32m2\u001b[39m))"
      ]
     },
     "metadata": {},
     "output_type": "display_data"
    }
   ],
   "source": [
    "recovered.value\n",
    "\n",
    "val unrecovered = successFuture.recover {\n",
    "    case ex: ArithmeticException => -1\n",
    "}\n",
    "unrecovered.value"
   ]
  },
  {
   "cell_type": "code",
   "execution_count": 13,
   "metadata": {},
   "outputs": [
    {
     "data": {
      "text/html": [
       "<div class=\"jp-RenderedText\">\n",
       "<pre><code><span style=\"color: rgb(0, 187, 187)\"><span class=\"ansi-cyan-fg\">recovered</span></span>: <span style=\"color: rgb(0, 187, 0)\"><span class=\"ansi-green-fg\">Future</span></span>[<span style=\"color: rgb(0, 187, 0)\"><span class=\"ansi-green-fg\">Any</span></span>] = <span style=\"color: rgb(0, 187, 0)\"><span class=\"ansi-green-fg\"><span style=\"color: yellow\"><span class=\"ansi-yellow-fg\">Success</span></span>(<span style=\"color: rgb(0, 187, 0)\"><span class=\"ansi-green-fg\">a6906888-300c-4e41-ab9d-fa6af2abf4d6</span></span>)</span></span>\n",
       "<span style=\"color: rgb(0, 187, 187)\"><span class=\"ansi-cyan-fg\">res12_1</span></span>: <span style=\"color: rgb(0, 187, 0)\"><span class=\"ansi-green-fg\">Option</span></span>[<span style=\"color: rgb(0, 187, 0)\"><span class=\"ansi-green-fg\">scala</span></span>.<span style=\"color: rgb(0, 187, 0)\"><span class=\"ansi-green-fg\">util</span></span>.<span style=\"color: rgb(0, 187, 0)\"><span class=\"ansi-green-fg\">Try</span></span>[<span style=\"color: rgb(0, 187, 0)\"><span class=\"ansi-green-fg\">Any</span></span>]] = <span style=\"color: rgb(0, 187, 0)\"><span class=\"ansi-green-fg\">None</span></span></code></pre>\n",
       "</div>"
      ],
      "text/plain": [
       "\u001b[36mrecovered\u001b[39m: \u001b[32mFuture\u001b[39m[\u001b[32mAny\u001b[39m] = \u001b[32m\u001b[33mSuccess\u001b[39m(\u001b[32ma6906888-300c-4e41-ab9d-fa6af2abf4d6\u001b[39m)\u001b[39m\n",
       "\u001b[36mres12_1\u001b[39m: \u001b[32mOption\u001b[39m[\u001b[32mscala\u001b[39m.\u001b[32mutil\u001b[39m.\u001b[32mTry\u001b[39m[\u001b[32mAny\u001b[39m]] = \u001b[32mNone\u001b[39m"
      ]
     },
     "metadata": {},
     "output_type": "display_data"
    }
   ],
   "source": [
    "val recovered = failingFuture.recover {\n",
    "    case ex: ArithmeticException => Future{3}\n",
    "}\n",
    "recovered.value"
   ]
  },
  {
   "cell_type": "code",
   "execution_count": 20,
   "metadata": {},
   "outputs": [
    {
     "data": {
      "text/html": [
       "<div class=\"jp-RenderedText\">\n",
       "<pre><code><span style=\"color: rgb(0, 187, 187)\"><span class=\"ansi-cyan-fg\">res19_0</span></span>: <span style=\"color: rgb(0, 187, 0)\"><span class=\"ansi-green-fg\">Option</span></span>[<span style=\"color: rgb(0, 187, 0)\"><span class=\"ansi-green-fg\">scala</span></span>.<span style=\"color: rgb(0, 187, 0)\"><span class=\"ansi-green-fg\">util</span></span>.<span style=\"color: rgb(0, 187, 0)\"><span class=\"ansi-green-fg\">Try</span></span>[<span style=\"color: rgb(0, 187, 0)\"><span class=\"ansi-green-fg\">Any</span></span>]] = <span style=\"color: yellow\"><span class=\"ansi-yellow-fg\">Some</span></span>(\n",
       "  <span style=\"color: yellow\"><span class=\"ansi-yellow-fg\">Success</span></span>(<span style=\"color: rgb(0, 187, 0)\"><span class=\"ansi-green-fg\"><span style=\"color: yellow\"><span class=\"ansi-yellow-fg\">Success</span></span>(<span style=\"color: rgb(0, 187, 0)\"><span class=\"ansi-green-fg\">3</span></span>)</span></span>)\n",
       ")\n",
       "<span style=\"color: rgb(0, 187, 187)\"><span class=\"ansi-cyan-fg\">unrecovered</span></span>: <span style=\"color: rgb(0, 187, 0)\"><span class=\"ansi-green-fg\">Future</span></span>[<span style=\"color: rgb(0, 187, 0)\"><span class=\"ansi-green-fg\">Any</span></span>] = <span style=\"color: rgb(0, 187, 0)\"><span class=\"ansi-green-fg\"><span style=\"color: yellow\"><span class=\"ansi-yellow-fg\">Success</span></span>(<span style=\"color: rgb(0, 187, 0)\"><span class=\"ansi-green-fg\">222f884b-e835-4626-be19-d690a722b0cc</span></span>)</span></span></code></pre>\n",
       "</div>"
      ],
      "text/plain": [
       "\u001b[36mres19_0\u001b[39m: \u001b[32mOption\u001b[39m[\u001b[32mscala\u001b[39m.\u001b[32mutil\u001b[39m.\u001b[32mTry\u001b[39m[\u001b[32mAny\u001b[39m]] = \u001b[33mSome\u001b[39m(\n",
       "  \u001b[33mSuccess\u001b[39m(\u001b[32m\u001b[33mSuccess\u001b[39m(\u001b[32m3\u001b[39m)\u001b[39m)\n",
       ")\n",
       "\u001b[36munrecovered\u001b[39m: \u001b[32mFuture\u001b[39m[\u001b[32mAny\u001b[39m] = \u001b[32m\u001b[33mSuccess\u001b[39m(\u001b[32m222f884b-e835-4626-be19-d690a722b0cc\u001b[39m)\u001b[39m"
      ]
     },
     "metadata": {},
     "output_type": "display_data"
    }
   ],
   "source": [
    "recovered.value\n",
    "\n",
    "val unrecovered = failingFuture.recover {\n",
    "    case ex: ArithmeticException => Future{val res = 2; require(res<0); res}   \n",
    "}\n"
   ]
  },
  {
   "cell_type": "code",
   "execution_count": 19,
   "metadata": {},
   "outputs": [
    {
     "data": {
      "text/html": [
       "<div class=\"jp-RenderedText\">\n",
       "<pre><code><span style=\"color: rgb(0, 187, 187)\"><span class=\"ansi-cyan-fg\">res18</span></span>: <span style=\"color: rgb(0, 187, 0)\"><span class=\"ansi-green-fg\">Option</span></span>[<span style=\"color: rgb(0, 187, 0)\"><span class=\"ansi-green-fg\">scala</span></span>.<span style=\"color: rgb(0, 187, 0)\"><span class=\"ansi-green-fg\">util</span></span>.<span style=\"color: rgb(0, 187, 0)\"><span class=\"ansi-green-fg\">Try</span></span>[<span style=\"color: rgb(0, 187, 0)\"><span class=\"ansi-green-fg\">Any</span></span>]] = <span style=\"color: yellow\"><span class=\"ansi-yellow-fg\">Some</span></span>(\n",
       "  <span style=\"color: yellow\"><span class=\"ansi-yellow-fg\">Success</span></span>(<span style=\"color: rgb(0, 187, 0)\"><span class=\"ansi-green-fg\"><span style=\"color: yellow\"><span class=\"ansi-yellow-fg\">Failure</span></span>(java.lang.IllegalArgumentException: requirement failed)</span></span>)\n",
       ")</code></pre>\n",
       "</div>"
      ],
      "text/plain": [
       "\u001b[36mres18\u001b[39m: \u001b[32mOption\u001b[39m[\u001b[32mscala\u001b[39m.\u001b[32mutil\u001b[39m.\u001b[32mTry\u001b[39m[\u001b[32mAny\u001b[39m]] = \u001b[33mSome\u001b[39m(\n",
       "  \u001b[33mSuccess\u001b[39m(\u001b[32m\u001b[33mFailure\u001b[39m(java.lang.IllegalArgumentException: requirement failed)\u001b[39m)\n",
       ")"
      ]
     },
     "metadata": {},
     "output_type": "display_data"
    }
   ],
   "source": [
    "unrecovered.value"
   ]
  },
  {
   "cell_type": "markdown",
   "metadata": {},
   "source": [
    "### Future - Transform, TransformWith\n",
    "* transform - transforms Future -> Try\n",
    "* transformWith - transforms Future -> Future"
   ]
  },
  {
   "cell_type": "code",
   "execution_count": 1,
   "metadata": {},
   "outputs": [
    {
     "data": {
      "text/html": [
       "<div class=\"jp-RenderedText\">\n",
       "<pre><code><span style=\"color: rgb(0, 187, 0)\"><span class=\"ansi-green-fg\">import </span></span><span style=\"color: rgb(0, 187, 187)\"><span class=\"ansi-cyan-fg\">scala.concurrent.Future\n",
       "</span></span>\n",
       "<span style=\"color: rgb(0, 187, 0)\"><span class=\"ansi-green-fg\">import </span></span><span style=\"color: rgb(0, 187, 187)\"><span class=\"ansi-cyan-fg\">scala.concurrent.ExecutionContext.Implicits.global\n",
       "</span></span>\n",
       "<span style=\"color: rgb(0, 187, 0)\"><span class=\"ansi-green-fg\">import </span></span><span style=\"color: rgb(0, 187, 187)\"><span class=\"ansi-cyan-fg\">scala.util.{Success, Failure, Try}\n",
       "\n",
       "</span></span>\n",
       "<span style=\"color: rgb(0, 187, 187)\"><span class=\"ansi-cyan-fg\">successFuture</span></span>: <span style=\"color: rgb(0, 187, 0)\"><span class=\"ansi-green-fg\">Future</span></span>[<span style=\"color: rgb(0, 187, 0)\"><span class=\"ansi-green-fg\">Int</span></span>] = <span style=\"color: rgb(0, 187, 0)\"><span class=\"ansi-green-fg\"><span style=\"color: yellow\"><span class=\"ansi-yellow-fg\">Success</span></span>(<span style=\"color: rgb(0, 187, 0)\"><span class=\"ansi-green-fg\">2</span></span>)</span></span>\n",
       "<span style=\"color: rgb(0, 187, 187)\"><span class=\"ansi-cyan-fg\">firstCase</span></span>: <span style=\"color: rgb(0, 187, 0)\"><span class=\"ansi-green-fg\">Future</span></span>[<span style=\"color: rgb(0, 187, 0)\"><span class=\"ansi-green-fg\">Int</span></span>] = <span style=\"color: rgb(0, 187, 0)\"><span class=\"ansi-green-fg\"><span style=\"color: yellow\"><span class=\"ansi-yellow-fg\">Success</span></span>(<span style=\"color: rgb(0, 187, 0)\"><span class=\"ansi-green-fg\">2</span></span>)</span></span>\n",
       "<span style=\"color: rgb(0, 187, 187)\"><span class=\"ansi-cyan-fg\">failingFuture</span></span>: <span style=\"color: rgb(0, 187, 0)\"><span class=\"ansi-green-fg\">Future</span></span>[<span style=\"color: rgb(0, 187, 0)\"><span class=\"ansi-green-fg\">Int</span></span>] = <span style=\"color: rgb(0, 187, 0)\"><span class=\"ansi-green-fg\"><span style=\"color: yellow\"><span class=\"ansi-yellow-fg\">Failure</span></span>(java.lang.ArithmeticException: / by zero)</span></span>\n",
       "<span style=\"color: rgb(0, 187, 187)\"><span class=\"ansi-cyan-fg\">secondCase</span></span>: <span style=\"color: rgb(0, 187, 0)\"><span class=\"ansi-green-fg\">Future</span></span>[<span style=\"color: rgb(0, 187, 0)\"><span class=\"ansi-green-fg\">Int</span></span>] = <span style=\"color: rgb(0, 187, 0)\"><span class=\"ansi-green-fg\"><span style=\"color: yellow\"><span class=\"ansi-yellow-fg\">Failure</span></span>(java.lang.Exception: cause: )</span></span>\n",
       "<span style=\"color: rgb(0, 187, 187)\"><span class=\"ansi-cyan-fg\">res0_7</span></span>: <span style=\"color: rgb(0, 187, 0)\"><span class=\"ansi-green-fg\">Option</span></span>[<span style=\"color: rgb(0, 187, 0)\"><span class=\"ansi-green-fg\">Try</span></span>[<span style=\"color: rgb(0, 187, 0)\"><span class=\"ansi-green-fg\">Int</span></span>]] = <span style=\"color: yellow\"><span class=\"ansi-yellow-fg\">Some</span></span>(\n",
       "  <span style=\"color: yellow\"><span class=\"ansi-yellow-fg\">Failure</span></span>(java.lang.ArithmeticException: / by zero)\n",
       ")</code></pre>\n",
       "</div>"
      ],
      "text/plain": [
       "\u001b[32mimport \u001b[39m\u001b[36mscala.concurrent.Future\n",
       "\u001b[39m\n",
       "\u001b[32mimport \u001b[39m\u001b[36mscala.concurrent.ExecutionContext.Implicits.global\n",
       "\u001b[39m\n",
       "\u001b[32mimport \u001b[39m\u001b[36mscala.util.{Success, Failure, Try}\n",
       "\n",
       "\u001b[39m\n",
       "\u001b[36msuccessFuture\u001b[39m: \u001b[32mFuture\u001b[39m[\u001b[32mInt\u001b[39m] = \u001b[32m\u001b[33mSuccess\u001b[39m(\u001b[32m2\u001b[39m)\u001b[39m\n",
       "\u001b[36mfirstCase\u001b[39m: \u001b[32mFuture\u001b[39m[\u001b[32mInt\u001b[39m] = \u001b[32m\u001b[33mSuccess\u001b[39m(\u001b[32m2\u001b[39m)\u001b[39m\n",
       "\u001b[36mfailingFuture\u001b[39m: \u001b[32mFuture\u001b[39m[\u001b[32mInt\u001b[39m] = \u001b[32m\u001b[33mFailure\u001b[39m(java.lang.ArithmeticException: / by zero)\u001b[39m\n",
       "\u001b[36msecondCase\u001b[39m: \u001b[32mFuture\u001b[39m[\u001b[32mInt\u001b[39m] = \u001b[32m\u001b[33mFailure\u001b[39m(java.lang.Exception: cause: )\u001b[39m\n",
       "\u001b[36mres0_7\u001b[39m: \u001b[32mOption\u001b[39m[\u001b[32mTry\u001b[39m[\u001b[32mInt\u001b[39m]] = \u001b[33mSome\u001b[39m(\n",
       "  \u001b[33mFailure\u001b[39m(java.lang.ArithmeticException: / by zero)\n",
       ")"
      ]
     },
     "metadata": {},
     "output_type": "display_data"
    }
   ],
   "source": [
    "import scala.concurrent.Future\n",
    "import scala.concurrent.ExecutionContext.Implicits.global\n",
    "import scala.util.{Success, Failure, Try}\n",
    "\n",
    "val successFuture = Future {2}\n",
    "val firstCase = successFuture.transform {\n",
    "     case Success(res) => Success(res * 1)\n",
    "     case Failure(ex) => Failure(new Exception(\"cause: \", ex))\n",
    "}\n",
    "\n",
    "val failingFuture = Future {2/0}\n",
    "val secondCase = failingFuture.transform {\n",
    "    case Success(res) => Success(res * 1)\n",
    "    case Failure(ex) => Failure(new Exception(\"cause: \", ex))\n",
    "}\n",
    "\n",
    "failingFuture.value"
   ]
  },
  {
   "cell_type": "code",
   "execution_count": 19,
   "metadata": {},
   "outputs": [
    {
     "data": {
      "text/html": [
       "<div class=\"jp-RenderedText\">\n",
       "<pre><code><span style=\"color: rgb(0, 187, 187)\"><span class=\"ansi-cyan-fg\">successFuture</span></span>: <span style=\"color: rgb(0, 187, 0)\"><span class=\"ansi-green-fg\">Future</span></span>[<span style=\"color: rgb(0, 187, 0)\"><span class=\"ansi-green-fg\">Int</span></span>] = <span style=\"color: rgb(0, 187, 0)\"><span class=\"ansi-green-fg\"><span style=\"color: yellow\"><span class=\"ansi-yellow-fg\">Success</span></span>(<span style=\"color: rgb(0, 187, 0)\"><span class=\"ansi-green-fg\">2</span></span>)</span></span>\n",
       "<span style=\"color: rgb(0, 187, 187)\"><span class=\"ansi-cyan-fg\">firstCase</span></span>: <span style=\"color: rgb(0, 187, 0)\"><span class=\"ansi-green-fg\">Future</span></span>[<span style=\"color: rgb(0, 187, 0)\"><span class=\"ansi-green-fg\">Any</span></span>] = <span style=\"color: rgb(0, 187, 0)\"><span class=\"ansi-green-fg\"><span style=\"color: yellow\"><span class=\"ansi-yellow-fg\">Success</span></span>(<span style=\"color: rgb(0, 187, 0)\"><span class=\"ansi-green-fg\">2</span></span>)</span></span></code></pre>\n",
       "</div>"
      ],
      "text/plain": [
       "\u001b[36msuccessFuture\u001b[39m: \u001b[32mFuture\u001b[39m[\u001b[32mInt\u001b[39m] = \u001b[32m\u001b[33mSuccess\u001b[39m(\u001b[32m2\u001b[39m)\u001b[39m\n",
       "\u001b[36mfirstCase\u001b[39m: \u001b[32mFuture\u001b[39m[\u001b[32mAny\u001b[39m] = \u001b[32m\u001b[33mSuccess\u001b[39m(\u001b[32m2\u001b[39m)\u001b[39m"
      ]
     },
     "metadata": {},
     "output_type": "display_data"
    }
   ],
   "source": [
    "val successFuture = Future {2}\n",
    "val firstCase = successFuture.transformWith {\n",
    "     case Success(res) => Future(res * 1)\n",
    "     case Failure(ex) => Future(new Exception(\"cause: \", ex))\n",
    "}"
   ]
  },
  {
   "cell_type": "markdown",
   "metadata": {},
   "source": [
    "### Combining Future results - zip, zipWith, Future.fold, Future.reduce, Future.sequence, Future.traverse\n",
    "* zip - transform 2 successful futures into a future tuple of both values, if any one of the future fails then the future returned by zip will also fail\n",
    "* fold - accumulate a result across collection of futures yielding a future result, if any future fails the resulting future will fail\n",
    "* reduce - same as fold without an initial value, uses the first future result as the start value. \n",
    "* sequence - transforms a collection of futures to a future of collection of values. eg: List[Future[Int]] -> Future[List[Int]]\n",
    "* traverse - eg: List[Int] -> Future[List[Int]]"
   ]
  },
  {
   "cell_type": "code",
   "execution_count": 15,
   "metadata": {},
   "outputs": [
    {
     "data": {
      "text/html": [
       "<div class=\"jp-RenderedText\">\n",
       "<pre><code><span style=\"color: rgb(0, 187, 0)\"><span class=\"ansi-green-fg\">import </span></span><span style=\"color: rgb(0, 187, 187)\"><span class=\"ansi-cyan-fg\">scala.concurrent.Future\n",
       "</span></span>\n",
       "<span style=\"color: rgb(0, 187, 0)\"><span class=\"ansi-green-fg\">import </span></span><span style=\"color: rgb(0, 187, 187)\"><span class=\"ansi-cyan-fg\">scala.concurrent.ExecutionContext.Implicits.global\n",
       "</span></span>\n",
       "<span style=\"color: rgb(0, 187, 0)\"><span class=\"ansi-green-fg\">import </span></span><span style=\"color: rgb(0, 187, 187)\"><span class=\"ansi-cyan-fg\">scala.util.{Success, Failure, Try}\n",
       "\n",
       "</span></span>\n",
       "<span style=\"color: rgb(0, 187, 187)\"><span class=\"ansi-cyan-fg\">successFuture1</span></span>: <span style=\"color: rgb(0, 187, 0)\"><span class=\"ansi-green-fg\">Future</span></span>[<span style=\"color: rgb(0, 187, 0)\"><span class=\"ansi-green-fg\">Int</span></span>] = <span style=\"color: rgb(0, 187, 0)\"><span class=\"ansi-green-fg\"><span style=\"color: yellow\"><span class=\"ansi-yellow-fg\">Success</span></span>(<span style=\"color: rgb(0, 187, 0)\"><span class=\"ansi-green-fg\">2</span></span>)</span></span>\n",
       "<span style=\"color: rgb(0, 187, 187)\"><span class=\"ansi-cyan-fg\">successFuture2</span></span>: <span style=\"color: rgb(0, 187, 0)\"><span class=\"ansi-green-fg\">Future</span></span>[<span style=\"color: rgb(0, 187, 0)\"><span class=\"ansi-green-fg\">Int</span></span>] = <span style=\"color: rgb(0, 187, 0)\"><span class=\"ansi-green-fg\"><span style=\"color: yellow\"><span class=\"ansi-yellow-fg\">Success</span></span>(<span style=\"color: rgb(0, 187, 0)\"><span class=\"ansi-green-fg\">4</span></span>)</span></span>\n",
       "<span style=\"color: rgb(0, 187, 187)\"><span class=\"ansi-cyan-fg\">zippedSuccess</span></span>: <span style=\"color: rgb(0, 187, 0)\"><span class=\"ansi-green-fg\">Future</span></span>[(<span style=\"color: rgb(0, 187, 0)\"><span class=\"ansi-green-fg\">Int</span></span>, <span style=\"color: rgb(0, 187, 0)\"><span class=\"ansi-green-fg\">Int</span></span>)] = <span style=\"color: rgb(0, 187, 0)\"><span class=\"ansi-green-fg\"><span style=\"color: yellow\"><span class=\"ansi-yellow-fg\">Success</span></span>((<span style=\"color: rgb(0, 187, 0)\"><span class=\"ansi-green-fg\">2</span></span>, <span style=\"color: rgb(0, 187, 0)\"><span class=\"ansi-green-fg\">4</span></span>))</span></span>\n",
       "<span style=\"color: rgb(0, 187, 187)\"><span class=\"ansi-cyan-fg\">failingFuture</span></span>: <span style=\"color: rgb(0, 187, 0)\"><span class=\"ansi-green-fg\">Future</span></span>[<span style=\"color: rgb(0, 187, 0)\"><span class=\"ansi-green-fg\">Int</span></span>] = <span style=\"color: rgb(0, 187, 0)\"><span class=\"ansi-green-fg\"><span style=\"color: yellow\"><span class=\"ansi-yellow-fg\">Failure</span></span>(java.lang.ArithmeticException: / by zero)</span></span>\n",
       "<span style=\"color: rgb(0, 187, 187)\"><span class=\"ansi-cyan-fg\">zippedFailed</span></span>: <span style=\"color: rgb(0, 187, 0)\"><span class=\"ansi-green-fg\">Future</span></span>[(<span style=\"color: rgb(0, 187, 0)\"><span class=\"ansi-green-fg\">Int</span></span>, <span style=\"color: rgb(0, 187, 0)\"><span class=\"ansi-green-fg\">Int</span></span>)] = <span style=\"color: rgb(0, 187, 0)\"><span class=\"ansi-green-fg\"><span style=\"color: yellow\"><span class=\"ansi-yellow-fg\">Failure</span></span>(java.lang.ArithmeticException: / by zero)</span></span></code></pre>\n",
       "</div>"
      ],
      "text/plain": [
       "\u001b[32mimport \u001b[39m\u001b[36mscala.concurrent.Future\n",
       "\u001b[39m\n",
       "\u001b[32mimport \u001b[39m\u001b[36mscala.concurrent.ExecutionContext.Implicits.global\n",
       "\u001b[39m\n",
       "\u001b[32mimport \u001b[39m\u001b[36mscala.util.{Success, Failure, Try}\n",
       "\n",
       "\u001b[39m\n",
       "\u001b[36msuccessFuture1\u001b[39m: \u001b[32mFuture\u001b[39m[\u001b[32mInt\u001b[39m] = \u001b[32m\u001b[33mSuccess\u001b[39m(\u001b[32m2\u001b[39m)\u001b[39m\n",
       "\u001b[36msuccessFuture2\u001b[39m: \u001b[32mFuture\u001b[39m[\u001b[32mInt\u001b[39m] = \u001b[32m\u001b[33mSuccess\u001b[39m(\u001b[32m4\u001b[39m)\u001b[39m\n",
       "\u001b[36mzippedSuccess\u001b[39m: \u001b[32mFuture\u001b[39m[(\u001b[32mInt\u001b[39m, \u001b[32mInt\u001b[39m)] = \u001b[32m\u001b[33mSuccess\u001b[39m((\u001b[32m2\u001b[39m, \u001b[32m4\u001b[39m))\u001b[39m\n",
       "\u001b[36mfailingFuture\u001b[39m: \u001b[32mFuture\u001b[39m[\u001b[32mInt\u001b[39m] = \u001b[32m\u001b[33mFailure\u001b[39m(java.lang.ArithmeticException: / by zero)\u001b[39m\n",
       "\u001b[36mzippedFailed\u001b[39m: \u001b[32mFuture\u001b[39m[(\u001b[32mInt\u001b[39m, \u001b[32mInt\u001b[39m)] = \u001b[32m\u001b[33mFailure\u001b[39m(java.lang.ArithmeticException: / by zero)\u001b[39m"
      ]
     },
     "metadata": {},
     "output_type": "display_data"
    }
   ],
   "source": [
    "import scala.concurrent.Future\n",
    "import scala.concurrent.ExecutionContext.Implicits.global\n",
    "import scala.util.{Success, Failure, Try}\n",
    "\n",
    "val successFuture1 = Future {2}\n",
    "val successFuture2 = Future {4}\n",
    "\n",
    "val zippedSuccess = successFuture1.zip(successFuture2)\n",
    "\n",
    "val failingFuture = Future {2/0}\n",
    "val zippedFailed = successFuture1.zip(failingFuture)"
   ]
  },
  {
   "cell_type": "code",
   "execution_count": 9,
   "metadata": {},
   "outputs": [
    {
     "data": {
      "text/html": [
       "<div class=\"jp-RenderedText\">\n",
       "<pre><code><span style=\"color: rgb(0, 187, 187)\"><span class=\"ansi-cyan-fg\">f1</span></span>: <span style=\"color: rgb(0, 187, 0)\"><span class=\"ansi-green-fg\">Future</span></span>[<span style=\"color: rgb(0, 187, 0)\"><span class=\"ansi-green-fg\">Int</span></span>] = <span style=\"color: rgb(0, 187, 0)\"><span class=\"ansi-green-fg\"><span style=\"color: yellow\"><span class=\"ansi-yellow-fg\">Success</span></span>(<span style=\"color: rgb(0, 187, 0)\"><span class=\"ansi-green-fg\">2</span></span>)</span></span>\n",
       "<span style=\"color: rgb(0, 187, 187)\"><span class=\"ansi-cyan-fg\">f2</span></span>: <span style=\"color: rgb(0, 187, 0)\"><span class=\"ansi-green-fg\">Future</span></span>[<span style=\"color: rgb(0, 187, 0)\"><span class=\"ansi-green-fg\">String</span></span>] = <span style=\"color: rgb(0, 187, 0)\"><span class=\"ansi-green-fg\"><span style=\"color: yellow\"><span class=\"ansi-yellow-fg\">Success</span></span>(<span style=\"color: rgb(0, 187, 0)\"><span class=\"ansi-green-fg\">&quot;abc&quot;</span></span>)</span></span>\n",
       "<span style=\"color: rgb(0, 187, 187)\"><span class=\"ansi-cyan-fg\">zipped</span></span>: <span style=\"color: rgb(0, 187, 0)\"><span class=\"ansi-green-fg\">Future</span></span>[(<span style=\"color: rgb(0, 187, 0)\"><span class=\"ansi-green-fg\">Int</span></span>, <span style=\"color: rgb(0, 187, 0)\"><span class=\"ansi-green-fg\">String</span></span>)] = <span style=\"color: rgb(0, 187, 0)\"><span class=\"ansi-green-fg\"><span style=\"color: yellow\"><span class=\"ansi-yellow-fg\">Success</span></span>((<span style=\"color: rgb(0, 187, 0)\"><span class=\"ansi-green-fg\">2</span></span>, <span style=\"color: rgb(0, 187, 0)\"><span class=\"ansi-green-fg\">&quot;abc&quot;</span></span>))</span></span>\n",
       "<span style=\"color: rgb(0, 187, 187)\"><span class=\"ansi-cyan-fg\">mapped</span></span>: <span style=\"color: rgb(0, 187, 0)\"><span class=\"ansi-green-fg\">Future</span></span>[<span style=\"color: rgb(0, 187, 0)\"><span class=\"ansi-green-fg\">String</span></span>] = <span style=\"color: rgb(0, 187, 0)\"><span class=\"ansi-green-fg\"><span style=\"color: yellow\"><span class=\"ansi-yellow-fg\">Success</span></span>(<span style=\"color: rgb(0, 187, 0)\"><span class=\"ansi-green-fg\">&quot;2 - abc&quot;</span></span>)</span></span>\n",
       "<span style=\"color: rgb(0, 187, 187)\"><span class=\"ansi-cyan-fg\">fut</span></span>: <span style=\"color: rgb(0, 187, 0)\"><span class=\"ansi-green-fg\">Future</span></span>[<span style=\"color: rgb(0, 187, 0)\"><span class=\"ansi-green-fg\">String</span></span>] = <span style=\"color: rgb(0, 187, 0)\"><span class=\"ansi-green-fg\"><span style=\"color: yellow\"><span class=\"ansi-yellow-fg\">Success</span></span>(<span style=\"color: rgb(0, 187, 0)\"><span class=\"ansi-green-fg\">&quot;2 - abc&quot;</span></span>)</span></span>\n",
       "<span style=\"color: rgb(0, 187, 187)\"><span class=\"ansi-cyan-fg\">res8_5</span></span>: <span style=\"color: rgb(0, 187, 0)\"><span class=\"ansi-green-fg\">String</span></span> = <span style=\"color: rgb(0, 187, 0)\"><span class=\"ansi-green-fg\">&quot;Future(&lt;not completed&gt;)test&quot;</span></span></code></pre>\n",
       "</div>"
      ],
      "text/plain": [
       "\u001b[36mf1\u001b[39m: \u001b[32mFuture\u001b[39m[\u001b[32mInt\u001b[39m] = \u001b[32m\u001b[33mSuccess\u001b[39m(\u001b[32m2\u001b[39m)\u001b[39m\n",
       "\u001b[36mf2\u001b[39m: \u001b[32mFuture\u001b[39m[\u001b[32mString\u001b[39m] = \u001b[32m\u001b[33mSuccess\u001b[39m(\u001b[32m\"abc\"\u001b[39m)\u001b[39m\n",
       "\u001b[36mzipped\u001b[39m: \u001b[32mFuture\u001b[39m[(\u001b[32mInt\u001b[39m, \u001b[32mString\u001b[39m)] = \u001b[32m\u001b[33mSuccess\u001b[39m((\u001b[32m2\u001b[39m, \u001b[32m\"abc\"\u001b[39m))\u001b[39m\n",
       "\u001b[36mmapped\u001b[39m: \u001b[32mFuture\u001b[39m[\u001b[32mString\u001b[39m] = \u001b[32m\u001b[33mSuccess\u001b[39m(\u001b[32m\"2 - abc\"\u001b[39m)\u001b[39m\n",
       "\u001b[36mfut\u001b[39m: \u001b[32mFuture\u001b[39m[\u001b[32mString\u001b[39m] = \u001b[32m\u001b[33mSuccess\u001b[39m(\u001b[32m\"2 - abc\"\u001b[39m)\u001b[39m\n",
       "\u001b[36mres8_5\u001b[39m: \u001b[32mString\u001b[39m = \u001b[32m\"Future(<not completed>)test\"\u001b[39m"
      ]
     },
     "metadata": {},
     "output_type": "display_data"
    }
   ],
   "source": [
    "val f1 = Future {2}\n",
    "val f2 = Future {\"abc\"}\n",
    "\n",
    "val zipped = f1.zip(f2)\n",
    "val mapped = zipped.map {\n",
    "    case (num,str) => s\"$num - $str\"\n",
    "}\n",
    "\n",
    "val fut = f1.zipWith(f2) {\n",
    "    case (num,str) => s\"$num - $str\"\n",
    "}\n",
    "\n",
    "fut + \"test\""
   ]
  },
  {
   "cell_type": "code",
   "execution_count": 10,
   "metadata": {},
   "outputs": [
    {
     "data": {
      "text/plain": [
       "\u001b[36mres9\u001b[39m: \u001b[32mString\u001b[39m = \u001b[32m\"Some(Success(2 - abc))test\"\u001b[39m"
      ]
     },
     "execution_count": 10,
     "metadata": {},
     "output_type": "execute_result"
    }
   ],
   "source": [
    "fut.value + \"test\""
   ]
  },
  {
   "cell_type": "code",
   "execution_count": 16,
   "metadata": {},
   "outputs": [
    {
     "data": {
      "text/html": [
       "<div class=\"jp-RenderedText\">\n",
       "<pre><code><span style=\"color: rgb(0, 187, 187)\"><span class=\"ansi-cyan-fg\">futureNums</span></span>: <span style=\"color: rgb(0, 187, 0)\"><span class=\"ansi-green-fg\">List</span></span>[<span style=\"color: rgb(0, 187, 0)\"><span class=\"ansi-green-fg\">Future</span></span>[<span style=\"color: rgb(0, 187, 0)\"><span class=\"ansi-green-fg\">Int</span></span>]] = <span style=\"color: yellow\"><span class=\"ansi-yellow-fg\">List</span></span>(\n",
       "  <span style=\"color: rgb(0, 187, 0)\"><span class=\"ansi-green-fg\"><span style=\"color: yellow\"><span class=\"ansi-yellow-fg\">Success</span></span>(<span style=\"color: rgb(0, 187, 0)\"><span class=\"ansi-green-fg\">2</span></span>)</span></span>,\n",
       "  <span style=\"color: rgb(0, 187, 0)\"><span class=\"ansi-green-fg\"><span style=\"color: yellow\"><span class=\"ansi-yellow-fg\">Success</span></span>(<span style=\"color: rgb(0, 187, 0)\"><span class=\"ansi-green-fg\">4</span></span>)</span></span>\n",
       ")\n",
       "<span style=\"color: rgb(0, 187, 187)\"><span class=\"ansi-cyan-fg\">res15_1</span></span>: <span style=\"color: rgb(0, 187, 0)\"><span class=\"ansi-green-fg\">Future</span></span>[<span style=\"color: rgb(0, 187, 0)\"><span class=\"ansi-green-fg\">Int</span></span>] = <span style=\"color: rgb(0, 187, 0)\"><span class=\"ansi-green-fg\"><span style=\"color: yellow\"><span class=\"ansi-yellow-fg\">Success</span></span>(<span style=\"color: rgb(0, 187, 0)\"><span class=\"ansi-green-fg\">7</span></span>)</span></span></code></pre>\n",
       "</div>"
      ],
      "text/plain": [
       "\u001b[36mfutureNums\u001b[39m: \u001b[32mList\u001b[39m[\u001b[32mFuture\u001b[39m[\u001b[32mInt\u001b[39m]] = \u001b[33mList\u001b[39m(\n",
       "  \u001b[32m\u001b[33mSuccess\u001b[39m(\u001b[32m2\u001b[39m)\u001b[39m,\n",
       "  \u001b[32m\u001b[33mSuccess\u001b[39m(\u001b[32m4\u001b[39m)\u001b[39m\n",
       ")\n",
       "\u001b[36mres15_1\u001b[39m: \u001b[32mFuture\u001b[39m[\u001b[32mInt\u001b[39m] = \u001b[32m\u001b[33mSuccess\u001b[39m(\u001b[32m7\u001b[39m)\u001b[39m"
      ]
     },
     "metadata": {},
     "output_type": "display_data"
    }
   ],
   "source": [
    "val futureNums = List(successFuture1,successFuture2)\n",
    "Future.fold(futureNums)(1){(acc, num) => acc + num}"
   ]
  },
  {
   "cell_type": "code",
   "execution_count": 17,
   "metadata": {},
   "outputs": [
    {
     "data": {
      "text/html": [
       "<div class=\"jp-RenderedText\">\n",
       "<pre><code><span style=\"color: rgb(0, 187, 187)\"><span class=\"ansi-cyan-fg\">futureNums</span></span>: <span style=\"color: rgb(0, 187, 0)\"><span class=\"ansi-green-fg\">List</span></span>[<span style=\"color: rgb(0, 187, 0)\"><span class=\"ansi-green-fg\">Future</span></span>[<span style=\"color: rgb(0, 187, 0)\"><span class=\"ansi-green-fg\">Int</span></span>]] = <span style=\"color: yellow\"><span class=\"ansi-yellow-fg\">List</span></span>(\n",
       "  <span style=\"color: rgb(0, 187, 0)\"><span class=\"ansi-green-fg\"><span style=\"color: yellow\"><span class=\"ansi-yellow-fg\">Success</span></span>(<span style=\"color: rgb(0, 187, 0)\"><span class=\"ansi-green-fg\">2</span></span>)</span></span>,\n",
       "  <span style=\"color: rgb(0, 187, 0)\"><span class=\"ansi-green-fg\"><span style=\"color: yellow\"><span class=\"ansi-yellow-fg\">Success</span></span>(<span style=\"color: rgb(0, 187, 0)\"><span class=\"ansi-green-fg\">4</span></span>)</span></span>\n",
       ")\n",
       "<span style=\"color: rgb(0, 187, 187)\"><span class=\"ansi-cyan-fg\">res16_1</span></span>: <span style=\"color: rgb(0, 187, 0)\"><span class=\"ansi-green-fg\">Future</span></span>[<span style=\"color: rgb(0, 187, 0)\"><span class=\"ansi-green-fg\">Int</span></span>] = <span style=\"color: rgb(0, 187, 0)\"><span class=\"ansi-green-fg\"><span style=\"color: yellow\"><span class=\"ansi-yellow-fg\">Success</span></span>(<span style=\"color: rgb(0, 187, 0)\"><span class=\"ansi-green-fg\">6</span></span>)</span></span></code></pre>\n",
       "</div>"
      ],
      "text/plain": [
       "\u001b[36mfutureNums\u001b[39m: \u001b[32mList\u001b[39m[\u001b[32mFuture\u001b[39m[\u001b[32mInt\u001b[39m]] = \u001b[33mList\u001b[39m(\n",
       "  \u001b[32m\u001b[33mSuccess\u001b[39m(\u001b[32m2\u001b[39m)\u001b[39m,\n",
       "  \u001b[32m\u001b[33mSuccess\u001b[39m(\u001b[32m4\u001b[39m)\u001b[39m\n",
       ")\n",
       "\u001b[36mres16_1\u001b[39m: \u001b[32mFuture\u001b[39m[\u001b[32mInt\u001b[39m] = \u001b[32m\u001b[33mSuccess\u001b[39m(\u001b[32m6\u001b[39m)\u001b[39m"
      ]
     },
     "metadata": {},
     "output_type": "display_data"
    }
   ],
   "source": [
    "val futureNums = List(successFuture1,successFuture2)\n",
    "Future.reduce(futureNums){(acc, num) => acc + num}"
   ]
  },
  {
   "cell_type": "code",
   "execution_count": 18,
   "metadata": {},
   "outputs": [
    {
     "data": {
      "text/html": [
       "<div class=\"jp-RenderedText\">\n",
       "<pre><code><span style=\"color: rgb(0, 187, 187)\"><span class=\"ansi-cyan-fg\">f</span></span>: <span style=\"color: rgb(0, 187, 0)\"><span class=\"ansi-green-fg\">Future</span></span>[<span style=\"color: rgb(0, 187, 0)\"><span class=\"ansi-green-fg\">List</span></span>[<span style=\"color: rgb(0, 187, 0)\"><span class=\"ansi-green-fg\">Int</span></span>]] = <span style=\"color: rgb(0, 187, 0)\"><span class=\"ansi-green-fg\"><span style=\"color: yellow\"><span class=\"ansi-yellow-fg\">Success</span></span>(<span style=\"color: yellow\"><span class=\"ansi-yellow-fg\">List</span></span>(<span style=\"color: rgb(0, 187, 0)\"><span class=\"ansi-green-fg\">2</span></span>, <span style=\"color: rgb(0, 187, 0)\"><span class=\"ansi-green-fg\">4</span></span>))</span></span></code></pre>\n",
       "</div>"
      ],
      "text/plain": [
       "\u001b[36mf\u001b[39m: \u001b[32mFuture\u001b[39m[\u001b[32mList\u001b[39m[\u001b[32mInt\u001b[39m]] = \u001b[32m\u001b[33mSuccess\u001b[39m(\u001b[33mList\u001b[39m(\u001b[32m2\u001b[39m, \u001b[32m4\u001b[39m))\u001b[39m"
      ]
     },
     "metadata": {},
     "output_type": "display_data"
    }
   ],
   "source": [
    "val f = Future.sequence(futureNums)"
   ]
  },
  {
   "cell_type": "code",
   "execution_count": 19,
   "metadata": {},
   "outputs": [
    {
     "data": {
      "text/plain": [
       "\u001b[36mres18\u001b[39m: \u001b[32mOption\u001b[39m[\u001b[32mTry\u001b[39m[\u001b[32mList\u001b[39m[\u001b[32mInt\u001b[39m]]] = \u001b[33mSome\u001b[39m(\u001b[33mSuccess\u001b[39m(\u001b[33mList\u001b[39m(\u001b[32m2\u001b[39m, \u001b[32m4\u001b[39m)))"
      ]
     },
     "execution_count": 19,
     "metadata": {},
     "output_type": "execute_result"
    }
   ],
   "source": [
    "f.value"
   ]
  },
  {
   "cell_type": "code",
   "execution_count": 21,
   "metadata": {},
   "outputs": [
    {
     "data": {
      "text/html": [
       "<div class=\"jp-RenderedText\">\n",
       "<pre><code><span style=\"color: rgb(0, 187, 187)\"><span class=\"ansi-cyan-fg\">f</span></span>: <span style=\"color: rgb(0, 187, 0)\"><span class=\"ansi-green-fg\">Future</span></span>[<span style=\"color: rgb(0, 187, 0)\"><span class=\"ansi-green-fg\">List</span></span>[<span style=\"color: rgb(0, 187, 0)\"><span class=\"ansi-green-fg\">Int</span></span>]] = <span style=\"color: rgb(0, 187, 0)\"><span class=\"ansi-green-fg\"><span style=\"color: yellow\"><span class=\"ansi-yellow-fg\">Success</span></span>(<span style=\"color: yellow\"><span class=\"ansi-yellow-fg\">List</span></span>(<span style=\"color: rgb(0, 187, 0)\"><span class=\"ansi-green-fg\">2</span></span>, <span style=\"color: rgb(0, 187, 0)\"><span class=\"ansi-green-fg\">4</span></span>, <span style=\"color: rgb(0, 187, 0)\"><span class=\"ansi-green-fg\">6</span></span>))</span></span></code></pre>\n",
       "</div>"
      ],
      "text/plain": [
       "\u001b[36mf\u001b[39m: \u001b[32mFuture\u001b[39m[\u001b[32mList\u001b[39m[\u001b[32mInt\u001b[39m]] = \u001b[32m\u001b[33mSuccess\u001b[39m(\u001b[33mList\u001b[39m(\u001b[32m2\u001b[39m, \u001b[32m4\u001b[39m, \u001b[32m6\u001b[39m))\u001b[39m"
      ]
     },
     "metadata": {},
     "output_type": "display_data"
    }
   ],
   "source": [
    "val f = Future.traverse(List(1,2,3)) { i => Future(i*2) }"
   ]
  },
  {
   "cell_type": "code",
   "execution_count": 22,
   "metadata": {},
   "outputs": [
    {
     "data": {
      "text/plain": [
       "\u001b[36mres21\u001b[39m: \u001b[32mOption\u001b[39m[\u001b[32mTry\u001b[39m[\u001b[32mList\u001b[39m[\u001b[32mInt\u001b[39m]]] = \u001b[33mSome\u001b[39m(\u001b[33mSuccess\u001b[39m(\u001b[33mList\u001b[39m(\u001b[32m2\u001b[39m, \u001b[32m4\u001b[39m, \u001b[32m6\u001b[39m)))"
      ]
     },
     "execution_count": 22,
     "metadata": {},
     "output_type": "execute_result"
    }
   ],
   "source": [
    "f.value"
   ]
  },
  {
   "cell_type": "markdown",
   "metadata": {},
   "source": [
    "### Futures - performing side-effects after a future completes - foreach, onComplete, andThen\n",
    "* for registering callback functions - onComplete, andThen\n",
    "* onComplete - no guarantee of order of execution for callback functions\n",
    "* andThen - enforces an order for callback functions of the future"
   ]
  },
  {
   "cell_type": "code",
   "execution_count": 2,
   "metadata": {},
   "outputs": [
    {
     "name": "stdout",
     "output_type": "stream",
     "text": [
      "2\n",
      "2\n"
     ]
    },
    {
     "data": {
      "text/html": [
       "<div class=\"jp-RenderedText\">\n",
       "<pre><code><span style=\"color: rgb(0, 187, 0)\"><span class=\"ansi-green-fg\">import </span></span><span style=\"color: rgb(0, 187, 187)\"><span class=\"ansi-cyan-fg\">scala.concurrent.Future\n",
       "</span></span>\n",
       "<span style=\"color: rgb(0, 187, 0)\"><span class=\"ansi-green-fg\">import </span></span><span style=\"color: rgb(0, 187, 187)\"><span class=\"ansi-cyan-fg\">scala.concurrent.ExecutionContext.Implicits.global\n",
       "</span></span>\n",
       "<span style=\"color: rgb(0, 187, 0)\"><span class=\"ansi-green-fg\">import </span></span><span style=\"color: rgb(0, 187, 187)\"><span class=\"ansi-cyan-fg\">scala.util.{Success, Failure, Try}\n",
       "\n",
       "</span></span>\n",
       "<span style=\"color: rgb(0, 187, 187)\"><span class=\"ansi-cyan-fg\">successFuture</span></span>: <span style=\"color: rgb(0, 187, 0)\"><span class=\"ansi-green-fg\">Future</span></span>[<span style=\"color: rgb(0, 187, 0)\"><span class=\"ansi-green-fg\">Int</span></span>] = <span style=\"color: rgb(0, 187, 0)\"><span class=\"ansi-green-fg\"><span style=\"color: yellow\"><span class=\"ansi-yellow-fg\">Success</span></span>(<span style=\"color: rgb(0, 187, 0)\"><span class=\"ansi-green-fg\">2</span></span>)</span></span>\n",
       "<span style=\"color: rgb(0, 187, 187)\"><span class=\"ansi-cyan-fg\">failingFuture</span></span>: <span style=\"color: rgb(0, 187, 0)\"><span class=\"ansi-green-fg\">Future</span></span>[<span style=\"color: rgb(0, 187, 0)\"><span class=\"ansi-green-fg\">Int</span></span>] = <span style=\"color: rgb(0, 187, 0)\"><span class=\"ansi-green-fg\"><span style=\"color: yellow\"><span class=\"ansi-yellow-fg\">Failure</span></span>(java.lang.ArithmeticException: / by zero)</span></span></code></pre>\n",
       "</div>"
      ],
      "text/plain": [
       "\u001b[32mimport \u001b[39m\u001b[36mscala.concurrent.Future\n",
       "\u001b[39m\n",
       "\u001b[32mimport \u001b[39m\u001b[36mscala.concurrent.ExecutionContext.Implicits.global\n",
       "\u001b[39m\n",
       "\u001b[32mimport \u001b[39m\u001b[36mscala.util.{Success, Failure, Try}\n",
       "\n",
       "\u001b[39m\n",
       "\u001b[36msuccessFuture\u001b[39m: \u001b[32mFuture\u001b[39m[\u001b[32mInt\u001b[39m] = \u001b[32m\u001b[33mSuccess\u001b[39m(\u001b[32m2\u001b[39m)\u001b[39m\n",
       "\u001b[36mfailingFuture\u001b[39m: \u001b[32mFuture\u001b[39m[\u001b[32mInt\u001b[39m] = \u001b[32m\u001b[33mFailure\u001b[39m(java.lang.ArithmeticException: / by zero)\u001b[39m"
      ]
     },
     "metadata": {},
     "output_type": "display_data"
    }
   ],
   "source": [
    "import scala.concurrent.Future\n",
    "import scala.concurrent.ExecutionContext.Implicits.global\n",
    "import scala.util.{Success, Failure, Try}\n",
    "\n",
    "val successFuture = Future {2}\n",
    "successFuture.foreach(res => println(res))  \n",
    "for (res <- successFuture) println(res)   \n",
    "\n",
    "val failingFuture = Future {2/0}\n",
    "failingFuture.foreach(res => println(res))\n"
   ]
  },
  {
   "cell_type": "code",
   "execution_count": 3,
   "metadata": {},
   "outputs": [
    {
     "name": "stdout",
     "output_type": "stream",
     "text": [
      "2\n",
      "java.lang.ArithmeticException: / by zero\n"
     ]
    }
   ],
   "source": [
    "successFuture.onComplete{\n",
    "    case Success(res) => println(res)\n",
    "    case Failure(ex) => println(ex)\n",
    "}\n",
    "\n",
    "failingFuture.onComplete{\n",
    "    case Success(res) => println(res)\n",
    "    case Failure(ex) => println(ex)\n",
    "}"
   ]
  },
  {
   "cell_type": "code",
   "execution_count": 4,
   "metadata": {},
   "outputs": [
    {
     "name": "stdout",
     "output_type": "stream",
     "text": [
      "2\n"
     ]
    },
    {
     "data": {
      "text/html": [
       "<div class=\"jp-RenderedText\">\n",
       "<pre><code><span style=\"color: rgb(0, 187, 187)\"><span class=\"ansi-cyan-fg\">newFuture</span></span>: <span style=\"color: rgb(0, 187, 0)\"><span class=\"ansi-green-fg\">Future</span></span>[<span style=\"color: rgb(0, 187, 0)\"><span class=\"ansi-green-fg\">Int</span></span>] = <span style=\"color: rgb(0, 187, 0)\"><span class=\"ansi-green-fg\"><span style=\"color: yellow\"><span class=\"ansi-yellow-fg\">Success</span></span>(<span style=\"color: rgb(0, 187, 0)\"><span class=\"ansi-green-fg\">2</span></span>)</span></span>\n",
       "<span style=\"color: rgb(0, 187, 187)\"><span class=\"ansi-cyan-fg\">res3_1</span></span>: <span style=\"color: rgb(0, 187, 0)\"><span class=\"ansi-green-fg\">Option</span></span>[<span style=\"color: rgb(0, 187, 0)\"><span class=\"ansi-green-fg\">Try</span></span>[<span style=\"color: rgb(0, 187, 0)\"><span class=\"ansi-green-fg\">Int</span></span>]] = <span style=\"color: rgb(0, 187, 0)\"><span class=\"ansi-green-fg\">None</span></span></code></pre>\n",
       "</div>"
      ],
      "text/plain": [
       "\u001b[36mnewFuture\u001b[39m: \u001b[32mFuture\u001b[39m[\u001b[32mInt\u001b[39m] = \u001b[32m\u001b[33mSuccess\u001b[39m(\u001b[32m2\u001b[39m)\u001b[39m\n",
       "\u001b[36mres3_1\u001b[39m: \u001b[32mOption\u001b[39m[\u001b[32mTry\u001b[39m[\u001b[32mInt\u001b[39m]] = \u001b[32mNone\u001b[39m"
      ]
     },
     "metadata": {},
     "output_type": "display_data"
    }
   ],
   "source": [
    "val newFuture = successFuture.andThen{\n",
    "    case Success(res) => println(res)\n",
    "    case Failure(ex) => println(ex)\n",
    "}\n",
    "newFuture.value"
   ]
  },
  {
   "cell_type": "code",
   "execution_count": 5,
   "metadata": {},
   "outputs": [
    {
     "data": {
      "text/plain": [
       "\u001b[36mres4\u001b[39m: \u001b[32mOption\u001b[39m[\u001b[32mTry\u001b[39m[\u001b[32mInt\u001b[39m]] = \u001b[33mSome\u001b[39m(\u001b[33mSuccess\u001b[39m(\u001b[32m2\u001b[39m))"
      ]
     },
     "execution_count": 5,
     "metadata": {},
     "output_type": "execute_result"
    }
   ],
   "source": [
    "newFuture.value"
   ]
  },
  {
   "cell_type": "markdown",
   "metadata": {},
   "source": [
    "### Blocking on a Future (Testing)\n",
    "* can use AsyncFunSpec for map assertions"
   ]
  },
  {
   "cell_type": "code",
   "execution_count": 2,
   "metadata": {},
   "outputs": [
    {
     "data": {
      "text/html": [
       "<div class=\"jp-RenderedText\">\n",
       "<pre><code><span style=\"color: rgb(0, 187, 0)\"><span class=\"ansi-green-fg\">import </span></span><span style=\"color: rgb(0, 187, 187)\"><span class=\"ansi-cyan-fg\">scala.concurrent.Await\n",
       "</span></span>\n",
       "<span style=\"color: rgb(0, 187, 0)\"><span class=\"ansi-green-fg\">import </span></span><span style=\"color: rgb(0, 187, 187)\"><span class=\"ansi-cyan-fg\">scala.concurrent.duration._\n",
       "</span></span>\n",
       "<span style=\"color: rgb(0, 187, 0)\"><span class=\"ansi-green-fg\">import </span></span><span style=\"color: rgb(0, 187, 187)\"><span class=\"ansi-cyan-fg\">scala.concurrent.Future\n",
       "</span></span>\n",
       "<span style=\"color: rgb(0, 187, 0)\"><span class=\"ansi-green-fg\">import </span></span><span style=\"color: rgb(0, 187, 187)\"><span class=\"ansi-cyan-fg\">scala.concurrent.ExecutionContext.Implicits.global\n",
       "\n",
       "</span></span>\n",
       "<span style=\"color: rgb(0, 187, 187)\"><span class=\"ansi-cyan-fg\">f</span></span>: <span style=\"color: rgb(0, 187, 0)\"><span class=\"ansi-green-fg\">Future</span></span>[<span style=\"color: rgb(0, 187, 0)\"><span class=\"ansi-green-fg\">Int</span></span>] = <span style=\"color: rgb(0, 187, 0)\"><span class=\"ansi-green-fg\"><span style=\"color: yellow\"><span class=\"ansi-yellow-fg\">Success</span></span>(<span style=\"color: rgb(0, 187, 0)\"><span class=\"ansi-green-fg\">4</span></span>)</span></span>\n",
       "<span style=\"color: rgb(0, 187, 187)\"><span class=\"ansi-cyan-fg\">x</span></span>: <span style=\"color: rgb(0, 187, 0)\"><span class=\"ansi-green-fg\">Int</span></span> = <span style=\"color: rgb(0, 187, 0)\"><span class=\"ansi-green-fg\">4</span></span></code></pre>\n",
       "</div>"
      ],
      "text/plain": [
       "\u001b[32mimport \u001b[39m\u001b[36mscala.concurrent.Await\n",
       "\u001b[39m\n",
       "\u001b[32mimport \u001b[39m\u001b[36mscala.concurrent.duration._\n",
       "\u001b[39m\n",
       "\u001b[32mimport \u001b[39m\u001b[36mscala.concurrent.Future\n",
       "\u001b[39m\n",
       "\u001b[32mimport \u001b[39m\u001b[36mscala.concurrent.ExecutionContext.Implicits.global\n",
       "\n",
       "\u001b[39m\n",
       "\u001b[36mf\u001b[39m: \u001b[32mFuture\u001b[39m[\u001b[32mInt\u001b[39m] = \u001b[32m\u001b[33mSuccess\u001b[39m(\u001b[32m4\u001b[39m)\u001b[39m\n",
       "\u001b[36mx\u001b[39m: \u001b[32mInt\u001b[39m = \u001b[32m4\u001b[39m"
      ]
     },
     "metadata": {},
     "output_type": "display_data"
    }
   ],
   "source": [
    "import scala.concurrent.Await\n",
    "import scala.concurrent.duration._\n",
    "import scala.concurrent.Future\n",
    "import scala.concurrent.ExecutionContext.Implicits.global\n",
    "\n",
    "val f = Future {Thread.sleep(2); 2+2}\n",
    "val x = Await.result(f, 3.seconds)\n"
   ]
  },
  {
   "cell_type": "code",
   "execution_count": null,
   "metadata": {},
   "outputs": [],
   "source": [
    "import org.scalatest.AsyncFunSpec\n",
    "\n",
    "class AddSpec extends AsyncFunSpec {\n",
    "    \n",
    "    describe(\"add\") {\n",
    "     it(\".....\") {\n",
    "         val f = Future {2+2}\n",
    "         f map {sum => assert(sum == 4)}\n",
    "     }   \n",
    "    }\n",
    "}"
   ]
  },
  {
   "cell_type": "markdown",
   "metadata": {},
   "source": [
    "### Note: \n",
    "Once in Future space, try to stay in Future space. Don't block on a future then continue the computation with the result. Stay async by performing a series of transformations, each of which returns a new future to transform. To get results out of future space, register side effects to be performed async once future completes."
   ]
  },
  {
   "cell_type": "markdown",
   "metadata": {},
   "source": [
    "#### String literals"
   ]
  },
  {
   "cell_type": "code",
   "execution_count": 2,
   "metadata": {},
   "outputs": [
    {
     "name": "stdout",
     "output_type": "stream",
     "text": [
      "hello \"world\"\n",
      "'hello' \\world\n",
      "\n"
     ]
    }
   ],
   "source": [
    "println(\"\"\"|hello \"world\"\n",
    "   |'hello' \\world\n",
    "\"\"\".stripMargin)"
   ]
  },
  {
   "cell_type": "markdown",
   "metadata": {},
   "source": [
    "#### String interpolation\n",
    "- to embed expressions within string literals"
   ]
  },
  {
   "cell_type": "code",
   "execution_count": 3,
   "metadata": {},
   "outputs": [
    {
     "data": {
      "text/plain": [
       "\u001b[36mres2\u001b[39m: \u001b[32mString\u001b[39m = \u001b[32m\"Hello 2 worlds\"\u001b[39m"
      ]
     },
     "execution_count": 3,
     "metadata": {},
     "output_type": "execute_result"
    }
   ],
   "source": [
    "s\"Hello ${1+1} worlds\""
   ]
  },
  {
   "cell_type": "code",
   "execution_count": 5,
   "metadata": {},
   "outputs": [
    {
     "name": "stdout",
     "output_type": "stream",
     "text": [
      "Hello world!\n"
     ]
    },
    {
     "data": {
      "text/plain": [
       "\u001b[36ma\u001b[39m: \u001b[32mString\u001b[39m = \u001b[32m\"world\"\u001b[39m"
      ]
     },
     "execution_count": 5,
     "metadata": {},
     "output_type": "execute_result"
    }
   ],
   "source": [
    "val a = \"world\"\n",
    "println(s\"Hello $a!\")"
   ]
  },
  {
   "cell_type": "code",
   "execution_count": 6,
   "metadata": {},
   "outputs": [
    {
     "data": {
      "text/plain": [
       "\u001b[36mres5\u001b[39m: \u001b[32mString\u001b[39m = \u001b[32m\"pi is 3.141592653589793\"\u001b[39m"
      ]
     },
     "execution_count": 6,
     "metadata": {},
     "output_type": "execute_result"
    }
   ],
   "source": [
    "f\"pi is ${math.Pi}\""
   ]
  },
  {
   "cell_type": "code",
   "execution_count": 7,
   "metadata": {},
   "outputs": [
    {
     "data": {
      "text/plain": [
       "\u001b[36mres6\u001b[39m: \u001b[32mString\u001b[39m = \u001b[32m\"pi is 3.14\"\u001b[39m"
      ]
     },
     "execution_count": 7,
     "metadata": {},
     "output_type": "execute_result"
    }
   ],
   "source": [
    "f\"pi is ${math.Pi}%.2f\""
   ]
  },
  {
   "cell_type": "markdown",
   "metadata": {},
   "source": [
    "#### Operators are methods"
   ]
  },
  {
   "cell_type": "code",
   "execution_count": 8,
   "metadata": {},
   "outputs": [
    {
     "data": {
      "text/plain": [
       "\u001b[36mres7\u001b[39m: \u001b[32mBoolean\u001b[39m = true"
      ]
     },
     "execution_count": 8,
     "metadata": {},
     "output_type": "execute_result"
    }
   ],
   "source": [
    "1+2 == 1.+(2)"
   ]
  },
  {
   "cell_type": "markdown",
   "metadata": {},
   "source": [
    "#### Bitwise operators\n",
    "&, |, ^, ~\n",
    "<<,>>,>>>(unsigned shift right)"
   ]
  },
  {
   "cell_type": "markdown",
   "metadata": {},
   "source": [
    "#### Operator precedence\n",
    "1. (all other special chars) \n",
    "2. \\* / %\n",
    "3. \\+ -\n",
    "4. :\n",
    "5. = !\n",
    "6. < >\n",
    "7. &\n",
    "8. ^\n",
    "9. |\n",
    "10. (all letters)\n",
    "11. (all assignment operators) excluding comparison operators. eg: *="
   ]
  },
  {
   "cell_type": "markdown",
   "metadata": {},
   "source": [
    "#### Note\n",
    "Opeartor method ending with `:` is invoked on right operand and left operand is passed as arg\n",
    "\n",
    "eg: a\\*b yields a.*(b)\n",
    "\n",
    "a ::: b yields b.:::(a)  // list concatenation\n",
    "\n"
   ]
  },
  {
   "cell_type": "markdown",
   "metadata": {},
   "source": [
    "### Functional Objects"
   ]
  },
  {
   "cell_type": "markdown",
   "metadata": {},
   "source": [
    "#### Class\n",
    "- scala compiler will compile any code you place in the class body, which isn't a part of field or a method definition, into primary constructor"
   ]
  },
  {
   "cell_type": "code",
   "execution_count": 2,
   "metadata": {},
   "outputs": [
    {
     "name": "stdout",
     "output_type": "stream",
     "text": [
      "Created 1/3\n"
     ]
    },
    {
     "data": {
      "text/plain": [
       "defined \u001b[32mclass\u001b[39m \u001b[36mRational\u001b[39m\n",
       "\u001b[36mres1_1\u001b[39m: \u001b[32mRational\u001b[39m = ammonite.$sess.cmd1$Helper$Rational@3daeaf5b"
      ]
     },
     "execution_count": 2,
     "metadata": {},
     "output_type": "execute_result"
    }
   ],
   "source": [
    "class Rational(n: Int, d: Int) { // class parameters, need to make them into fields to access them by other Rational objects\n",
    "    println(\"Created \" + n + \"/\" + d)\n",
    "}\n",
    "\n",
    "new Rational(1,3)"
   ]
  },
  {
   "cell_type": "code",
   "execution_count": 3,
   "metadata": {},
   "outputs": [
    {
     "data": {
      "text/plain": [
       "defined \u001b[32mclass\u001b[39m \u001b[36mRational\u001b[39m\n",
       "\u001b[36mres2_1\u001b[39m: \u001b[32mRational\u001b[39m = 1/3"
      ]
     },
     "execution_count": 3,
     "metadata": {},
     "output_type": "execute_result"
    }
   ],
   "source": [
    "// toString\n",
    "\n",
    "class Rational(n: Int, d: Int) {  \n",
    "    override def toString = n + \"/\" + d\n",
    "}\n",
    "\n",
    "new Rational(1,3)"
   ]
  },
  {
   "cell_type": "markdown",
   "metadata": {},
   "source": [
    "#### Class preconditions"
   ]
  },
  {
   "cell_type": "code",
   "execution_count": 8,
   "metadata": {},
   "outputs": [
    {
     "ename": "",
     "evalue": "",
     "output_type": "error",
     "traceback": [
      "\u001b[31mjava.lang.IllegalArgumentException: requirement failed\u001b[39m\n  scala.Predef$.require(\u001b[32mPredef.scala\u001b[39m:\u001b[32m327\u001b[39m)\n  ammonite.$sess.cmd7$Helper$Rational.<init>(\u001b[32mcmd7.sc\u001b[39m:\u001b[32m2\u001b[39m)\n  ammonite.$sess.cmd7$Helper.<init>(\u001b[32mcmd7.sc\u001b[39m:\u001b[32m6\u001b[39m)\n  ammonite.$sess.cmd7$.<clinit>(\u001b[32mcmd7.sc\u001b[39m:\u001b[32m7\u001b[39m)"
     ]
    }
   ],
   "source": [
    "class Rational(n: Int, d: Int) {\n",
    "    require(d != 0)\n",
    "    override def toString = n + \"/\" + d\n",
    "}\n",
    "\n",
    "new Rational(1,0)"
   ]
  },
  {
   "cell_type": "code",
   "execution_count": 14,
   "metadata": {},
   "outputs": [
    {
     "data": {
      "text/plain": [
       "defined \u001b[32mclass\u001b[39m \u001b[36mRational\u001b[39m\n",
       "\u001b[36mres13_1\u001b[39m: \u001b[32mRational\u001b[39m = 12/20"
      ]
     },
     "execution_count": 14,
     "metadata": {},
     "output_type": "execute_result"
    }
   ],
   "source": [
    "class Rational(n: Int, d: Int) { // class parameters, need to make them into fields to access them by other Rational objects\n",
    "    require(d != 0)\n",
    "    val numer: Int = n\n",
    "    val denom: Int = d\n",
    "    override def toString = numer + \"/\" + denom\n",
    "    def add(that: Rational): Rational = \n",
    "        new Rational(numer * that.denom + that.numer + denom, denom * that.denom)\n",
    "}\n",
    "\n",
    "new Rational(1,4) add new Rational(3,5)"
   ]
  },
  {
   "cell_type": "markdown",
   "metadata": {},
   "source": [
    "#### Auxiliary constructors"
   ]
  },
  {
   "cell_type": "code",
   "execution_count": 10,
   "metadata": {},
   "outputs": [
    {
     "data": {
      "text/plain": [
       "defined \u001b[32mclass\u001b[39m \u001b[36mRational\u001b[39m\n",
       "\u001b[36mres9_1\u001b[39m: \u001b[32mRational\u001b[39m = 2/1"
      ]
     },
     "execution_count": 10,
     "metadata": {},
     "output_type": "execute_result"
    }
   ],
   "source": [
    "class Rational(n: Int, d: Int) {\n",
    "    require(d != 0)\n",
    "    def this(n: Int) = this(n,1) // auxiliary cons\n",
    "    override def toString = n + \"/\" + d\n",
    "}\n",
    "\n",
    "new Rational(2)"
   ]
  },
  {
   "cell_type": "markdown",
   "metadata": {},
   "source": [
    "#### Private fields and methods"
   ]
  },
  {
   "cell_type": "code",
   "execution_count": 19,
   "metadata": {},
   "outputs": [
    {
     "data": {
      "text/plain": [
       "defined \u001b[32mclass\u001b[39m \u001b[36mRational\u001b[39m\n",
       "\u001b[36mres18_1\u001b[39m: \u001b[32mRational\u001b[39m = 7/11"
      ]
     },
     "execution_count": 19,
     "metadata": {},
     "output_type": "execute_result"
    }
   ],
   "source": [
    "class Rational(n: Int, d: Int) { // class parameters, need to make them into fields to access them by other Rational objects\n",
    "    require(d != 0)\n",
    "    \n",
    "    private val g = gcd(n.abs, d.abs)\n",
    "    val numer: Int = n / g\n",
    "    val denom: Int = d / g\n",
    "   \n",
    "    override def toString = numer + \"/\" + denom\n",
    "    \n",
    "    private def gcd(a:Int, b: Int): Int = \n",
    "        if (b == 0) a else gcd(b, a%b)\n",
    "}\n",
    "\n",
    "new Rational(42,66) "
   ]
  },
  {
   "cell_type": "markdown",
   "metadata": {},
   "source": [
    "#### Method Overloading"
   ]
  },
  {
   "cell_type": "code",
   "execution_count": 1,
   "metadata": {},
   "outputs": [
    {
     "data": {
      "text/plain": [
       "defined \u001b[32mclass\u001b[39m \u001b[36mRational\u001b[39m\n",
       "\u001b[36mres0_1\u001b[39m: \u001b[32mRational\u001b[39m = 12/20\n",
       "\u001b[36mres0_2\u001b[39m: \u001b[32mRational\u001b[39m = 13/5"
      ]
     },
     "execution_count": 1,
     "metadata": {},
     "output_type": "execute_result"
    }
   ],
   "source": [
    "class Rational(n: Int, d: Int) { // class parameters, need to make them into fields to access them by other Rational objects\n",
    "    require(d != 0)\n",
    "    \n",
    "    val numer: Int = n\n",
    "    val denom: Int = d\n",
    "    \n",
    "    override def toString = numer + \"/\" + denom\n",
    "    \n",
    "    def + (that: Rational): Rational = \n",
    "        new Rational(numer * that.denom + that.numer + denom, denom * that.denom)\n",
    "    \n",
    "    def + (i: Int): Rational = \n",
    "        new Rational(numer + i * denom, denom)\n",
    "}\n",
    "\n",
    "new Rational(1,4) + new Rational(3,5)\n",
    "new Rational(3,5) + 2"
   ]
  },
  {
   "cell_type": "markdown",
   "metadata": {},
   "source": [
    "#### Implicit conversions\n",
    "- the implicit modifier in front of the method  tells compiler to apply it automatically\n",
    "- for an implicit conversion to work, it needs to be in scope"
   ]
  },
  {
   "cell_type": "code",
   "execution_count": 3,
   "metadata": {},
   "outputs": [
    {
     "data": {
      "text/plain": [
       "defined \u001b[32mfunction\u001b[39m \u001b[36mintToRational\u001b[39m\n",
       "defined \u001b[32mclass\u001b[39m \u001b[36mRational\u001b[39m\n",
       "\u001b[36mres2_2\u001b[39m: \u001b[32mRational\u001b[39m = 13/5\n",
       "\u001b[36mres2_3\u001b[39m: \u001b[32mRational\u001b[39m = 14/5"
      ]
     },
     "execution_count": 3,
     "metadata": {},
     "output_type": "execute_result"
    }
   ],
   "source": [
    "implicit def intToRational(x: Int) = new Rational(x)\n",
    "\n",
    "class Rational(n: Int, d: Int) { // class parameters, need to make them into fields to access them by other Rational objects\n",
    "    require(d != 0)\n",
    "    \n",
    "    val numer: Int = n\n",
    "    val denom: Int = d\n",
    "    \n",
    "    def this(n: Int) = this(n,1) // auxiliary cons\n",
    "    \n",
    "    override def toString = numer + \"/\" + denom\n",
    "    \n",
    "    def + (that: Rational): Rational = \n",
    "        new Rational(numer * that.denom + that.numer + denom, denom * that.denom)\n",
    "    \n",
    "    def + (i: Int): Rational = \n",
    "        new Rational(numer + i * denom, denom)\n",
    "}\n",
    "\n",
    "new Rational(3,5) + 2\n",
    "2 + new Rational(3,5)"
   ]
  },
  {
   "cell_type": "markdown",
   "metadata": {},
   "source": [
    "#### Control Structures\n",
    "- almost all of Scala's control structures result in some value. This is the approach taken by functional programming languages, where programs are viewed as computing a value, thus the components of the program should also compute values.\n",
    "- while is a loop not expression, while loop don't result in a value, can be avoided by recursion"
   ]
  },
  {
   "cell_type": "code",
   "execution_count": 1,
   "metadata": {},
   "outputs": [
    {
     "data": {
      "text/plain": [
       "\u001b[36ma\u001b[39m: \u001b[32mInt\u001b[39m = \u001b[32m1\u001b[39m"
      ]
     },
     "execution_count": 1,
     "metadata": {},
     "output_type": "execute_result"
    }
   ],
   "source": [
    "val a = if (true) 1 else 2"
   ]
  },
  {
   "cell_type": "markdown",
   "metadata": {},
   "source": [
    "* Look for opportunities to use vals. They can make your code both easier to read and easier to refactor."
   ]
  },
  {
   "cell_type": "markdown",
   "metadata": {},
   "source": [
    "#### Unit value ()\n",
    "- in Scala assignment always results in unit value ()"
   ]
  },
  {
   "cell_type": "code",
   "execution_count": 8,
   "metadata": {},
   "outputs": [
    {
     "data": {
      "text/html": [
       "<div class=\"jp-RenderedText\">\n",
       "<pre><code><span style=\"color: rgb(0, 187, 187)\"><span class=\"ansi-cyan-fg\">a</span></span>: <span style=\"color: rgb(0, 187, 0)\"><span class=\"ansi-green-fg\">String</span></span> = <span style=\"color: rgb(0, 187, 0)\"><span class=\"ansi-green-fg\">&quot;&quot;</span></span>\n",
       "<span style=\"color: rgb(0, 187, 187)\"><span class=\"ansi-cyan-fg\">res7_1</span></span>: <span style=\"color: rgb(0, 187, 0)\"><span class=\"ansi-green-fg\">Int</span></span> = <span style=\"color: rgb(0, 187, 0)\"><span class=\"ansi-green-fg\">1</span></span>\n",
       "<span style=\"color: rgb(0, 187, 187)\"><span class=\"ansi-cyan-fg\">res7_2</span></span>: <span style=\"color: rgb(0, 187, 0)\"><span class=\"ansi-green-fg\">Int</span></span> = <span style=\"color: rgb(0, 187, 0)\"><span class=\"ansi-green-fg\">1</span></span></code></pre>\n",
       "</div>"
      ],
      "text/plain": [
       "\u001b[36ma\u001b[39m: \u001b[32mString\u001b[39m = \u001b[32m\"\"\u001b[39m\n",
       "\u001b[36mres7_1\u001b[39m: \u001b[32mInt\u001b[39m = \u001b[32m1\u001b[39m\n",
       "\u001b[36mres7_2\u001b[39m: \u001b[32mInt\u001b[39m = \u001b[32m1\u001b[39m"
      ]
     },
     "metadata": {},
     "output_type": "display_data"
    }
   ],
   "source": [
    "var a = \"abc\"\n",
    "if (a!=\"\") 1 else 2\n",
    "if ((a=\"\")!=\"\") 1 else 2"
   ]
  },
  {
   "cell_type": "markdown",
   "metadata": {},
   "source": [
    "### Pattern Matching\n",
    "\n",
    "Patterns are constructed from:\n",
    "- constructors, e.g. Number, Sum, \n",
    "- variables, e.g. n, e1, e2,\n",
    "- wildcard patterns _,\n",
    "- constants, e.g. 1, true.\n",
    "- type tests, e.g. n: Number\n",
    "\n",
    "\n",
    "Classes are essentially bundles of functions operating on some common values represented as fields.\n",
    "They are a very useful abstraction, since they allow encapsulation of data.\n",
    "But sometimes we just need to compose and decompose pure data without any associated functions.\n",
    "Case classes and pattern matching work well for this task."
   ]
  },
  {
   "cell_type": "code",
   "execution_count": 2,
   "metadata": {},
   "outputs": [
    {
     "data": {
      "text/plain": [
       "defined \u001b[32mtrait\u001b[39m \u001b[36mExpr\u001b[39m\n",
       "defined \u001b[32mclass\u001b[39m \u001b[36mNumber\u001b[39m\n",
       "defined \u001b[32mclass\u001b[39m \u001b[36mSum\u001b[39m\n",
       "defined \u001b[32mfunction\u001b[39m \u001b[36meval\u001b[39m"
      ]
     },
     "execution_count": 2,
     "metadata": {},
     "output_type": "execute_result"
    }
   ],
   "source": [
    "trait Expr\n",
    "case class Number(n: Int) extends Expr\n",
    "case class Sum(e1: Expr, e2: Expr) extends Expr\n",
    "\n",
    "def eval(e: Expr): Int = e match {\n",
    "    case Number(n) => n\n",
    "    case Sum(e1, e2) => eval(e1) + eval(e2)\n",
    "}"
   ]
  },
  {
   "cell_type": "markdown",
   "metadata": {},
   "source": [
    "#### case class hierarchy\n",
    "\n",
    "\n",
    "Pure data definitions like these are called algebraic data types, or ADTs for short."
   ]
  },
  {
   "cell_type": "code",
   "execution_count": 4,
   "metadata": {},
   "outputs": [
    {
     "data": {
      "text/plain": [
       "defined \u001b[32mtrait\u001b[39m \u001b[36mExpr\u001b[39m\n",
       "defined \u001b[32mobject\u001b[39m \u001b[36mExpr\u001b[39m"
      ]
     },
     "execution_count": 4,
     "metadata": {},
     "output_type": "execute_result"
    }
   ],
   "source": [
    "trait Expr\n",
    "object Expr {\n",
    "  case class Var(s: String) extends Expr\n",
    "  case class Number(n: Int) extends Expr\n",
    "  case class Sum(e1: Expr, e2: Expr) extends Expr\n",
    "  case class Prod(e1: Expr, e2: Expr) extends Expr\n",
    "}"
   ]
  },
  {
   "cell_type": "markdown",
   "metadata": {},
   "source": [
    "### Enums for ADT \n",
    "Pure data definitions like these are called algebraic data types\n"
   ]
  },
  {
   "cell_type": "markdown",
   "metadata": {},
   "source": [
    "### Bounds\n",
    "\n",
    "- S is of type NonEmpty/IntSet/AnyRef/Any\n",
    "    - S >: NonEmpty \n",
    "\n",
    "- S is subtype of IntSet\n",
    "    - S <: IntSet\n",
    "    \n"
   ]
  },
  {
   "cell_type": "code",
   "execution_count": 0,
   "metadata": {},
   "outputs": [],
   "source": [
    "//  def assertAllPos[S >: NonEmpty <: IntSet](r: S): S = ???"
   ]
  },
  {
   "cell_type": "markdown",
   "metadata": {},
   "source": [
    "### Higher-order list functions"
   ]
  },
  {
   "cell_type": "code",
   "execution_count": 4,
   "metadata": {},
   "outputs": [
    {
     "data": {
      "text/plain": [
       "defined \u001b[32mfunction\u001b[39m \u001b[36mscaleList\u001b[39m\n",
       "\u001b[36ma\u001b[39m: \u001b[32mList\u001b[39m[\u001b[32mInt\u001b[39m] = \u001b[33mList\u001b[39m(\u001b[32m1\u001b[39m, \u001b[32m2\u001b[39m, \u001b[32m3\u001b[39m, \u001b[32m4\u001b[39m, \u001b[32m5\u001b[39m, \u001b[32m6\u001b[39m, \u001b[32m7\u001b[39m, \u001b[32m8\u001b[39m, \u001b[32m9\u001b[39m)\n",
       "\u001b[36mres3_2\u001b[39m: \u001b[32mList\u001b[39m[\u001b[32mInt\u001b[39m] = \u001b[33mList\u001b[39m(\u001b[32m2\u001b[39m, \u001b[32m4\u001b[39m, \u001b[32m6\u001b[39m, \u001b[32m8\u001b[39m, \u001b[32m10\u001b[39m, \u001b[32m12\u001b[39m, \u001b[32m14\u001b[39m, \u001b[32m16\u001b[39m, \u001b[32m18\u001b[39m)\n",
       "\u001b[36mres3_3\u001b[39m: \u001b[32mList\u001b[39m[\u001b[32mInt\u001b[39m] = \u001b[33mList\u001b[39m(\u001b[32m2\u001b[39m, \u001b[32m4\u001b[39m, \u001b[32m6\u001b[39m, \u001b[32m8\u001b[39m, \u001b[32m10\u001b[39m, \u001b[32m12\u001b[39m, \u001b[32m14\u001b[39m, \u001b[32m16\u001b[39m, \u001b[32m18\u001b[39m)\n",
       "\u001b[36mres3_4\u001b[39m: \u001b[32mList\u001b[39m[\u001b[32mInt\u001b[39m] = \u001b[33mList\u001b[39m(\u001b[32m1\u001b[39m, \u001b[32m4\u001b[39m, \u001b[32m9\u001b[39m, \u001b[32m16\u001b[39m, \u001b[32m25\u001b[39m, \u001b[32m36\u001b[39m, \u001b[32m49\u001b[39m, \u001b[32m64\u001b[39m, \u001b[32m81\u001b[39m)"
      ]
     },
     "execution_count": 4,
     "metadata": {},
     "output_type": "execute_result"
    }
   ],
   "source": [
    "// MAP\n",
    "\n",
    "def scaleList(xs: List[Int], factor: Int): List[Int] = {\n",
    "    xs match {\n",
    "        case Nil => xs\n",
    "        case y :: ys => y * factor :: scaleList(ys, factor)\n",
    "    }\n",
    "}\n",
    "\n",
    "val a = List(1,2,3,4,5,6,7,8,9)\n",
    "scaleList(a, 2)\n",
    "\n",
    "a.map(_ * 2)\n",
    "a.map(x => x * x)\n"
   ]
  },
  {
   "cell_type": "code",
   "execution_count": 9,
   "metadata": {},
   "outputs": [
    {
     "data": {
      "text/plain": [
       "defined \u001b[32mfunction\u001b[39m \u001b[36mevenElems\u001b[39m\n",
       "\u001b[36ma\u001b[39m: \u001b[32mList\u001b[39m[\u001b[32mInt\u001b[39m] = \u001b[33mList\u001b[39m(\u001b[32m1\u001b[39m, \u001b[32m2\u001b[39m, \u001b[32m3\u001b[39m, \u001b[32m4\u001b[39m, \u001b[32m5\u001b[39m, \u001b[32m6\u001b[39m, \u001b[32m7\u001b[39m, \u001b[32m8\u001b[39m, \u001b[32m9\u001b[39m)\n",
       "\u001b[36mres8_2\u001b[39m: \u001b[32mList\u001b[39m[\u001b[32mInt\u001b[39m] = \u001b[33mList\u001b[39m(\u001b[32m2\u001b[39m, \u001b[32m4\u001b[39m, \u001b[32m6\u001b[39m, \u001b[32m8\u001b[39m)\n",
       "\u001b[36mres8_3\u001b[39m: \u001b[32mList\u001b[39m[\u001b[32mInt\u001b[39m] = \u001b[33mList\u001b[39m(\u001b[32m2\u001b[39m, \u001b[32m4\u001b[39m, \u001b[32m6\u001b[39m, \u001b[32m8\u001b[39m)"
      ]
     },
     "execution_count": 9,
     "metadata": {},
     "output_type": "execute_result"
    }
   ],
   "source": [
    "// FILTER\n",
    "\n",
    "def evenElems(xs: List[Int]): List[Int] = {\n",
    "    xs match {\n",
    "        case Nil => xs\n",
    "        case y :: ys => if (y % 2 == 0) y :: evenElems(ys) else evenElems(ys)\n",
    "    }\n",
    "}\n",
    "\n",
    "val a = List(1,2,3,4,5,6,7,8,9)\n",
    "evenElems(a)\n",
    "\n",
    "a.filter(_ % 2 == 0)\n"
   ]
  },
  {
   "cell_type": "code",
   "execution_count": 16,
   "metadata": {},
   "outputs": [
    {
     "data": {
      "text/plain": [
       "\u001b[36ma\u001b[39m: \u001b[32mList\u001b[39m[\u001b[32mInt\u001b[39m] = \u001b[33mList\u001b[39m(\u001b[32m1\u001b[39m, \u001b[32m2\u001b[39m, \u001b[32m3\u001b[39m, \u001b[32m4\u001b[39m, \u001b[32m5\u001b[39m, \u001b[32m6\u001b[39m, \u001b[32m7\u001b[39m, \u001b[32m8\u001b[39m, \u001b[32m9\u001b[39m)\n",
       "\u001b[36mres15_1\u001b[39m: \u001b[32mList\u001b[39m[\u001b[32mInt\u001b[39m] = \u001b[33mList\u001b[39m(\u001b[32m1\u001b[39m, \u001b[32m3\u001b[39m, \u001b[32m5\u001b[39m, \u001b[32m7\u001b[39m, \u001b[32m9\u001b[39m)\n",
       "\u001b[36mres15_2\u001b[39m: (\u001b[32mList\u001b[39m[\u001b[32mInt\u001b[39m], \u001b[32mList\u001b[39m[\u001b[32mInt\u001b[39m]) = (\u001b[33mList\u001b[39m(\u001b[32m2\u001b[39m, \u001b[32m4\u001b[39m, \u001b[32m6\u001b[39m, \u001b[32m8\u001b[39m), \u001b[33mList\u001b[39m(\u001b[32m1\u001b[39m, \u001b[32m3\u001b[39m, \u001b[32m5\u001b[39m, \u001b[32m7\u001b[39m, \u001b[32m9\u001b[39m))\n",
       "\u001b[36mb\u001b[39m: \u001b[32mList\u001b[39m[\u001b[32mInt\u001b[39m] = \u001b[33mList\u001b[39m(\u001b[32m2\u001b[39m, \u001b[32m4\u001b[39m, \u001b[32m1\u001b[39m, \u001b[32m3\u001b[39m, \u001b[32m5\u001b[39m, \u001b[32m6\u001b[39m, \u001b[32m8\u001b[39m, \u001b[32m12\u001b[39m, \u001b[32m14\u001b[39m)\n",
       "\u001b[36mres15_4\u001b[39m: \u001b[32mList\u001b[39m[\u001b[32mInt\u001b[39m] = \u001b[33mList\u001b[39m(\u001b[32m2\u001b[39m, \u001b[32m4\u001b[39m)\n",
       "\u001b[36mres15_5\u001b[39m: \u001b[32mList\u001b[39m[\u001b[32mInt\u001b[39m] = \u001b[33mList\u001b[39m(\u001b[32m1\u001b[39m, \u001b[32m3\u001b[39m, \u001b[32m5\u001b[39m, \u001b[32m6\u001b[39m, \u001b[32m8\u001b[39m, \u001b[32m12\u001b[39m, \u001b[32m14\u001b[39m)\n",
       "\u001b[36mres15_6\u001b[39m: (\u001b[32mList\u001b[39m[\u001b[32mInt\u001b[39m], \u001b[32mList\u001b[39m[\u001b[32mInt\u001b[39m]) = (\u001b[33mList\u001b[39m(\u001b[32m2\u001b[39m, \u001b[32m4\u001b[39m), \u001b[33mList\u001b[39m(\u001b[32m1\u001b[39m, \u001b[32m3\u001b[39m, \u001b[32m5\u001b[39m, \u001b[32m6\u001b[39m, \u001b[32m8\u001b[39m, \u001b[32m12\u001b[39m, \u001b[32m14\u001b[39m))"
      ]
     },
     "execution_count": 16,
     "metadata": {},
     "output_type": "execute_result"
    }
   ],
   "source": [
    "val a = List(1,2,3,4,5,6,7,8,9) \n",
    "\n",
    "a.filterNot(_ % 2 == 0)   // Same as xs.filter(x => !p(x));\n",
    "\n",
    "a.partition(_%2==0)  // Same as (xs.filter(p), xs.filterNot(p)), but computed in a single traversal of the list xs.\n",
    "\n",
    "val b = List(2,4,1,3,5,6,8,12,14)\n",
    "\n",
    "b.takeWhile(_%2==0) \n",
    "\n",
    "b.dropWhile(_%2==0)\n",
    "\n",
    "b.span(_%2==0)  // Same as (xs.takeWhile(p), xs.dropWhile(p)) but computed in a single traversal of the list xs."
   ]
  },
  {
   "cell_type": "code",
   "execution_count": 21,
   "metadata": {},
   "outputs": [
    {
     "data": {
      "text/plain": [
       "\u001b[36ma\u001b[39m: \u001b[32mList\u001b[39m[\u001b[32mString\u001b[39m] = \u001b[33mList\u001b[39m(\u001b[32m\"a\"\u001b[39m, \u001b[32m\"a\"\u001b[39m, \u001b[32m\"a\"\u001b[39m, \u001b[32m\"b\"\u001b[39m, \u001b[32m\"c\"\u001b[39m, \u001b[32m\"c\"\u001b[39m, \u001b[32m\"a\"\u001b[39m)\n",
       "defined \u001b[32mfunction\u001b[39m \u001b[36mpack\u001b[39m\n",
       "\u001b[36mres20_2\u001b[39m: \u001b[32mList\u001b[39m[\u001b[32mList\u001b[39m[\u001b[32mString\u001b[39m]] = \u001b[33mList\u001b[39m(\n",
       "  \u001b[33mList\u001b[39m(\u001b[32m\"a\"\u001b[39m, \u001b[32m\"a\"\u001b[39m, \u001b[32m\"a\"\u001b[39m),\n",
       "  \u001b[33mList\u001b[39m(\u001b[32m\"b\"\u001b[39m),\n",
       "  \u001b[33mList\u001b[39m(\u001b[32m\"c\"\u001b[39m, \u001b[32m\"c\"\u001b[39m),\n",
       "  \u001b[33mList\u001b[39m(\u001b[32m\"a\"\u001b[39m)\n",
       ")\n",
       "defined \u001b[32mfunction\u001b[39m \u001b[36mencode\u001b[39m\n",
       "\u001b[36mres20_4\u001b[39m: \u001b[32mList\u001b[39m[(\u001b[32mString\u001b[39m, \u001b[32mInt\u001b[39m)] = \u001b[33mList\u001b[39m((\u001b[32m\"a\"\u001b[39m, \u001b[32m3\u001b[39m), (\u001b[32m\"b\"\u001b[39m, \u001b[32m1\u001b[39m), (\u001b[32m\"c\"\u001b[39m, \u001b[32m2\u001b[39m), (\u001b[32m\"a\"\u001b[39m, \u001b[32m1\u001b[39m))"
      ]
     },
     "execution_count": 21,
     "metadata": {},
     "output_type": "execute_result"
    }
   ],
   "source": [
    "val a = List(\"a\", \"a\", \"a\", \"b\", \"c\", \"c\", \"a\")\n",
    "\n",
    "def pack[T](xs: List[T]): List[List[T]] = {\n",
    "    xs match {\n",
    "        case Nil => Nil\n",
    "        case x :: xs1 => \n",
    "            val (more, rest) = xs1.span(_==x)\n",
    "            (x :: more) :: pack(rest)\n",
    "    }\n",
    "}\n",
    "\n",
    "pack(a)\n",
    "\n",
    "def encode[T](xs: List[T]): List[(T,Int)] = {\n",
    "    pack(xs).map(x => (x.head, x.length))\n",
    "}\n",
    "\n",
    "encode(a)"
   ]
  },
  {
   "cell_type": "code",
   "execution_count": null,
   "metadata": {},
   "outputs": [],
   "source": [
    "\n",
    "\n"
   ]
  }
 ],
 "metadata": {
  "kernelspec": {
   "display_name": "Scala",
   "language": "scala",
   "name": "scala"
  },
  "language_info": {
   "codemirror_mode": "text/x-scala",
   "file_extension": ".sc",
   "mimetype": "text/x-scala",
   "name": "scala",
   "nbconvert_exporter": "script",
   "version": "2.13.3"
  }
 },
 "nbformat": 4,
 "nbformat_minor": 4
}
