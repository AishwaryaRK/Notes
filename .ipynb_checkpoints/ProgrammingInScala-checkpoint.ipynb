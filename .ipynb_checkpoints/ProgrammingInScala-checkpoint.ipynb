{
 "cells": [
  {
   "cell_type": "markdown",
   "metadata": {},
   "source": [
    "* If the function is recursive, explicitly specify the return type.\n",
    "* Avoid iterating through arrays with indexes\n",
    "* Imperative style - give one imperative cmd at a time, iterate with loops, often mutate state shared between functions.\n",
    "* Functional style - functions are first class constructs\n",
    "* function literal\n",
    "    (a: Int, b: Int) => a + b\n",
    "    \n",
    "* Methods should not have side effects. A method's only act should be to compute and  return a value.\n",
    "* Make objects immutable\n",
    "* Scala Array mutable, List immutable"
   ]
  },
  {
   "cell_type": "code",
   "execution_count": 1,
   "metadata": {},
   "outputs": [
    {
     "data": {
      "text/plain": [
       "\u001b[36mname\u001b[39m: \u001b[32mString\u001b[39m = \u001b[32m\"scaAla\"\u001b[39m\n",
       "\u001b[36mnameHasUpperCase\u001b[39m: \u001b[32mBoolean\u001b[39m = true"
      ]
     },
     "execution_count": 1,
     "metadata": {},
     "output_type": "execute_result"
    }
   ],
   "source": [
    "val name = \"scaAla\"\n",
    "val nameHasUpperCase = name.exists(_.isUpper)"
   ]
  },
  {
   "cell_type": "code",
   "execution_count": 18,
   "metadata": {},
   "outputs": [
    {
     "name": "stdout",
     "output_type": "stream",
     "text": [
      "1\n",
      "2\n",
      "3\n",
      "1\n",
      "2\n",
      "3\n",
      "1\n",
      "2\n",
      "3\n"
     ]
    },
    {
     "data": {
      "text/plain": [
       "\u001b[36ma\u001b[39m: \u001b[32mList\u001b[39m[\u001b[32mInt\u001b[39m] = \u001b[33mList\u001b[39m(\u001b[32m1\u001b[39m, \u001b[32m2\u001b[39m, \u001b[32m3\u001b[39m)\n",
       "\u001b[36mres17_3\u001b[39m: \u001b[32mList\u001b[39m[\u001b[32mInt\u001b[39m] = \u001b[33mList\u001b[39m(\u001b[32m3\u001b[39m, \u001b[32m6\u001b[39m, \u001b[32m9\u001b[39m)"
      ]
     },
     "execution_count": 18,
     "metadata": {},
     "output_type": "execute_result"
    }
   ],
   "source": [
    "val a = List(1,2,3)\n",
    "a.foreach( e => println(e))\n",
    "a.foreach(println)\n",
    "a.map(_ * 3)\n",
    "for (e <- a) println(e)"
   ]
  },
  {
   "cell_type": "code",
   "execution_count": 10,
   "metadata": {},
   "outputs": [
    {
     "name": "stdout",
     "output_type": "stream",
     "text": [
      "null\n"
     ]
    },
    {
     "data": {
      "text/plain": [
       "\u001b[36ma\u001b[39m: \u001b[32mArray\u001b[39m[\u001b[32mString\u001b[39m] = \u001b[33mArray\u001b[39m(\u001b[32m\"ab\"\u001b[39m, \u001b[32mnull\u001b[39m, \u001b[32mnull\u001b[39m)\n",
       "\u001b[36mres9_3\u001b[39m: \u001b[32mInt\u001b[39m = \u001b[32m3\u001b[39m\n",
       "\u001b[36mb\u001b[39m: \u001b[32mArray\u001b[39m[\u001b[32mString\u001b[39m] = \u001b[33mArray\u001b[39m(\u001b[32m\"ab\"\u001b[39m, \u001b[32m\"bc\"\u001b[39m, \u001b[32m\"ca\"\u001b[39m)"
      ]
     },
     "execution_count": 10,
     "metadata": {},
     "output_type": "execute_result"
    }
   ],
   "source": [
    "val a = new Array[String](3)   // avoid such way of creating and initializing array\n",
    "a(0) = \"ab\"  // a.update(0, \"ab\")\n",
    "println(a(1)) // a.apply(1)\n",
    "1 + 2 // (1).+(2)\n",
    "\n",
    "val b = Array(\"ab\",\"bc\", \"ca\") // better way of creating and initializing array\n",
    "// Array.apply(\"ab\",\"bc\", \"ca\") , here apply method from companion object of class Array"
   ]
  },
  {
   "cell_type": "code",
   "execution_count": 26,
   "metadata": {},
   "outputs": [
    {
     "data": {
      "text/plain": [
       "\u001b[36ma\u001b[39m: \u001b[32mList\u001b[39m[\u001b[32mInt\u001b[39m] = \u001b[33mList\u001b[39m(\u001b[32m1\u001b[39m, \u001b[32m2\u001b[39m)\n",
       "\u001b[36mb\u001b[39m: \u001b[32mList\u001b[39m[\u001b[32mInt\u001b[39m] = \u001b[33mList\u001b[39m(\u001b[32m2\u001b[39m, \u001b[32m3\u001b[39m)\n",
       "\u001b[36mc\u001b[39m: \u001b[32mList\u001b[39m[\u001b[32mInt\u001b[39m] = \u001b[33mList\u001b[39m(\u001b[32m1\u001b[39m, \u001b[32m2\u001b[39m, \u001b[32m2\u001b[39m, \u001b[32m3\u001b[39m)\n",
       "\u001b[36md\u001b[39m: \u001b[32mList\u001b[39m[\u001b[32mAny\u001b[39m] = \u001b[33mList\u001b[39m(\u001b[33mList\u001b[39m(\u001b[32m1\u001b[39m, \u001b[32m2\u001b[39m), \u001b[32m2\u001b[39m, \u001b[32m3\u001b[39m)\n",
       "\u001b[36me\u001b[39m: \u001b[32mList\u001b[39m[\u001b[32mAny\u001b[39m] = \u001b[33mList\u001b[39m(\u001b[32m\"aa\"\u001b[39m, \u001b[32m1\u001b[39m, \u001b[32m2\u001b[39m)"
      ]
     },
     "execution_count": 26,
     "metadata": {},
     "output_type": "execute_result"
    }
   ],
   "source": [
    "// List concatenation\n",
    "\n",
    "val a = List(1,2)\n",
    "val b = List(2,3)\n",
    "val c = a ::: b\n",
    "\n",
    "// cons ::  prepends entire param to beginning of second param\n",
    "val d = a :: b\n",
    "val e = \"aa\" :: a\n",
    "\n",
    "// operator associativity\n",
    "// a * b  -  a.*(b)   method is invoked on the left operand unless the method name ends in a colon\n",
    "// \"aa\" :: a  -  a.::(\"aa\")"
   ]
  },
  {
   "cell_type": "markdown",
   "metadata": {},
   "source": [
    "* Do not append to List (costly operation), use prepend and when done reverse, or can use ListBuffer (mutable) and when done call toList"
   ]
  },
  {
   "cell_type": "code",
   "execution_count": 58,
   "metadata": {},
   "outputs": [
    {
     "name": "stdout",
     "output_type": "stream",
     "text": [
      "applemangoabcapplemangoabc"
     ]
    },
    {
     "data": {
      "text/plain": [
       "\u001b[36ma\u001b[39m: \u001b[32mList\u001b[39m[\u001b[32mString\u001b[39m] = \u001b[33mList\u001b[39m(\u001b[32m\"apple\"\u001b[39m, \u001b[32m\"mango\"\u001b[39m, \u001b[32m\"abc\"\u001b[39m)\n",
       "\u001b[36mres57_1\u001b[39m: \u001b[32mInt\u001b[39m = \u001b[32m2\u001b[39m\n",
       "\u001b[36mres57_2\u001b[39m: \u001b[32mList\u001b[39m[\u001b[32mString\u001b[39m] = \u001b[33mList\u001b[39m(\u001b[32m\"abc\"\u001b[39m)\n",
       "\u001b[36mres57_3\u001b[39m: \u001b[32mList\u001b[39m[\u001b[32mString\u001b[39m] = \u001b[33mList\u001b[39m(\u001b[32m\"apple\"\u001b[39m)\n",
       "\u001b[36mres57_4\u001b[39m: \u001b[32mBoolean\u001b[39m = true\n",
       "\u001b[36mres57_5\u001b[39m: \u001b[32mList\u001b[39m[\u001b[32mString\u001b[39m] = \u001b[33mList\u001b[39m(\u001b[32m\"apple\"\u001b[39m, \u001b[32m\"mango\"\u001b[39m)\n",
       "\u001b[36mres57_6\u001b[39m: \u001b[32mList\u001b[39m[\u001b[32mString\u001b[39m] = \u001b[33mList\u001b[39m(\u001b[32m\"abc\"\u001b[39m)\n",
       "\u001b[36mres57_7\u001b[39m: \u001b[32mBoolean\u001b[39m = false\n",
       "\u001b[36mres57_8\u001b[39m: \u001b[32mString\u001b[39m = \u001b[32m\"apple\"\u001b[39m\n",
       "\u001b[36mres57_9\u001b[39m: \u001b[32mString\u001b[39m = \u001b[32m\"abc\"\u001b[39m\n",
       "\u001b[36mres57_10\u001b[39m: \u001b[32mList\u001b[39m[\u001b[32mString\u001b[39m] = \u001b[33mList\u001b[39m(\u001b[32m\"apple\"\u001b[39m, \u001b[32m\"mango\"\u001b[39m)\n",
       "\u001b[36mres57_11\u001b[39m: \u001b[32mList\u001b[39m[\u001b[32mString\u001b[39m] = \u001b[33mList\u001b[39m(\u001b[32m\"mango\"\u001b[39m, \u001b[32m\"abc\"\u001b[39m)\n",
       "\u001b[36mres57_12\u001b[39m: \u001b[32mBoolean\u001b[39m = false\n",
       "\u001b[36mres57_13\u001b[39m: \u001b[32mInt\u001b[39m = \u001b[32m3\u001b[39m\n",
       "\u001b[36mres57_14\u001b[39m: \u001b[32mList\u001b[39m[\u001b[32mString\u001b[39m] = \u001b[33mList\u001b[39m(\u001b[32m\"apple1\"\u001b[39m, \u001b[32m\"mango1\"\u001b[39m, \u001b[32m\"abc1\"\u001b[39m)\n",
       "\u001b[36mres57_15\u001b[39m: \u001b[32mString\u001b[39m = \u001b[32m\"apple*mango*abc\"\u001b[39m\n",
       "\u001b[36mres57_16\u001b[39m: \u001b[32mList\u001b[39m[\u001b[32mString\u001b[39m] = \u001b[33mList\u001b[39m(\u001b[32m\"abc\"\u001b[39m, \u001b[32m\"mango\"\u001b[39m, \u001b[32m\"apple\"\u001b[39m)\n",
       "\u001b[36mres57_17\u001b[39m: \u001b[32mList\u001b[39m[\u001b[32mString\u001b[39m] = \u001b[33mList\u001b[39m(\u001b[32m\"apple\"\u001b[39m, \u001b[32m\"abc\"\u001b[39m, \u001b[32m\"mango\"\u001b[39m)\n",
       "\u001b[36mres57_18\u001b[39m: \u001b[32mList\u001b[39m[\u001b[32mString\u001b[39m] = \u001b[33mList\u001b[39m(\u001b[32m\"apple\"\u001b[39m, \u001b[32m\"abc\"\u001b[39m, \u001b[32m\"mango\"\u001b[39m)\n",
       "\u001b[36mres57_19\u001b[39m: \u001b[32mList\u001b[39m[\u001b[32mString\u001b[39m] = \u001b[33mList\u001b[39m(\u001b[32m\"abc\"\u001b[39m, \u001b[32m\"apple\"\u001b[39m, \u001b[32m\"mango\"\u001b[39m)"
      ]
     },
     "execution_count": 58,
     "metadata": {},
     "output_type": "execute_result"
    }
   ],
   "source": [
    "// List methods\n",
    "\n",
    "val a = List(\"apple\", \"mango\", \"abc\")\n",
    "a.count(s => s.length == 5)\n",
    "a.drop(2)\n",
    "a.dropRight(2)\n",
    "a.exists(s => s == \"mango\")\n",
    "a.filter(s => s.length == 5)\n",
    "a.filterNot(s => s.length == 5)\n",
    "a.forall(s => s.endsWith(\"a\"))  // checks the condition for all elements of list\n",
    "a.head\n",
    "a.last\n",
    "a.init  // returns list of all elements except last element\n",
    "a.tail  // returns list of all elements except first element\n",
    "a.isEmpty\n",
    "a.length\n",
    "a.map(_ + \"1\") // a.map(s => s + \"1\")\n",
    "a.mkString(\"*\")\n",
    "a.reverse \n",
    "a.sortWith((s,t) => s.charAt(0).toLower < t.charAt(0).toLower)\n",
    "a.sortWith(_.charAt(0).toLower < _.charAt(0).toLower)\n",
    "a.sorted\n",
    "\n",
    "a.foreach(s => print(s))\n",
    "a.foreach(print)"
   ]
  },
  {
   "cell_type": "markdown",
   "metadata": {},
   "source": [
    "* Tuples, Lists - immutable\n",
    "* unlike Lists, tuples can contain different types of elements\n",
    "* Tuples are useful when you want to return multiple objects from a method.\n",
    "* Tuple - One-based index\n",
    "* Maps, Sets - immutable and mutable"
   ]
  },
  {
   "cell_type": "code",
   "execution_count": 2,
   "metadata": {},
   "outputs": [
    {
     "data": {
      "text/plain": [
       "\u001b[36ma\u001b[39m: (\u001b[32mInt\u001b[39m, \u001b[32mString\u001b[39m, \u001b[32mChar\u001b[39m) = (\u001b[32m2\u001b[39m, \u001b[32m\"ab\"\u001b[39m, \u001b[32m'c'\u001b[39m)\n",
       "\u001b[36mres1_1\u001b[39m: \u001b[32mInt\u001b[39m = \u001b[32m2\u001b[39m"
      ]
     },
     "execution_count": 2,
     "metadata": {},
     "output_type": "execute_result"
    }
   ],
   "source": [
    "val a = (2,\"ab\",'c')\n",
    "a._1"
   ]
  },
  {
   "cell_type": "code",
   "execution_count": 5,
   "metadata": {},
   "outputs": [
    {
     "data": {
      "text/html": [
       "<div class=\"jp-RenderedText\">\n",
       "<pre><code><span style=\"color: rgb(0, 187, 187)\"><span class=\"ansi-cyan-fg\">a</span></span>: <span style=\"color: rgb(0, 187, 0)\"><span class=\"ansi-green-fg\">Set</span></span>[<span style=\"color: rgb(0, 187, 0)\"><span class=\"ansi-green-fg\">Int</span></span>] = <span style=\"color: yellow\"><span class=\"ansi-yellow-fg\">Set</span></span>(<span style=\"color: rgb(0, 187, 0)\"><span class=\"ansi-green-fg\">1</span></span>, <span style=\"color: rgb(0, 187, 0)\"><span class=\"ansi-green-fg\">2</span></span>, <span style=\"color: rgb(0, 187, 0)\"><span class=\"ansi-green-fg\">3</span></span>)\n",
       "<span style=\"color: rgb(0, 187, 187)\"><span class=\"ansi-cyan-fg\">res4_2</span></span>: <span style=\"color: rgb(0, 187, 0)\"><span class=\"ansi-green-fg\">Boolean</span></span> = true</code></pre>\n",
       "</div>"
      ],
      "text/plain": [
       "\u001b[36ma\u001b[39m: \u001b[32mSet\u001b[39m[\u001b[32mInt\u001b[39m] = \u001b[33mSet\u001b[39m(\u001b[32m1\u001b[39m, \u001b[32m2\u001b[39m, \u001b[32m3\u001b[39m)\n",
       "\u001b[36mres4_2\u001b[39m: \u001b[32mBoolean\u001b[39m = true"
      ]
     },
     "metadata": {},
     "output_type": "display_data"
    }
   ],
   "source": [
    "var a = Set(1,2)  // with val you can use mutable set\n",
    "a += 3\n",
    "a.contains(3)"
   ]
  },
  {
   "cell_type": "code",
   "execution_count": 7,
   "metadata": {},
   "outputs": [
    {
     "data": {
      "text/plain": [
       "\u001b[36ma\u001b[39m: \u001b[32mMap\u001b[39m[\u001b[32mInt\u001b[39m, \u001b[32mString\u001b[39m] = \u001b[33mMap\u001b[39m(\u001b[32m1\u001b[39m -> \u001b[32m\"ab\"\u001b[39m, \u001b[32m2\u001b[39m -> \u001b[32m\"bc\"\u001b[39m)\n",
       "\u001b[36mres6_1\u001b[39m: \u001b[32mString\u001b[39m = \u001b[32m\"bc\"\u001b[39m"
      ]
     },
     "execution_count": 7,
     "metadata": {},
     "output_type": "execute_result"
    }
   ],
   "source": [
    "val a = Map(1->\"ab\",2->\"bc\") // Map[Int,String](1->\"ab\",2->\"bc\")\n",
    "a(2)"
   ]
  },
  {
   "cell_type": "markdown",
   "metadata": {},
   "source": [
    "* Recognizing functional style\n",
    "    * only vals, no vars (immutable objects)\n",
    "    * one sign of function with side effects is that it's result/return type is Unit, if the function isn't returning any interesting value."
   ]
  },
  {
   "cell_type": "code",
   "execution_count": 8,
   "metadata": {},
   "outputs": [
    {
     "data": {
      "text/plain": [
       "\u001b[36mres7\u001b[39m: \u001b[32mInt\u001b[39m = \u001b[32m55\u001b[39m"
      ]
     },
     "execution_count": 8,
     "metadata": {},
     "output_type": "execute_result"
    }
   ],
   "source": [
    "23.max(55)"
   ]
  },
  {
   "cell_type": "markdown",
   "metadata": {},
   "source": [
    "* reduceLeft method applies the passed func to the first two elements of the list then applies the func to the result of the first application and next element in list and so on."
   ]
  },
  {
   "cell_type": "code",
   "execution_count": 9,
   "metadata": {},
   "outputs": [
    {
     "data": {
      "text/plain": [
       "\u001b[36mlines\u001b[39m: \u001b[32mList\u001b[39m[\u001b[32mString\u001b[39m] = \u001b[33mList\u001b[39m(\u001b[32m\"asdf\"\u001b[39m, \u001b[32m\"qwerty\"\u001b[39m, \u001b[32m\"zxcvbnm\"\u001b[39m)\n",
       "\u001b[36mlongestLine\u001b[39m: \u001b[32mString\u001b[39m = \u001b[32m\"zxcvbnm\"\u001b[39m"
      ]
     },
     "execution_count": 9,
     "metadata": {},
     "output_type": "execute_result"
    }
   ],
   "source": [
    "val lines = List(\"asdf\",\"qwerty\",\"zxcvbnm\")\n",
    "val longestLine = lines.reduceLeft{(a,b) => if (a.length > b.length) a else b}"
   ]
  },
  {
   "cell_type": "code",
   "execution_count": null,
   "metadata": {},
   "outputs": [],
   "source": []
  }
 ],
 "metadata": {
  "kernelspec": {
   "display_name": "Scala",
   "language": "scala",
   "name": "scala"
  },
  "language_info": {
   "codemirror_mode": "text/x-scala",
   "file_extension": ".sc",
   "mimetype": "text/x-scala",
   "name": "scala",
   "nbconvert_exporter": "script",
   "version": "2.13.3"
  }
 },
 "nbformat": 4,
 "nbformat_minor": 4
}
